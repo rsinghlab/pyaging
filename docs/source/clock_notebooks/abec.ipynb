{
 "cells": [
  {
   "cell_type": "markdown",
   "id": "2f04eee0-5928-4e74-a754-6dc2e528810c",
   "metadata": {},
   "source": [
    "# ABEC"
   ]
  },
  {
   "cell_type": "markdown",
   "id": "a3f514a3-772c-4a14-afdf-5a8376851ff4",
   "metadata": {},
   "source": [
    "## Index\n",
    "1. [Instantiate model class](#Instantiate-model-class)\n",
    "2. [Define clock metadata](#Define-clock-metadata)\n",
    "3. [Download clock dependencies](#Download-clock-dependencies)\n",
    "5. [Load features](#Load-features)\n",
    "6. [Load weights into base model](#Load-weights-into-base-model)\n",
    "7. [Load reference values](#Load-reference-values)\n",
    "8. [Load preprocess and postprocess objects](#Load-preprocess-and-postprocess-objects)\n",
    "10. [Check all clock parameters](#Check-all-clock-parameters)\n",
    "10. [Basic test](#Basic-test)\n",
    "11. [Save torch model](#Save-torch-model)\n",
    "12. [Clear directory](#Clear-directory)"
   ]
  },
  {
   "cell_type": "markdown",
   "id": "d95fafdc-643a-40ea-a689-200bd132e90c",
   "metadata": {},
   "source": [
    "Let's first import some packages:"
   ]
  },
  {
   "cell_type": "code",
   "execution_count": 1,
   "id": "4adfb4de-cd79-4913-a1af-9e23e9e236c9",
   "metadata": {
    "execution": {
     "iopub.execute_input": "2025-04-07T17:47:27.165878Z",
     "iopub.status.busy": "2025-04-07T17:47:27.165445Z",
     "iopub.status.idle": "2025-04-07T17:47:28.530119Z",
     "shell.execute_reply": "2025-04-07T17:47:28.529809Z"
    }
   },
   "outputs": [],
   "source": [
    "import os\n",
    "import inspect\n",
    "import shutil\n",
    "import json\n",
    "import torch\n",
    "import pandas as pd\n",
    "import pyaging as pya"
   ]
  },
  {
   "cell_type": "markdown",
   "id": "145082e5-ced4-47ae-88c0-cb69773e3c5a",
   "metadata": {},
   "source": [
    "## Instantiate model class"
   ]
  },
  {
   "cell_type": "code",
   "execution_count": 2,
   "id": "8aa77372-7ed3-4da7-abc9-d30372106139",
   "metadata": {
    "execution": {
     "iopub.execute_input": "2025-04-07T17:47:28.531786Z",
     "iopub.status.busy": "2025-04-07T17:47:28.531575Z",
     "iopub.status.idle": "2025-04-07T17:47:28.542356Z",
     "shell.execute_reply": "2025-04-07T17:47:28.542081Z"
    }
   },
   "outputs": [
    {
     "name": "stdout",
     "output_type": "stream",
     "text": [
      "class ABEC(pyagingModel):\n",
      "    def __init__(self):\n",
      "        super().__init__()\n",
      "\n",
      "    def preprocess(self, x):\n",
      "        return x\n",
      "\n",
      "    def postprocess(self, x):\n",
      "        return x\n",
      "\n"
     ]
    }
   ],
   "source": [
    "def print_entire_class(cls):\n",
    "    source = inspect.getsource(cls)\n",
    "    print(source)\n",
    "\n",
    "print_entire_class(pya.models.ABEC)"
   ]
  },
  {
   "cell_type": "code",
   "execution_count": 3,
   "id": "78536494-f1d9-44de-8583-c89a310d2307",
   "metadata": {
    "execution": {
     "iopub.execute_input": "2025-04-07T17:47:28.543574Z",
     "iopub.status.busy": "2025-04-07T17:47:28.543492Z",
     "iopub.status.idle": "2025-04-07T17:47:28.545094Z",
     "shell.execute_reply": "2025-04-07T17:47:28.544856Z"
    }
   },
   "outputs": [],
   "source": [
    "model = pya.models.ABEC()"
   ]
  },
  {
   "cell_type": "markdown",
   "id": "51f8615e-01fa-4aa5-b196-3ee2b35d261c",
   "metadata": {},
   "source": [
    "## Define clock metadata"
   ]
  },
  {
   "cell_type": "code",
   "execution_count": 4,
   "id": "6601da9e-8adc-44ee-9308-75e3cd31b816",
   "metadata": {
    "execution": {
     "iopub.execute_input": "2025-04-07T17:47:28.546324Z",
     "iopub.status.busy": "2025-04-07T17:47:28.546245Z",
     "iopub.status.idle": "2025-04-07T17:47:28.548178Z",
     "shell.execute_reply": "2025-04-07T17:47:28.547942Z"
    }
   },
   "outputs": [],
   "source": [
    "model.metadata[\"clock_name\"] = 'abec'\n",
    "model.metadata[\"data_type\"] = 'methylation'\n",
    "model.metadata[\"species\"] = 'Homo sapiens'\n",
    "model.metadata[\"year\"] = 2020\n",
    "model.metadata[\"approved_by_author\"] = '⌛'\n",
    "model.metadata[\"citation\"] = \"Lee, Yunsung, et al. \\\"Blood-based epigenetic estimators of chronological age in human adults using DNA methylation data from the Illumina MethylationEPIC array.\\\" BMC genomics 21 (2020): 1-13.\"\n",
    "model.metadata[\"doi\"] = \"https://doi.org/10.1186/s12864-020-07168-8\"\n",
    "model.metadata[\"research_only\"] = None\n",
    "model.metadata[\"notes\"] = None"
   ]
  },
  {
   "cell_type": "markdown",
   "id": "74492239-5aae-4026-9d90-6bc9c574c110",
   "metadata": {},
   "source": [
    "## Download clock dependencies"
   ]
  },
  {
   "cell_type": "markdown",
   "id": "9a5b163b-1b25-4c2f-ad0c-86f0f2ed39d0",
   "metadata": {},
   "source": [
    "#### Download directly with curl"
   ]
  },
  {
   "cell_type": "code",
   "execution_count": 5,
   "id": "28fdcad4-1f62-4da7-b556-1ecc8cf3d0e0",
   "metadata": {
    "execution": {
     "iopub.execute_input": "2025-04-07T17:47:28.549453Z",
     "iopub.status.busy": "2025-04-07T17:47:28.549371Z",
     "iopub.status.idle": "2025-04-07T17:47:28.909731Z",
     "shell.execute_reply": "2025-04-07T17:47:28.908751Z"
    }
   },
   "outputs": [
    {
     "data": {
      "text/plain": [
       "0"
      ]
     },
     "execution_count": 5,
     "metadata": {},
     "output_type": "execute_result"
    }
   ],
   "source": [
    "supplementary_url = \"https://static-content.springer.com/esm/art%3A10.1186%2Fs12864-020-07168-8/MediaObjects/12864_2020_7168_MOESM1_ESM.csv\"\n",
    "supplementary_file_name = \"coefficients.csv\"\n",
    "os.system(f\"curl -o {supplementary_file_name} {supplementary_url}\")"
   ]
  },
  {
   "cell_type": "markdown",
   "id": "5035b180-3d1b-4432-8ebe-b9c92bd93a7f",
   "metadata": {},
   "source": [
    "## Load features"
   ]
  },
  {
   "cell_type": "markdown",
   "id": "15f4af76-b93c-438c-b57f-f129d6e9ec99",
   "metadata": {},
   "source": [
    "#### From CSV file"
   ]
  },
  {
   "cell_type": "code",
   "execution_count": 6,
   "id": "ec85c728",
   "metadata": {
    "execution": {
     "iopub.execute_input": "2025-04-07T17:47:28.913203Z",
     "iopub.status.busy": "2025-04-07T17:47:28.912899Z",
     "iopub.status.idle": "2025-04-07T17:47:28.944475Z",
     "shell.execute_reply": "2025-04-07T17:47:28.943986Z"
    }
   },
   "outputs": [],
   "source": [
    "df = pd.read_csv('coefficients.csv', index_col=0)\n",
    "df = df[~df['ABEC_coefficient'].isna()]\n",
    "df['feature'] = df.index.tolist()\n",
    "df['coefficient'] = df['ABEC_coefficient']\n",
    "model.features = df['feature'][1:].tolist()"
   ]
  },
  {
   "cell_type": "markdown",
   "id": "ee6d8fa0-4767-4c45-9717-eb1c95e2ddc0",
   "metadata": {},
   "source": [
    "## Load weights into base model"
   ]
  },
  {
   "cell_type": "code",
   "execution_count": 7,
   "id": "e09b3463-4fd4-41b1-ac21-e63ddd223fe0",
   "metadata": {
    "execution": {
     "iopub.execute_input": "2025-04-07T17:47:28.946819Z",
     "iopub.status.busy": "2025-04-07T17:47:28.946641Z",
     "iopub.status.idle": "2025-04-07T17:47:28.950135Z",
     "shell.execute_reply": "2025-04-07T17:47:28.949706Z"
    }
   },
   "outputs": [
    {
     "name": "stderr",
     "output_type": "stream",
     "text": [
      "<ipython-input-7-232b7c74dbf3>:2: FutureWarning: Series.__getitem__ treating keys as positions is deprecated. In a future version, integer keys will always be treated as labels (consistent with DataFrame behavior). To access a value by position, use `ser.iloc[pos]`\n",
      "  intercept = torch.tensor([df['coefficient'][0]])\n"
     ]
    }
   ],
   "source": [
    "weights = torch.tensor(df['coefficient'][1:].tolist()).unsqueeze(0)\n",
    "intercept = torch.tensor([df['coefficient'][0]])"
   ]
  },
  {
   "cell_type": "markdown",
   "id": "ad261636-5b00-4979-bb1d-67a851f7aa19",
   "metadata": {},
   "source": [
    "#### Linear model"
   ]
  },
  {
   "cell_type": "code",
   "execution_count": 8,
   "id": "d7f43b99-26f2-4622-9a76-316712058877",
   "metadata": {
    "execution": {
     "iopub.execute_input": "2025-04-07T17:47:28.951983Z",
     "iopub.status.busy": "2025-04-07T17:47:28.951843Z",
     "iopub.status.idle": "2025-04-07T17:47:28.954841Z",
     "shell.execute_reply": "2025-04-07T17:47:28.954448Z"
    }
   },
   "outputs": [],
   "source": [
    "base_model = pya.models.LinearModel(input_dim=len(model.features))\n",
    "\n",
    "base_model.linear.weight.data = weights.float()\n",
    "base_model.linear.bias.data = intercept.float()\n",
    "\n",
    "model.base_model = base_model"
   ]
  },
  {
   "cell_type": "markdown",
   "id": "ad8b4c1d-9d57-48b7-9a30-bcfea7b747b1",
   "metadata": {},
   "source": [
    "## Load reference values"
   ]
  },
  {
   "cell_type": "code",
   "execution_count": 9,
   "id": "86de757f-fb38-4bcb-b91e-fc3372d22aad",
   "metadata": {
    "execution": {
     "iopub.execute_input": "2025-04-07T17:47:28.956614Z",
     "iopub.status.busy": "2025-04-07T17:47:28.956460Z",
     "iopub.status.idle": "2025-04-07T17:47:28.958365Z",
     "shell.execute_reply": "2025-04-07T17:47:28.957994Z"
    }
   },
   "outputs": [],
   "source": [
    "model.reference_values = None"
   ]
  },
  {
   "cell_type": "markdown",
   "id": "af3bcf7b-74a8-4d21-9ccb-4de0c2b0516b",
   "metadata": {},
   "source": [
    "## Load preprocess and postprocess objects"
   ]
  },
  {
   "cell_type": "code",
   "execution_count": 10,
   "id": "7a22fb20-c605-424d-8efb-7620c2c0755c",
   "metadata": {
    "execution": {
     "iopub.execute_input": "2025-04-07T17:47:28.960228Z",
     "iopub.status.busy": "2025-04-07T17:47:28.960080Z",
     "iopub.status.idle": "2025-04-07T17:47:28.961941Z",
     "shell.execute_reply": "2025-04-07T17:47:28.961621Z"
    }
   },
   "outputs": [],
   "source": [
    "model.preprocess_name = None\n",
    "model.preprocess_dependencies = None"
   ]
  },
  {
   "cell_type": "code",
   "execution_count": 11,
   "id": "ff4a21cb-cf41-44dc-9ed1-95cf8aa15772",
   "metadata": {
    "execution": {
     "iopub.execute_input": "2025-04-07T17:47:28.963450Z",
     "iopub.status.busy": "2025-04-07T17:47:28.963319Z",
     "iopub.status.idle": "2025-04-07T17:47:28.965040Z",
     "shell.execute_reply": "2025-04-07T17:47:28.964714Z"
    }
   },
   "outputs": [],
   "source": [
    "model.postprocess_name = None\n",
    "model.postprocess_dependencies = None"
   ]
  },
  {
   "cell_type": "markdown",
   "id": "86e3d6b1-e67e-4f3d-bd39-0ebec5726c3c",
   "metadata": {},
   "source": [
    "## Check all clock parameters"
   ]
  },
  {
   "cell_type": "code",
   "execution_count": 12,
   "id": "2168355c-47d9-475d-b816-49f65e74887c",
   "metadata": {
    "execution": {
     "iopub.execute_input": "2025-04-07T17:47:28.966607Z",
     "iopub.status.busy": "2025-04-07T17:47:28.966478Z",
     "iopub.status.idle": "2025-04-07T17:47:28.970729Z",
     "shell.execute_reply": "2025-04-07T17:47:28.970454Z"
    }
   },
   "outputs": [
    {
     "name": "stdout",
     "output_type": "stream",
     "text": [
      "\n",
      "%==================================== Model Details ====================================%\n",
      "Model Attributes:\n",
      "\n",
      "training: True\n",
      "metadata: {'approved_by_author': '⌛',\n",
      " 'citation': 'Lee, Yunsung, et al. \"Blood-based epigenetic estimators of '\n",
      "             'chronological age in human adults using DNA methylation data '\n",
      "             'from the Illumina MethylationEPIC array.\" BMC genomics 21 '\n",
      "             '(2020): 1-13.',\n",
      " 'clock_name': 'abec',\n",
      " 'data_type': 'methylation',\n",
      " 'doi': 'https://doi.org/10.1186/s12864-020-07168-8',\n",
      " 'notes': None,\n",
      " 'research_only': None,\n",
      " 'species': 'Homo sapiens',\n",
      " 'version': None,\n",
      " 'year': 2020}\n",
      "reference_values: None\n",
      "preprocess_name: None\n",
      "preprocess_dependencies: None\n",
      "postprocess_name: None\n",
      "postprocess_dependencies: None\n",
      "features: ['cg00003407', 'cg00012238', 'cg00046991', 'cg00106564', 'cg00136547', 'cg00148423', 'cg00154159', 'cg00172371', 'cg00173854', 'cg00186842', 'cg00224487', 'cg00239061', 'cg00241002', 'cg00245896', 'cg00292452', 'cg00295303', 'cg00307557', 'cg00382859', 'cg00399614', 'cg00444360', 'cg00460268', 'cg00462994', 'cg00481951', 'cg00489183', 'cg00492055', 'cg00496676', 'cg00499787', 'cg00503832', 'cg00530720', 'cg00536366']... [Total elements: 1695]\n",
      "base_model_features: None\n",
      "\n",
      "%==================================== Model Details ====================================%\n",
      "Model Structure:\n",
      "\n",
      "base_model: LinearModel(\n",
      "  (linear): Linear(in_features=1695, out_features=1, bias=True)\n",
      ")\n",
      "\n",
      "%==================================== Model Details ====================================%\n",
      "Model Parameters and Weights:\n",
      "\n",
      "base_model.linear.weight: [-0.9167025685310364, -0.02640557661652565, 4.398547649383545, 0.18068689107894897, 0.17831997573375702, 0.5542836785316467, 0.14806507527828217, -0.489886611700058, -0.2775489091873169, 0.05604557320475578, 0.10254067927598953, -2.105708360671997, -1.2334290742874146, 0.0348559245467186, -4.622097969055176, -0.022087493911385536, 0.08421055972576141, 0.6329579949378967, 0.47517868876457214, -0.21065407991409302, -0.4903133511543274, 3.060950517654419, 0.7235202789306641, 0.008708810433745384, 0.18117490410804749, -0.6214583516120911, -0.388788104057312, 0.18904635310173035, -0.9561805129051208, 0.08860684931278229]... [Tensor of shape torch.Size([1, 1695])]\n",
      "base_model.linear.bias: tensor([53.6824])\n",
      "\n",
      "%==================================== Model Details ====================================%\n",
      "\n"
     ]
    }
   ],
   "source": [
    "pya.utils.print_model_details(model)"
   ]
  },
  {
   "cell_type": "markdown",
   "id": "986d0262-e0c7-4036-b687-dee53ba392fb",
   "metadata": {},
   "source": [
    "## Basic test"
   ]
  },
  {
   "cell_type": "code",
   "execution_count": 13,
   "id": "936b9877-d076-4ced-99aa-e8d4c58c5caf",
   "metadata": {
    "execution": {
     "iopub.execute_input": "2025-04-07T17:47:28.972256Z",
     "iopub.status.busy": "2025-04-07T17:47:28.972151Z",
     "iopub.status.idle": "2025-04-07T17:47:28.976785Z",
     "shell.execute_reply": "2025-04-07T17:47:28.976451Z"
    }
   },
   "outputs": [
    {
     "data": {
      "text/plain": [
       "tensor([[ 56.9250],\n",
       "        [102.8789],\n",
       "        [140.7010],\n",
       "        [ 26.7447],\n",
       "        [ 54.7763],\n",
       "        [ 72.5397],\n",
       "        [-29.5202],\n",
       "        [-38.1370],\n",
       "        [-11.4511],\n",
       "        [-11.4444]], dtype=torch.float64, grad_fn=<AddmmBackward0>)"
      ]
     },
     "execution_count": 13,
     "metadata": {},
     "output_type": "execute_result"
    }
   ],
   "source": [
    "torch.manual_seed(42)\n",
    "input = torch.randn(10, len(model.features), dtype=float)\n",
    "model.eval()\n",
    "model.to(float)\n",
    "pred = model(input)\n",
    "pred"
   ]
  },
  {
   "cell_type": "markdown",
   "id": "fe8299d7-9285-4e22-82fd-b664434b4369",
   "metadata": {},
   "source": [
    "## Save torch model"
   ]
  },
  {
   "cell_type": "code",
   "execution_count": 14,
   "id": "5ef2fa8d-c80b-4fdd-8555-79c0d541788e",
   "metadata": {
    "execution": {
     "iopub.execute_input": "2025-04-07T17:47:28.978342Z",
     "iopub.status.busy": "2025-04-07T17:47:28.978215Z",
     "iopub.status.idle": "2025-04-07T17:47:28.981214Z",
     "shell.execute_reply": "2025-04-07T17:47:28.980926Z"
    }
   },
   "outputs": [],
   "source": [
    "torch.save(model, f\"../weights/{model.metadata['clock_name']}.pt\")"
   ]
  },
  {
   "cell_type": "markdown",
   "id": "bac6257b-8d08-4a90-8d0b-7f745dc11ac1",
   "metadata": {},
   "source": [
    "## Clear directory\n",
    "<a id=\"10\"></a>"
   ]
  },
  {
   "cell_type": "code",
   "execution_count": 15,
   "id": "11aeaa70-44c0-42f9-86d7-740e3849a7a6",
   "metadata": {
    "execution": {
     "iopub.execute_input": "2025-04-07T17:47:28.982627Z",
     "iopub.status.busy": "2025-04-07T17:47:28.982513Z",
     "iopub.status.idle": "2025-04-07T17:47:28.985919Z",
     "shell.execute_reply": "2025-04-07T17:47:28.985627Z"
    }
   },
   "outputs": [
    {
     "name": "stdout",
     "output_type": "stream",
     "text": [
      "Deleted file: coefficients.csv\n"
     ]
    }
   ],
   "source": [
    "# Function to remove a folder and all its contents\n",
    "def remove_folder(path):\n",
    "    try:\n",
    "        shutil.rmtree(path)\n",
    "        print(f\"Deleted folder: {path}\")\n",
    "    except Exception as e:\n",
    "        print(f\"Error deleting folder {path}: {e}\")\n",
    "\n",
    "# Get a list of all files and folders in the current directory\n",
    "all_items = os.listdir('.')\n",
    "\n",
    "# Loop through the items\n",
    "for item in all_items:\n",
    "    # Check if it's a file and does not end with .ipynb\n",
    "    if os.path.isfile(item) and not item.endswith('.ipynb'):\n",
    "        os.remove(item)\n",
    "        print(f\"Deleted file: {item}\")\n",
    "    # Check if it's a folder\n",
    "    elif os.path.isdir(item):\n",
    "        remove_folder(item)"
   ]
  }
 ],
 "metadata": {
  "kernelspec": {
   "display_name": "research",
   "language": "python",
   "name": "python3"
  },
  "language_info": {
   "codemirror_mode": {
    "name": "ipython",
    "version": 3
   },
   "file_extension": ".py",
   "mimetype": "text/x-python",
   "name": "python",
   "nbconvert_exporter": "python",
   "pygments_lexer": "ipython3",
   "version": "3.9.7"
  }
 },
 "nbformat": 4,
 "nbformat_minor": 5
}
