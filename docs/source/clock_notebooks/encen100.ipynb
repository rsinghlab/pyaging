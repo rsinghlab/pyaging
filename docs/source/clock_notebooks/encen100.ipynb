{
 "cells": [
  {
   "cell_type": "markdown",
   "id": "2f04eee0-5928-4e74-a754-6dc2e528810c",
   "metadata": {},
   "source": [
    "# ENCen100"
   ]
  },
  {
   "cell_type": "markdown",
   "id": "a3f514a3-772c-4a14-afdf-5a8376851ff4",
   "metadata": {},
   "source": [
    "## Index\n",
    "1. [Instantiate model class](#Instantiate-model-class)\n",
    "2. [Define clock metadata](#Define-clock-metadata)\n",
    "3. [Download clock dependencies](#Download-clock-dependencies)\n",
    "5. [Load features](#Load-features)\n",
    "6. [Load weights into base model](#Load-weights-into-base-model)\n",
    "7. [Load reference values](#Load-reference-values)\n",
    "8. [Load preprocess and postprocess objects](#Load-preprocess-and-postprocess-objects)\n",
    "10. [Check all clock parameters](#Check-all-clock-parameters)\n",
    "10. [Basic test](#Basic-test)\n",
    "11. [Save torch model](#Save-torch-model)\n",
    "12. [Clear directory](#Clear-directory)"
   ]
  },
  {
   "cell_type": "markdown",
   "id": "d95fafdc-643a-40ea-a689-200bd132e90c",
   "metadata": {},
   "source": [
    "Let's first import some packages:"
   ]
  },
  {
   "cell_type": "code",
   "execution_count": 1,
   "id": "4adfb4de-cd79-4913-a1af-9e23e9e236c9",
   "metadata": {
    "execution": {
     "iopub.execute_input": "2025-04-07T17:51:23.280617Z",
     "iopub.status.busy": "2025-04-07T17:51:23.280233Z",
     "iopub.status.idle": "2025-04-07T17:51:24.798718Z",
     "shell.execute_reply": "2025-04-07T17:51:24.798378Z"
    }
   },
   "outputs": [],
   "source": [
    "import os\n",
    "import inspect\n",
    "import shutil\n",
    "import json\n",
    "import torch\n",
    "import pandas as pd\n",
    "import pyaging as pya"
   ]
  },
  {
   "cell_type": "markdown",
   "id": "145082e5-ced4-47ae-88c0-cb69773e3c5a",
   "metadata": {},
   "source": [
    "## Instantiate model class"
   ]
  },
  {
   "cell_type": "code",
   "execution_count": 2,
   "id": "8aa77372-7ed3-4da7-abc9-d30372106139",
   "metadata": {
    "execution": {
     "iopub.execute_input": "2025-04-07T17:51:24.800510Z",
     "iopub.status.busy": "2025-04-07T17:51:24.800276Z",
     "iopub.status.idle": "2025-04-07T17:51:24.807486Z",
     "shell.execute_reply": "2025-04-07T17:51:24.807222Z"
    }
   },
   "outputs": [
    {
     "name": "stdout",
     "output_type": "stream",
     "text": [
      "class ENCen100(pyagingModel):\n",
      "    def __init__(self):\n",
      "        super().__init__()\n",
      "\n",
      "    def preprocess(self, x):\n",
      "        return x\n",
      "\n",
      "    def postprocess(self, x):\n",
      "        return x\n",
      "\n"
     ]
    }
   ],
   "source": [
    "def print_entire_class(cls):\n",
    "    source = inspect.getsource(cls)\n",
    "    print(source)\n",
    "\n",
    "print_entire_class(pya.models.ENCen100)"
   ]
  },
  {
   "cell_type": "code",
   "execution_count": 3,
   "id": "78536494-f1d9-44de-8583-c89a310d2307",
   "metadata": {
    "execution": {
     "iopub.execute_input": "2025-04-07T17:51:24.808899Z",
     "iopub.status.busy": "2025-04-07T17:51:24.808803Z",
     "iopub.status.idle": "2025-04-07T17:51:24.810489Z",
     "shell.execute_reply": "2025-04-07T17:51:24.810202Z"
    }
   },
   "outputs": [],
   "source": [
    "model = pya.models.ENCen100()"
   ]
  },
  {
   "cell_type": "markdown",
   "id": "51f8615e-01fa-4aa5-b196-3ee2b35d261c",
   "metadata": {},
   "source": [
    "## Define clock metadata"
   ]
  },
  {
   "cell_type": "code",
   "execution_count": 4,
   "id": "6601da9e-8adc-44ee-9308-75e3cd31b816",
   "metadata": {
    "execution": {
     "iopub.execute_input": "2025-04-07T17:51:24.812406Z",
     "iopub.status.busy": "2025-04-07T17:51:24.812240Z",
     "iopub.status.idle": "2025-04-07T17:51:24.814722Z",
     "shell.execute_reply": "2025-04-07T17:51:24.814400Z"
    }
   },
   "outputs": [],
   "source": [
    "model.metadata[\"clock_name\"] = 'encen100'\n",
    "model.metadata[\"data_type\"] = 'methylation'\n",
    "model.metadata[\"species\"] = 'Homo sapiens'\n",
    "model.metadata[\"year\"] = 2023\n",
    "model.metadata[\"approved_by_author\"] = '⌛'\n",
    "model.metadata[\"citation\"] = \"Dec, Eric, et al. \\\"Centenarian clocks: epigenetic clocks for validating claims of exceptional longevity.\\\" GeroScience (2023): 1-19.\"\n",
    "model.metadata[\"doi\"] = 'https://doi.org/10.1007/s11357-023-00731-7'\n",
    "model.metadata[\"research_only\"] = None\n",
    "model.metadata[\"notes\"] = None"
   ]
  },
  {
   "cell_type": "markdown",
   "id": "74492239-5aae-4026-9d90-6bc9c574c110",
   "metadata": {},
   "source": [
    "## Download clock dependencies"
   ]
  },
  {
   "cell_type": "markdown",
   "id": "1472c242-cf7b-4c26-b28a-dae2dcb69106",
   "metadata": {},
   "source": [
    "#### Download GitHub repository"
   ]
  },
  {
   "cell_type": "code",
   "execution_count": 5,
   "id": "51e8a008-833e-4499-a06f-32638c775821",
   "metadata": {
    "execution": {
     "iopub.execute_input": "2025-04-07T17:51:24.816353Z",
     "iopub.status.busy": "2025-04-07T17:51:24.816228Z",
     "iopub.status.idle": "2025-04-07T17:51:25.650916Z",
     "shell.execute_reply": "2025-04-07T17:51:25.650522Z"
    }
   },
   "outputs": [
    {
     "data": {
      "text/plain": [
       "0"
      ]
     },
     "execution_count": 5,
     "metadata": {},
     "output_type": "execute_result"
    }
   ],
   "source": [
    "github_url = \"https://github.com/victorychain/Centenarian-Clock.git\"\n",
    "github_folder_name = github_url.split('/')[-1].split('.')[0]\n",
    "os.system(f\"git clone {github_url}\")"
   ]
  },
  {
   "cell_type": "markdown",
   "id": "5035b180-3d1b-4432-8ebe-b9c92bd93a7f",
   "metadata": {},
   "source": [
    "## Load features"
   ]
  },
  {
   "cell_type": "markdown",
   "id": "15f4af76-b93c-438c-b57f-f129d6e9ec99",
   "metadata": {},
   "source": [
    "#### From CSV file"
   ]
  },
  {
   "cell_type": "code",
   "execution_count": 6,
   "id": "8a3d5de6-6303-487a-8b4d-e6345792f7be",
   "metadata": {
    "execution": {
     "iopub.execute_input": "2025-04-07T17:51:25.652771Z",
     "iopub.status.busy": "2025-04-07T17:51:25.652628Z",
     "iopub.status.idle": "2025-04-07T17:51:25.945893Z",
     "shell.execute_reply": "2025-04-07T17:51:25.945593Z"
    }
   },
   "outputs": [],
   "source": [
    "df = pd.read_csv('Centenarian-Clock/clocks/final_clocks.csv', index_col=0).T\n",
    "df = df[df['ENCen100+'] != 0]\n",
    "df = df.reset_index()\n",
    "\n",
    "model.features = df['index'][1:].tolist()"
   ]
  },
  {
   "cell_type": "markdown",
   "id": "ee6d8fa0-4767-4c45-9717-eb1c95e2ddc0",
   "metadata": {},
   "source": [
    "## Load weights into base model"
   ]
  },
  {
   "cell_type": "code",
   "execution_count": 7,
   "id": "e09b3463-4fd4-41b1-ac21-e63ddd223fe0",
   "metadata": {
    "execution": {
     "iopub.execute_input": "2025-04-07T17:51:25.947490Z",
     "iopub.status.busy": "2025-04-07T17:51:25.947388Z",
     "iopub.status.idle": "2025-04-07T17:51:25.949565Z",
     "shell.execute_reply": "2025-04-07T17:51:25.949309Z"
    }
   },
   "outputs": [],
   "source": [
    "weights = torch.tensor(df['ENCen100+'][1:].tolist()).unsqueeze(0).float()\n",
    "intercept = torch.tensor([df['ENCen100+'][0]]).float()"
   ]
  },
  {
   "cell_type": "markdown",
   "id": "ad261636-5b00-4979-bb1d-67a851f7aa19",
   "metadata": {},
   "source": [
    "#### Linear model"
   ]
  },
  {
   "cell_type": "code",
   "execution_count": 8,
   "id": "d7f43b99-26f2-4622-9a76-316712058877",
   "metadata": {
    "execution": {
     "iopub.execute_input": "2025-04-07T17:51:25.950854Z",
     "iopub.status.busy": "2025-04-07T17:51:25.950760Z",
     "iopub.status.idle": "2025-04-07T17:51:25.952633Z",
     "shell.execute_reply": "2025-04-07T17:51:25.952389Z"
    }
   },
   "outputs": [],
   "source": [
    "base_model = pya.models.LinearModel(input_dim=len(model.features))\n",
    "\n",
    "base_model.linear.weight.data = weights.float()\n",
    "base_model.linear.bias.data = intercept.float()\n",
    "\n",
    "model.base_model = base_model"
   ]
  },
  {
   "cell_type": "markdown",
   "id": "ad8b4c1d-9d57-48b7-9a30-bcfea7b747b1",
   "metadata": {},
   "source": [
    "## Load reference values"
   ]
  },
  {
   "cell_type": "code",
   "execution_count": 9,
   "id": "ade0f4c9-2298-4fc3-bb72-d200907dd731",
   "metadata": {
    "execution": {
     "iopub.execute_input": "2025-04-07T17:51:25.954110Z",
     "iopub.status.busy": "2025-04-07T17:51:25.954020Z",
     "iopub.status.idle": "2025-04-07T17:51:25.955567Z",
     "shell.execute_reply": "2025-04-07T17:51:25.955278Z"
    }
   },
   "outputs": [],
   "source": [
    "model.reference_values = None"
   ]
  },
  {
   "cell_type": "markdown",
   "id": "af3bcf7b-74a8-4d21-9ccb-4de0c2b0516b",
   "metadata": {},
   "source": [
    "## Load preprocess and postprocess objects"
   ]
  },
  {
   "cell_type": "code",
   "execution_count": 10,
   "id": "7a22fb20-c605-424d-8efb-7620c2c0755c",
   "metadata": {
    "execution": {
     "iopub.execute_input": "2025-04-07T17:51:25.956831Z",
     "iopub.status.busy": "2025-04-07T17:51:25.956748Z",
     "iopub.status.idle": "2025-04-07T17:51:25.958257Z",
     "shell.execute_reply": "2025-04-07T17:51:25.957992Z"
    }
   },
   "outputs": [],
   "source": [
    "model.preprocess_name = None\n",
    "model.preprocess_dependencies = None"
   ]
  },
  {
   "cell_type": "code",
   "execution_count": 11,
   "id": "ff4a21cb-cf41-44dc-9ed1-95cf8aa15772",
   "metadata": {
    "execution": {
     "iopub.execute_input": "2025-04-07T17:51:25.959447Z",
     "iopub.status.busy": "2025-04-07T17:51:25.959351Z",
     "iopub.status.idle": "2025-04-07T17:51:25.960822Z",
     "shell.execute_reply": "2025-04-07T17:51:25.960580Z"
    }
   },
   "outputs": [],
   "source": [
    "model.postprocess_name = None\n",
    "model.postprocess_dependencies = None"
   ]
  },
  {
   "cell_type": "markdown",
   "id": "86e3d6b1-e67e-4f3d-bd39-0ebec5726c3c",
   "metadata": {},
   "source": [
    "## Check all clock parameters"
   ]
  },
  {
   "cell_type": "code",
   "execution_count": 12,
   "id": "2168355c-47d9-475d-b816-49f65e74887c",
   "metadata": {
    "execution": {
     "iopub.execute_input": "2025-04-07T17:51:25.962130Z",
     "iopub.status.busy": "2025-04-07T17:51:25.962048Z",
     "iopub.status.idle": "2025-04-07T17:51:25.965396Z",
     "shell.execute_reply": "2025-04-07T17:51:25.965154Z"
    }
   },
   "outputs": [
    {
     "name": "stdout",
     "output_type": "stream",
     "text": [
      "\n",
      "%==================================== Model Details ====================================%\n",
      "Model Attributes:\n",
      "\n",
      "training: True\n",
      "metadata: {'approved_by_author': '⌛',\n",
      " 'citation': 'Dec, Eric, et al. \"Centenarian clocks: epigenetic clocks for '\n",
      "             'validating claims of exceptional longevity.\" GeroScience (2023): '\n",
      "             '1-19.',\n",
      " 'clock_name': 'encen100',\n",
      " 'data_type': 'methylation',\n",
      " 'doi': 'https://doi.org/10.1007/s11357-023-00731-7',\n",
      " 'notes': None,\n",
      " 'research_only': None,\n",
      " 'species': 'Homo sapiens',\n",
      " 'version': None,\n",
      " 'year': 2023}\n",
      "reference_values: None\n",
      "preprocess_name: None\n",
      "preprocess_dependencies: None\n",
      "postprocess_name: None\n",
      "postprocess_dependencies: None\n",
      "features: ['cg19923810', 'cg06727198', 'cg13587552', 'cg12278474', 'cg00944884', 'cg02309594', 'cg26131911', 'cg01918888', 'cg22748573', 'cg03557698', 'cg02008416', 'cg01909487', 'cg22215192', 'cg19490266', 'cg22041635', 'cg03265671', 'cg16054275', 'cg11908570', 'cg11314684', 'cg21825027', 'cg10881225', 'cg27072387', 'cg10198837', 'cg19910382', 'cg15903395', 'cg22854546', 'cg22774472', 'cg08147886', 'cg24938727', 'cg06613840']... [Total elements: 198]\n",
      "base_model_features: None\n",
      "\n",
      "%==================================== Model Details ====================================%\n",
      "Model Structure:\n",
      "\n",
      "base_model: LinearModel(\n",
      "  (linear): Linear(in_features=198, out_features=1, bias=True)\n",
      ")\n",
      "\n",
      "%==================================== Model Details ====================================%\n",
      "Model Parameters and Weights:\n",
      "\n",
      "base_model.linear.weight: [-0.09928683191537857, 0.49298134446144104, 0.4511302411556244, -0.7807422280311584, -1.8210344314575195, 0.5576984882354736, -7.65609884262085, -1.0797690153121948, -1.6125882863998413, -0.5077138543128967, 0.6321693062782288, 2.269329309463501, 0.48257339000701904, 2.2945704460144043, 17.37386703491211, 0.8210453987121582, -0.1428677886724472, 20.877824783325195, -0.7569608688354492, -4.292027950286865, 1.1173136234283447, 3.3253836631774902, 2.960419178009033, 0.7145973443984985, 1.6346321105957031, -20.96908950805664, 0.020137546584010124, -2.13246488571167, 0.9701406955718994, 3.8667945861816406]... [Tensor of shape torch.Size([1, 198])]\n",
      "base_model.linear.bias: tensor([73.9947])\n",
      "\n",
      "%==================================== Model Details ====================================%\n",
      "\n"
     ]
    }
   ],
   "source": [
    "pya.utils.print_model_details(model)"
   ]
  },
  {
   "cell_type": "markdown",
   "id": "986d0262-e0c7-4036-b687-dee53ba392fb",
   "metadata": {},
   "source": [
    "## Basic test"
   ]
  },
  {
   "cell_type": "code",
   "execution_count": 13,
   "id": "936b9877-d076-4ced-99aa-e8d4c58c5caf",
   "metadata": {
    "execution": {
     "iopub.execute_input": "2025-04-07T17:51:25.966724Z",
     "iopub.status.busy": "2025-04-07T17:51:25.966647Z",
     "iopub.status.idle": "2025-04-07T17:51:25.970342Z",
     "shell.execute_reply": "2025-04-07T17:51:25.970107Z"
    }
   },
   "outputs": [
    {
     "data": {
      "text/plain": [
       "tensor([[ 38.4278],\n",
       "        [126.9503],\n",
       "        [180.1369],\n",
       "        [153.0248],\n",
       "        [-29.4523],\n",
       "        [  8.3359],\n",
       "        [-21.7442],\n",
       "        [165.3959],\n",
       "        [204.0825],\n",
       "        [ 83.8679]], dtype=torch.float64, grad_fn=<AddmmBackward0>)"
      ]
     },
     "execution_count": 13,
     "metadata": {},
     "output_type": "execute_result"
    }
   ],
   "source": [
    "torch.manual_seed(42)\n",
    "input = torch.randn(10, len(model.features), dtype=float)\n",
    "model.eval()\n",
    "model.to(float)\n",
    "pred = model(input)\n",
    "pred"
   ]
  },
  {
   "cell_type": "markdown",
   "id": "fe8299d7-9285-4e22-82fd-b664434b4369",
   "metadata": {},
   "source": [
    "## Save torch model"
   ]
  },
  {
   "cell_type": "code",
   "execution_count": 14,
   "id": "5ef2fa8d-c80b-4fdd-8555-79c0d541788e",
   "metadata": {
    "execution": {
     "iopub.execute_input": "2025-04-07T17:51:25.971607Z",
     "iopub.status.busy": "2025-04-07T17:51:25.971523Z",
     "iopub.status.idle": "2025-04-07T17:51:25.973638Z",
     "shell.execute_reply": "2025-04-07T17:51:25.973407Z"
    }
   },
   "outputs": [],
   "source": [
    "torch.save(model, f\"../weights/{model.metadata['clock_name']}.pt\")"
   ]
  },
  {
   "cell_type": "markdown",
   "id": "bac6257b-8d08-4a90-8d0b-7f745dc11ac1",
   "metadata": {},
   "source": [
    "## Clear directory\n",
    "<a id=\"10\"></a>"
   ]
  },
  {
   "cell_type": "code",
   "execution_count": 15,
   "id": "11aeaa70-44c0-42f9-86d7-740e3849a7a6",
   "metadata": {
    "execution": {
     "iopub.execute_input": "2025-04-07T17:51:25.974917Z",
     "iopub.status.busy": "2025-04-07T17:51:25.974825Z",
     "iopub.status.idle": "2025-04-07T17:51:25.981540Z",
     "shell.execute_reply": "2025-04-07T17:51:25.981265Z"
    }
   },
   "outputs": [
    {
     "name": "stdout",
     "output_type": "stream",
     "text": [
      "Deleted folder: Centenarian-Clock\n"
     ]
    }
   ],
   "source": [
    "# Function to remove a folder and all its contents\n",
    "def remove_folder(path):\n",
    "    try:\n",
    "        shutil.rmtree(path)\n",
    "        print(f\"Deleted folder: {path}\")\n",
    "    except Exception as e:\n",
    "        print(f\"Error deleting folder {path}: {e}\")\n",
    "\n",
    "# Get a list of all files and folders in the current directory\n",
    "all_items = os.listdir('.')\n",
    "\n",
    "# Loop through the items\n",
    "for item in all_items:\n",
    "    # Check if it's a file and does not end with .ipynb\n",
    "    if os.path.isfile(item) and not item.endswith('.ipynb'):\n",
    "        os.remove(item)\n",
    "        print(f\"Deleted file: {item}\")\n",
    "    # Check if it's a folder\n",
    "    elif os.path.isdir(item):\n",
    "        remove_folder(item)"
   ]
  }
 ],
 "metadata": {
  "kernelspec": {
   "display_name": "Python 3",
   "language": "python",
   "name": "python3"
  },
  "language_info": {
   "codemirror_mode": {
    "name": "ipython",
    "version": 3
   },
   "file_extension": ".py",
   "mimetype": "text/x-python",
   "name": "python",
   "nbconvert_exporter": "python",
   "pygments_lexer": "ipython3",
   "version": "3.9.7"
  }
 },
 "nbformat": 4,
 "nbformat_minor": 5
}
