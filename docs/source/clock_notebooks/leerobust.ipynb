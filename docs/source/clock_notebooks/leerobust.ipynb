{
 "cells": [
  {
   "cell_type": "markdown",
   "id": "2f04eee0-5928-4e74-a754-6dc2e528810c",
   "metadata": {},
   "source": [
    "# LeeRobust"
   ]
  },
  {
   "cell_type": "markdown",
   "id": "a3f514a3-772c-4a14-afdf-5a8376851ff4",
   "metadata": {},
   "source": [
    "## Index\n",
    "1. [Instantiate model class](#Instantiate-model-class)\n",
    "2. [Define clock metadata](#Define-clock-metadata)\n",
    "3. [Download clock dependencies](#Download-clock-dependencies)\n",
    "5. [Load features](#Load-features)\n",
    "6. [Load weights into base model](#Load-weights-into-base-model)\n",
    "7. [Load reference values](#Load-reference-values)\n",
    "8. [Load preprocess and postprocess objects](#Load-preprocess-and-postprocess-objects)\n",
    "10. [Check all clock parameters](#Check-all-clock-parameters)\n",
    "10. [Basic test](#Basic-test)\n",
    "11. [Save torch model](#Save-torch-model)\n",
    "12. [Clear directory](#Clear-directory)"
   ]
  },
  {
   "cell_type": "markdown",
   "id": "d95fafdc-643a-40ea-a689-200bd132e90c",
   "metadata": {},
   "source": [
    "Let's first import some packages:"
   ]
  },
  {
   "cell_type": "code",
   "execution_count": 1,
   "id": "4adfb4de-cd79-4913-a1af-9e23e9e236c9",
   "metadata": {
    "execution": {
     "iopub.execute_input": "2025-04-07T17:52:18.567048Z",
     "iopub.status.busy": "2025-04-07T17:52:18.566696Z",
     "iopub.status.idle": "2025-04-07T17:52:19.987971Z",
     "shell.execute_reply": "2025-04-07T17:52:19.987593Z"
    }
   },
   "outputs": [],
   "source": [
    "import os\n",
    "import inspect\n",
    "import shutil\n",
    "import json\n",
    "import torch\n",
    "import pandas as pd\n",
    "import pyaging as pya"
   ]
  },
  {
   "cell_type": "markdown",
   "id": "145082e5-ced4-47ae-88c0-cb69773e3c5a",
   "metadata": {},
   "source": [
    "## Instantiate model class"
   ]
  },
  {
   "cell_type": "code",
   "execution_count": 2,
   "id": "8aa77372-7ed3-4da7-abc9-d30372106139",
   "metadata": {
    "execution": {
     "iopub.execute_input": "2025-04-07T17:52:19.989779Z",
     "iopub.status.busy": "2025-04-07T17:52:19.989534Z",
     "iopub.status.idle": "2025-04-07T17:52:19.997123Z",
     "shell.execute_reply": "2025-04-07T17:52:19.996805Z"
    }
   },
   "outputs": [
    {
     "name": "stdout",
     "output_type": "stream",
     "text": [
      "class LeeRobust(pyagingModel):\n",
      "    def __init__(self):\n",
      "        super().__init__()\n",
      "\n",
      "    def preprocess(self, x):\n",
      "        return x\n",
      "\n",
      "    def postprocess(self, x):\n",
      "        return x\n",
      "\n"
     ]
    }
   ],
   "source": [
    "def print_entire_class(cls):\n",
    "    source = inspect.getsource(cls)\n",
    "    print(source)\n",
    "\n",
    "print_entire_class(pya.models.LeeRobust)"
   ]
  },
  {
   "cell_type": "code",
   "execution_count": 3,
   "id": "78536494-f1d9-44de-8583-c89a310d2307",
   "metadata": {
    "execution": {
     "iopub.execute_input": "2025-04-07T17:52:19.998575Z",
     "iopub.status.busy": "2025-04-07T17:52:19.998480Z",
     "iopub.status.idle": "2025-04-07T17:52:20.000202Z",
     "shell.execute_reply": "2025-04-07T17:52:19.999937Z"
    }
   },
   "outputs": [],
   "source": [
    "model = pya.models.LeeRobust()"
   ]
  },
  {
   "cell_type": "markdown",
   "id": "51f8615e-01fa-4aa5-b196-3ee2b35d261c",
   "metadata": {},
   "source": [
    "## Define clock metadata"
   ]
  },
  {
   "cell_type": "code",
   "execution_count": 4,
   "id": "6601da9e-8adc-44ee-9308-75e3cd31b816",
   "metadata": {
    "execution": {
     "iopub.execute_input": "2025-04-07T17:52:20.001527Z",
     "iopub.status.busy": "2025-04-07T17:52:20.001438Z",
     "iopub.status.idle": "2025-04-07T17:52:20.003553Z",
     "shell.execute_reply": "2025-04-07T17:52:20.003272Z"
    }
   },
   "outputs": [],
   "source": [
    "model.metadata[\"clock_name\"] = 'leerobust'\n",
    "model.metadata[\"data_type\"] = 'methylation'\n",
    "model.metadata[\"species\"] = 'Homo sapiens'\n",
    "model.metadata[\"year\"] = 2019\n",
    "model.metadata[\"approved_by_author\"] = '✅'\n",
    "model.metadata[\"citation\"] = \"Lee, Yunsung, et al. \\\"Placental epigenetic clocks: estimating gestational age using placental DNA methylation levels.\\\" Aging (Albany NY) 11.12 (2019): 4238.\"\n",
    "model.metadata[\"doi\"] = \"https://doi.org/10.18632/aging.102049\"\n",
    "model.metadata[\"research_only\"] = None\n",
    "model.metadata[\"notes\"] = None"
   ]
  },
  {
   "cell_type": "markdown",
   "id": "74492239-5aae-4026-9d90-6bc9c574c110",
   "metadata": {},
   "source": [
    "## Download clock dependencies"
   ]
  },
  {
   "cell_type": "markdown",
   "id": "a6e9698f-9303-4d58-8729-d5e1abd9912c",
   "metadata": {},
   "source": [
    "#### Download directly with curl"
   ]
  },
  {
   "cell_type": "code",
   "execution_count": 5,
   "id": "b2422516-f738-4dc1-afb6-67c4b4f2ec19",
   "metadata": {
    "execution": {
     "iopub.execute_input": "2025-04-07T17:52:20.004955Z",
     "iopub.status.busy": "2025-04-07T17:52:20.004856Z",
     "iopub.status.idle": "2025-04-07T17:52:20.370489Z",
     "shell.execute_reply": "2025-04-07T17:52:20.370069Z"
    }
   },
   "outputs": [
    {
     "data": {
      "text/plain": [
       "0"
      ]
     },
     "execution_count": 5,
     "metadata": {},
     "output_type": "execute_result"
    }
   ],
   "source": [
    "supplementary_url = \"https://www.aging-us.com/article/102049/supplementary/SD2/0/aging-v11i12-102049-supplementary-material-SD2.csv\"\n",
    "supplementary_file_name = \"coefficients.csv\"\n",
    "os.system(f\"curl -o {supplementary_file_name} {supplementary_url}\")"
   ]
  },
  {
   "cell_type": "markdown",
   "id": "5035b180-3d1b-4432-8ebe-b9c92bd93a7f",
   "metadata": {},
   "source": [
    "## Load features"
   ]
  },
  {
   "cell_type": "markdown",
   "id": "15f4af76-b93c-438c-b57f-f129d6e9ec99",
   "metadata": {},
   "source": [
    "#### From CSV file"
   ]
  },
  {
   "cell_type": "code",
   "execution_count": 6,
   "id": "8a3d5de6-6303-487a-8b4d-e6345792f7be",
   "metadata": {
    "execution": {
     "iopub.execute_input": "2025-04-07T17:52:20.372340Z",
     "iopub.status.busy": "2025-04-07T17:52:20.372147Z",
     "iopub.status.idle": "2025-04-07T17:52:20.378170Z",
     "shell.execute_reply": "2025-04-07T17:52:20.377790Z"
    }
   },
   "outputs": [],
   "source": [
    "df = pd.read_csv('coefficients.csv')\n",
    "df['feature'] = df['CpGs']\n",
    "df['coefficient'] = df['Coefficient_RPC']\n",
    "df = df[df.coefficient != 0]\n",
    "\n",
    "model.features = features = df['feature'][1:].tolist()"
   ]
  },
  {
   "cell_type": "markdown",
   "id": "ee6d8fa0-4767-4c45-9717-eb1c95e2ddc0",
   "metadata": {},
   "source": [
    "## Load weights into base model"
   ]
  },
  {
   "cell_type": "code",
   "execution_count": 7,
   "id": "e09b3463-4fd4-41b1-ac21-e63ddd223fe0",
   "metadata": {
    "execution": {
     "iopub.execute_input": "2025-04-07T17:52:20.380042Z",
     "iopub.status.busy": "2025-04-07T17:52:20.379912Z",
     "iopub.status.idle": "2025-04-07T17:52:20.382429Z",
     "shell.execute_reply": "2025-04-07T17:52:20.382107Z"
    }
   },
   "outputs": [],
   "source": [
    "weights = torch.tensor(df['coefficient'][1:].tolist()).unsqueeze(0)\n",
    "intercept = torch.tensor([df['coefficient'][0]])"
   ]
  },
  {
   "cell_type": "markdown",
   "id": "ad261636-5b00-4979-bb1d-67a851f7aa19",
   "metadata": {},
   "source": [
    "#### Linear model"
   ]
  },
  {
   "cell_type": "code",
   "execution_count": 8,
   "id": "d7f43b99-26f2-4622-9a76-316712058877",
   "metadata": {
    "execution": {
     "iopub.execute_input": "2025-04-07T17:52:20.384020Z",
     "iopub.status.busy": "2025-04-07T17:52:20.383880Z",
     "iopub.status.idle": "2025-04-07T17:52:20.386486Z",
     "shell.execute_reply": "2025-04-07T17:52:20.386161Z"
    }
   },
   "outputs": [],
   "source": [
    "base_model = pya.models.LinearModel(input_dim=len(model.features))\n",
    "\n",
    "base_model.linear.weight.data = weights.float()\n",
    "base_model.linear.bias.data = intercept.float()\n",
    "\n",
    "model.base_model = base_model"
   ]
  },
  {
   "cell_type": "markdown",
   "id": "ad8b4c1d-9d57-48b7-9a30-bcfea7b747b1",
   "metadata": {},
   "source": [
    "## Load reference values"
   ]
  },
  {
   "cell_type": "code",
   "execution_count": 9,
   "id": "ade0f4c9-2298-4fc3-bb72-d200907dd731",
   "metadata": {
    "execution": {
     "iopub.execute_input": "2025-04-07T17:52:20.387981Z",
     "iopub.status.busy": "2025-04-07T17:52:20.387865Z",
     "iopub.status.idle": "2025-04-07T17:52:20.389368Z",
     "shell.execute_reply": "2025-04-07T17:52:20.389088Z"
    }
   },
   "outputs": [],
   "source": [
    "model.reference_values = None"
   ]
  },
  {
   "cell_type": "markdown",
   "id": "af3bcf7b-74a8-4d21-9ccb-4de0c2b0516b",
   "metadata": {},
   "source": [
    "## Load preprocess and postprocess objects"
   ]
  },
  {
   "cell_type": "code",
   "execution_count": 10,
   "id": "7a22fb20-c605-424d-8efb-7620c2c0755c",
   "metadata": {
    "execution": {
     "iopub.execute_input": "2025-04-07T17:52:20.390676Z",
     "iopub.status.busy": "2025-04-07T17:52:20.390582Z",
     "iopub.status.idle": "2025-04-07T17:52:20.392266Z",
     "shell.execute_reply": "2025-04-07T17:52:20.391962Z"
    }
   },
   "outputs": [],
   "source": [
    "model.preprocess_name = None\n",
    "model.preprocess_dependencies = None"
   ]
  },
  {
   "cell_type": "code",
   "execution_count": 11,
   "id": "ff4a21cb-cf41-44dc-9ed1-95cf8aa15772",
   "metadata": {
    "execution": {
     "iopub.execute_input": "2025-04-07T17:52:20.393649Z",
     "iopub.status.busy": "2025-04-07T17:52:20.393548Z",
     "iopub.status.idle": "2025-04-07T17:52:20.395222Z",
     "shell.execute_reply": "2025-04-07T17:52:20.394961Z"
    }
   },
   "outputs": [],
   "source": [
    "model.postprocess_name = None\n",
    "model.postprocess_dependencies = None"
   ]
  },
  {
   "cell_type": "markdown",
   "id": "86e3d6b1-e67e-4f3d-bd39-0ebec5726c3c",
   "metadata": {},
   "source": [
    "## Check all clock parameters"
   ]
  },
  {
   "cell_type": "code",
   "execution_count": 12,
   "id": "2168355c-47d9-475d-b816-49f65e74887c",
   "metadata": {
    "execution": {
     "iopub.execute_input": "2025-04-07T17:52:20.397665Z",
     "iopub.status.busy": "2025-04-07T17:52:20.397435Z",
     "iopub.status.idle": "2025-04-07T17:52:20.402070Z",
     "shell.execute_reply": "2025-04-07T17:52:20.401772Z"
    }
   },
   "outputs": [
    {
     "name": "stdout",
     "output_type": "stream",
     "text": [
      "\n",
      "%==================================== Model Details ====================================%\n",
      "Model Attributes:\n",
      "\n",
      "training: True\n",
      "metadata: {'approved_by_author': '✅',\n",
      " 'citation': 'Lee, Yunsung, et al. \"Placental epigenetic clocks: estimating '\n",
      "             'gestational age using placental DNA methylation levels.\" Aging '\n",
      "             '(Albany NY) 11.12 (2019): 4238.',\n",
      " 'clock_name': 'leerobust',\n",
      " 'data_type': 'methylation',\n",
      " 'doi': 'https://doi.org/10.18632/aging.102049',\n",
      " 'notes': None,\n",
      " 'research_only': None,\n",
      " 'species': 'Homo sapiens',\n",
      " 'version': None,\n",
      " 'year': 2019}\n",
      "reference_values: None\n",
      "preprocess_name: None\n",
      "preprocess_dependencies: None\n",
      "postprocess_name: None\n",
      "postprocess_dependencies: None\n",
      "features: ['cg00009871', 'cg00035630', 'cg00056066', 'cg00057476', 'cg00063979', 'cg00073090', 'cg00091483', 'cg00173659', 'cg00192031', 'cg00239899', 'cg00307685', 'cg00398130', 'cg00400547', 'cg00419702', 'cg00466827', 'cg00469856', 'cg00501482', 'cg00521434', 'cg00595223', 'cg00639010', 'cg00674365', 'cg00675037', 'cg00705661', 'cg00721170', 'cg00766497', 'cg00896578', 'cg01075918', 'cg01093285', 'cg01118711', 'cg01152073']... [Total elements: 558]\n",
      "base_model_features: None\n",
      "\n",
      "%==================================== Model Details ====================================%\n",
      "Model Structure:\n",
      "\n",
      "base_model: LinearModel(\n",
      "  (linear): Linear(in_features=558, out_features=1, bias=True)\n",
      ")\n",
      "\n",
      "%==================================== Model Details ====================================%\n",
      "Model Parameters and Weights:\n",
      "\n",
      "base_model.linear.weight: [-0.12465698271989822, -0.00647827098146081, 0.8594600558280945, 0.3723226487636566, -0.5090286135673523, -0.1893170177936554, 0.7658786773681641, -0.17820455133914948, 0.7639460563659668, -0.22348295152187347, 0.22304490208625793, 0.2099320888519287, 0.9854989051818848, -0.08535578846931458, 0.009702717885375023, -0.07904969155788422, -0.37377262115478516, 1.6936191320419312, -0.004757361952215433, -1.933017611503601, 0.007646538782864809, -0.18009760975837708, -2.810021162033081, 0.04612048342823982, 0.25931477546691895, -0.006801355164498091, -0.9294152855873108, 0.2601521909236908, 0.5462681651115417, -3.372469425201416]... [Tensor of shape torch.Size([1, 558])]\n",
      "base_model.linear.bias: tensor([24.9977])\n",
      "\n",
      "%==================================== Model Details ====================================%\n",
      "\n"
     ]
    }
   ],
   "source": [
    "pya.utils.print_model_details(model)"
   ]
  },
  {
   "cell_type": "markdown",
   "id": "986d0262-e0c7-4036-b687-dee53ba392fb",
   "metadata": {},
   "source": [
    "## Basic test"
   ]
  },
  {
   "cell_type": "code",
   "execution_count": 13,
   "id": "936b9877-d076-4ced-99aa-e8d4c58c5caf",
   "metadata": {
    "execution": {
     "iopub.execute_input": "2025-04-07T17:52:20.403598Z",
     "iopub.status.busy": "2025-04-07T17:52:20.403493Z",
     "iopub.status.idle": "2025-04-07T17:52:20.407743Z",
     "shell.execute_reply": "2025-04-07T17:52:20.407453Z"
    }
   },
   "outputs": [
    {
     "data": {
      "text/plain": [
       "tensor([[42.0170],\n",
       "        [55.4254],\n",
       "        [49.9402],\n",
       "        [36.4192],\n",
       "        [45.8815],\n",
       "        [10.6421],\n",
       "        [32.3821],\n",
       "        [38.4876],\n",
       "        [24.5012],\n",
       "        [70.2651]], dtype=torch.float64, grad_fn=<AddmmBackward0>)"
      ]
     },
     "execution_count": 13,
     "metadata": {},
     "output_type": "execute_result"
    }
   ],
   "source": [
    "torch.manual_seed(42)\n",
    "input = torch.randn(10, len(model.features), dtype=float)\n",
    "model.eval()\n",
    "model.to(float)\n",
    "pred = model(input)\n",
    "pred"
   ]
  },
  {
   "cell_type": "markdown",
   "id": "fe8299d7-9285-4e22-82fd-b664434b4369",
   "metadata": {},
   "source": [
    "## Save torch model"
   ]
  },
  {
   "cell_type": "code",
   "execution_count": 14,
   "id": "5ef2fa8d-c80b-4fdd-8555-79c0d541788e",
   "metadata": {
    "execution": {
     "iopub.execute_input": "2025-04-07T17:52:20.409144Z",
     "iopub.status.busy": "2025-04-07T17:52:20.409050Z",
     "iopub.status.idle": "2025-04-07T17:52:20.412006Z",
     "shell.execute_reply": "2025-04-07T17:52:20.411726Z"
    }
   },
   "outputs": [],
   "source": [
    "torch.save(model, f\"../weights/{model.metadata['clock_name']}.pt\")"
   ]
  },
  {
   "cell_type": "markdown",
   "id": "bac6257b-8d08-4a90-8d0b-7f745dc11ac1",
   "metadata": {},
   "source": [
    "## Clear directory\n",
    "<a id=\"10\"></a>"
   ]
  },
  {
   "cell_type": "code",
   "execution_count": 15,
   "id": "11aeaa70-44c0-42f9-86d7-740e3849a7a6",
   "metadata": {
    "execution": {
     "iopub.execute_input": "2025-04-07T17:52:20.413305Z",
     "iopub.status.busy": "2025-04-07T17:52:20.413215Z",
     "iopub.status.idle": "2025-04-07T17:52:20.416398Z",
     "shell.execute_reply": "2025-04-07T17:52:20.416125Z"
    }
   },
   "outputs": [
    {
     "name": "stdout",
     "output_type": "stream",
     "text": [
      "Deleted file: coefficients.csv\n"
     ]
    }
   ],
   "source": [
    "# Function to remove a folder and all its contents\n",
    "def remove_folder(path):\n",
    "    try:\n",
    "        shutil.rmtree(path)\n",
    "        print(f\"Deleted folder: {path}\")\n",
    "    except Exception as e:\n",
    "        print(f\"Error deleting folder {path}: {e}\")\n",
    "\n",
    "# Get a list of all files and folders in the current directory\n",
    "all_items = os.listdir('.')\n",
    "\n",
    "# Loop through the items\n",
    "for item in all_items:\n",
    "    # Check if it's a file and does not end with .ipynb\n",
    "    if os.path.isfile(item) and not item.endswith('.ipynb'):\n",
    "        os.remove(item)\n",
    "        print(f\"Deleted file: {item}\")\n",
    "    # Check if it's a folder\n",
    "    elif os.path.isdir(item):\n",
    "        remove_folder(item)"
   ]
  }
 ],
 "metadata": {
  "kernelspec": {
   "display_name": "Python 3",
   "language": "python",
   "name": "python3"
  },
  "language_info": {
   "codemirror_mode": {
    "name": "ipython",
    "version": 3
   },
   "file_extension": ".py",
   "mimetype": "text/x-python",
   "name": "python",
   "nbconvert_exporter": "python",
   "pygments_lexer": "ipython3",
   "version": "3.9.7"
  }
 },
 "nbformat": 4,
 "nbformat_minor": 5
}
