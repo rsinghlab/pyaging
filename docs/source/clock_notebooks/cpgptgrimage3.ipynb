{
 "cells": [
  {
   "cell_type": "markdown",
   "id": "2f04eee0-5928-4e74-a754-6dc2e528810c",
   "metadata": {},
   "source": [
    "# CpGPTGrimAge3"
   ]
  },
  {
   "cell_type": "markdown",
   "id": "a3f514a3-772c-4a14-afdf-5a8376851ff4",
   "metadata": {},
   "source": [
    "## Index\n",
    "1. [Instantiate model class](#Instantiate-model-class)\n",
    "2. [Define clock metadata](#Define-clock-metadata)\n",
    "3. [Download clock dependencies](#Download-clock-dependencies)\n",
    "5. [Load features](#Load-features)\n",
    "6. [Load weights into base model](#Load-weights-into-base-model)\n",
    "7. [Load reference values](#Load-reference-values)\n",
    "8. [Load preprocess and postprocess objects](#Load-preprocess-and-postprocess-objects)\n",
    "10. [Check all clock parameters](#Check-all-clock-parameters)\n",
    "10. [Basic test](#Basic-test)\n",
    "11. [Save torch model](#Save-torch-model)\n",
    "12. [Clear directory](#Clear-directory)"
   ]
  },
  {
   "cell_type": "markdown",
   "id": "d95fafdc-643a-40ea-a689-200bd132e90c",
   "metadata": {},
   "source": [
    "Let's first import some packages:"
   ]
  },
  {
   "cell_type": "code",
   "execution_count": 60,
   "id": "4adfb4de-cd79-4913-a1af-9e23e9e236c9",
   "metadata": {
    "execution": {
     "iopub.execute_input": "2025-04-07T17:51:41.316681Z",
     "iopub.status.busy": "2025-04-07T17:51:41.316440Z",
     "iopub.status.idle": "2025-04-07T17:51:42.738147Z",
     "shell.execute_reply": "2025-04-07T17:51:42.737780Z"
    }
   },
   "outputs": [],
   "source": [
    "import os\n",
    "import inspect\n",
    "import shutil\n",
    "import json\n",
    "import torch\n",
    "import pandas as pd\n",
    "import pyaging as pya\n",
    "import numpy as np"
   ]
  },
  {
   "cell_type": "markdown",
   "id": "145082e5-ced4-47ae-88c0-cb69773e3c5a",
   "metadata": {},
   "source": [
    "## Instantiate model class"
   ]
  },
  {
   "cell_type": "code",
   "execution_count": 61,
   "id": "8aa77372-7ed3-4da7-abc9-d30372106139",
   "metadata": {
    "execution": {
     "iopub.execute_input": "2025-04-07T17:51:42.740018Z",
     "iopub.status.busy": "2025-04-07T17:51:42.739761Z",
     "iopub.status.idle": "2025-04-07T17:51:42.750935Z",
     "shell.execute_reply": "2025-04-07T17:51:42.750574Z"
    }
   },
   "outputs": [
    {
     "name": "stdout",
     "output_type": "stream",
     "text": [
      "class CpGPTGrimAge3(pyagingModel):\n",
      "    def __init__(self):\n",
      "        super().__init__()\n",
      "\n",
      "    def preprocess(self, x):\n",
      "        \"\"\"\n",
      "        Scales an array based on the median and standard deviation.\n",
      "        \"\"\"\n",
      "        median = torch.tensor(self.preprocess_dependencies[0], device=x.device, dtype=x.dtype)\n",
      "        std = torch.tensor(self.preprocess_dependencies[1], device=x.device, dtype=x.dtype)\n",
      "        x = (x - median) / std\n",
      "        return x\n",
      "\n",
      "    def postprocess(self, x):\n",
      "        \"\"\"\n",
      "        Converts from a Cox parameter to age in units of years.\n",
      "        \"\"\"\n",
      "        cox_mean = self.postprocess_dependencies[0]\n",
      "        cox_std = self.postprocess_dependencies[1]\n",
      "        age_mean = self.postprocess_dependencies[2]\n",
      "        age_std = self.postprocess_dependencies[3]\n",
      "\n",
      "        # Normalize\n",
      "        x = (x - cox_mean) / cox_std\n",
      "\n",
      "        # Scale\n",
      "        x = (x * age_std) + age_mean\n",
      "\n",
      "        return x\n",
      "\n"
     ]
    }
   ],
   "source": [
    "def print_entire_class(cls):\n",
    "    source = inspect.getsource(cls)\n",
    "    print(source)\n",
    "\n",
    "print_entire_class(pya.models.CpGPTGrimAge3)"
   ]
  },
  {
   "cell_type": "code",
   "execution_count": 62,
   "id": "78536494-f1d9-44de-8583-c89a310d2307",
   "metadata": {
    "execution": {
     "iopub.execute_input": "2025-04-07T17:51:42.753015Z",
     "iopub.status.busy": "2025-04-07T17:51:42.752877Z",
     "iopub.status.idle": "2025-04-07T17:51:42.754599Z",
     "shell.execute_reply": "2025-04-07T17:51:42.754314Z"
    }
   },
   "outputs": [],
   "source": [
    "model = pya.models.CpGPTGrimAge3()"
   ]
  },
  {
   "cell_type": "markdown",
   "id": "51f8615e-01fa-4aa5-b196-3ee2b35d261c",
   "metadata": {},
   "source": [
    "## Define clock metadata"
   ]
  },
  {
   "cell_type": "code",
   "execution_count": 63,
   "id": "135ce001-03f7-4025-bceb-01a3e2e2b0ef",
   "metadata": {
    "execution": {
     "iopub.execute_input": "2025-04-07T17:51:42.755964Z",
     "iopub.status.busy": "2025-04-07T17:51:42.755873Z",
     "iopub.status.idle": "2025-04-07T17:51:42.758035Z",
     "shell.execute_reply": "2025-04-07T17:51:42.757775Z"
    }
   },
   "outputs": [],
   "source": [
    "model.metadata[\"clock_name\"] = 'cpgptgrimage3'\n",
    "model.metadata[\"data_type\"] = 'methylation'\n",
    "model.metadata[\"species\"] = 'Homo sapiens'\n",
    "model.metadata[\"year\"] = 2025\n",
    "model.metadata[\"approved_by_author\"] = '✅'\n",
    "model.metadata[\"citation\"] = \"de Lima Camillo, Lucas Paulo, et al. \\\"CpGPT: a foundation model for DNA methylation.\\\" bioRxiv (2024): 2024-10.\"\n",
    "model.metadata[\"doi\"] = \"https://doi.org/10.1101/2024.10.24.619766\"\n",
    "model.metadata[\"research_only\"] = True\n",
    "model.metadata[\"notes\"] = None"
   ]
  },
  {
   "cell_type": "markdown",
   "id": "74492239-5aae-4026-9d90-6bc9c574c110",
   "metadata": {},
   "source": [
    "## Download clock dependencies"
   ]
  },
  {
   "cell_type": "code",
   "execution_count": 64,
   "id": "95f6ba57",
   "metadata": {},
   "outputs": [
    {
     "name": "stdout",
     "output_type": "stream",
     "text": [
      "|-----------> Downloading data to ./cpgpt_grimage3_weights.csv\n",
      "|-----------> in progress: 100.0000%\n",
      "|-----------> Downloading data to ./cpgpt_grimage3_weights_all_datasets.csv\n",
      "|-----------> in progress: 100.0000%\n",
      "|-----------> Downloading data to ./cpgpt_pcgrimage3_weights.csv\n",
      "|-----------> in progress: 100.0000%\n",
      "|-----------> Downloading data to ./input_scaler_mean.npy\n",
      "|-----------> in progress: 100.0000%%\n",
      "|-----------> Downloading data to ./input_scaler_scale.npy\n",
      "|-----------> in progress: 100.0000%%\n",
      "|-----------> Downloading data to ./input_scaler_mean_all_datasets.npy\n",
      "|-----------> in progress: 100.0000%%\n",
      "|-----------> Downloading data to ./input_scaler_scale_all_datasets.npy\n",
      "|-----------> in progress: 100.0000%%\n",
      "|-----------> Downloading data to ./pca_scaler_mean.npy\n",
      "|-----------> in progress: 100.0000%%\n",
      "|-----------> Downloading data to ./pca_scaler_scale.npy\n",
      "|-----------> in progress: 100.0000%%\n",
      "|-----------> Downloading data to ./cpgpt_pcgrimage3_pca_components.npy\n",
      "|-----------> in progress: 100.0000%\n"
     ]
    }
   ],
   "source": [
    "logger = pya.logger.Logger()\n",
    "urls = [\n",
    "    \"https://pyaging.s3.amazonaws.com/supporting_files/cpgpt_grimage3_dependencies/cpgpt_grimage3_weights.csv\",\n",
    "    \"https://pyaging.s3.amazonaws.com/supporting_files/cpgpt_grimage3_dependencies/cpgpt_grimage3_weights_all_datasets.csv\",\n",
    "    \"https://pyaging.s3.amazonaws.com/supporting_files/cpgpt_grimage3_dependencies/cpgpt_pcgrimage3_weights.csv\",\n",
    "    \"https://pyaging.s3.amazonaws.com/supporting_files/cpgpt_grimage3_dependencies/input_scaler_mean.npy\",\n",
    "    \"https://pyaging.s3.amazonaws.com/supporting_files/cpgpt_grimage3_dependencies/input_scaler_scale.npy\",\n",
    "    \"https://pyaging.s3.amazonaws.com/supporting_files/cpgpt_grimage3_dependencies/input_scaler_mean_all_datasets.npy\",\n",
    "    \"https://pyaging.s3.amazonaws.com/supporting_files/cpgpt_grimage3_dependencies/input_scaler_scale_all_datasets.npy\",\n",
    "    \"https://pyaging.s3.amazonaws.com/supporting_files/cpgpt_grimage3_dependencies/pca_scaler_mean.npy\",\n",
    "    \"https://pyaging.s3.amazonaws.com/supporting_files/cpgpt_grimage3_dependencies/pca_scaler_scale.npy\",\n",
    "    \"https://pyaging.s3.amazonaws.com/supporting_files/cpgpt_grimage3_dependencies/cpgpt_pcgrimage3_pca_components.npy\",\n",
    "]\n",
    "dir = \".\"\n",
    "for url in urls:\n",
    "    pya.utils.download(url, dir, logger, indent_level=1)"
   ]
  },
  {
   "cell_type": "markdown",
   "id": "a14c7fc1-abe5-42a3-8bc9-0987521ddf33",
   "metadata": {},
   "source": [
    "## Load features"
   ]
  },
  {
   "cell_type": "markdown",
   "id": "3e737582-3a28-4f55-8da9-3e34125362cc",
   "metadata": {},
   "source": [
    "#### From CSV"
   ]
  },
  {
   "cell_type": "code",
   "execution_count": 65,
   "id": "f1486db4",
   "metadata": {},
   "outputs": [],
   "source": [
    "df = pd.read_csv('cpgpt_grimage3_weights_all_datasets.csv')\n",
    "model.features = df['feature'].tolist()"
   ]
  },
  {
   "cell_type": "code",
   "execution_count": 66,
   "id": "8c43149c",
   "metadata": {},
   "outputs": [
    {
     "data": {
      "text/html": [
       "<div>\n",
       "<style scoped>\n",
       "    .dataframe tbody tr th:only-of-type {\n",
       "        vertical-align: middle;\n",
       "    }\n",
       "\n",
       "    .dataframe tbody tr th {\n",
       "        vertical-align: top;\n",
       "    }\n",
       "\n",
       "    .dataframe thead th {\n",
       "        text-align: right;\n",
       "    }\n",
       "</style>\n",
       "<table border=\"1\" class=\"dataframe\">\n",
       "  <thead>\n",
       "    <tr style=\"text-align: right;\">\n",
       "      <th></th>\n",
       "      <th>feature</th>\n",
       "      <th>coefficient</th>\n",
       "    </tr>\n",
       "  </thead>\n",
       "  <tbody>\n",
       "    <tr>\n",
       "      <th>0</th>\n",
       "      <td>age</td>\n",
       "      <td>0.736548</td>\n",
       "    </tr>\n",
       "    <tr>\n",
       "      <th>1</th>\n",
       "      <td>grimage2timp1</td>\n",
       "      <td>0.137387</td>\n",
       "    </tr>\n",
       "    <tr>\n",
       "      <th>2</th>\n",
       "      <td>grimage2packyrs</td>\n",
       "      <td>0.287951</td>\n",
       "    </tr>\n",
       "    <tr>\n",
       "      <th>3</th>\n",
       "      <td>grimage2logcrp</td>\n",
       "      <td>0.244555</td>\n",
       "    </tr>\n",
       "    <tr>\n",
       "      <th>4</th>\n",
       "      <td>grimage2b2m</td>\n",
       "      <td>0.054020</td>\n",
       "    </tr>\n",
       "  </tbody>\n",
       "</table>\n",
       "</div>"
      ],
      "text/plain": [
       "           feature  coefficient\n",
       "0              age     0.736548\n",
       "1    grimage2timp1     0.137387\n",
       "2  grimage2packyrs     0.287951\n",
       "3   grimage2logcrp     0.244555\n",
       "4      grimage2b2m     0.054020"
      ]
     },
     "execution_count": 66,
     "metadata": {},
     "output_type": "execute_result"
    }
   ],
   "source": [
    "df.head()"
   ]
  },
  {
   "cell_type": "markdown",
   "id": "ee6d8fa0-4767-4c45-9717-eb1c95e2ddc0",
   "metadata": {},
   "source": [
    "## Load weights into base model"
   ]
  },
  {
   "cell_type": "markdown",
   "id": "3958ba73-42e8-40a5-94a1-4f4b8ae05dca",
   "metadata": {},
   "source": [
    "#### Linear model"
   ]
  },
  {
   "cell_type": "code",
   "execution_count": 67,
   "id": "321a437c-8888-4e10-96e9-5ed2826a8f74",
   "metadata": {
    "execution": {
     "iopub.execute_input": "2025-04-07T17:51:44.647294Z",
     "iopub.status.busy": "2025-04-07T17:51:44.647116Z",
     "iopub.status.idle": "2025-04-07T17:51:44.688112Z",
     "shell.execute_reply": "2025-04-07T17:51:44.687757Z"
    }
   },
   "outputs": [],
   "source": [
    "weights = torch.tensor(df['coefficient'].tolist()).unsqueeze(0)\n",
    "intercept = torch.tensor([0.0])"
   ]
  },
  {
   "cell_type": "markdown",
   "id": "5742dc16-e063-414f-a38e-9721beb11351",
   "metadata": {},
   "source": [
    "#### Linear model"
   ]
  },
  {
   "cell_type": "code",
   "execution_count": 68,
   "id": "c2e54115-c17b-48ce-88f1-de546c90d2b3",
   "metadata": {
    "execution": {
     "iopub.execute_input": "2025-04-07T17:51:44.689783Z",
     "iopub.status.busy": "2025-04-07T17:51:44.689683Z",
     "iopub.status.idle": "2025-04-07T17:51:44.692010Z",
     "shell.execute_reply": "2025-04-07T17:51:44.691738Z"
    }
   },
   "outputs": [],
   "source": [
    "base_model = pya.models.LinearModel(input_dim=len(model.features))\n",
    "\n",
    "base_model.linear.weight.data = weights.float()\n",
    "base_model.linear.bias.data = intercept.float()\n",
    "\n",
    "model.base_model = base_model"
   ]
  },
  {
   "cell_type": "markdown",
   "id": "ad8b4c1d-9d57-48b7-9a30-bcfea7b747b1",
   "metadata": {},
   "source": [
    "## Load reference values"
   ]
  },
  {
   "cell_type": "code",
   "execution_count": 69,
   "id": "2089b66f-9cc4-4528-9bdc-5e45efc6d06b",
   "metadata": {
    "execution": {
     "iopub.execute_input": "2025-04-07T17:51:44.693409Z",
     "iopub.status.busy": "2025-04-07T17:51:44.693309Z",
     "iopub.status.idle": "2025-04-07T17:51:44.708180Z",
     "shell.execute_reply": "2025-04-07T17:51:44.707878Z"
    }
   },
   "outputs": [],
   "source": [
    "scale_mean = np.load('input_scaler_mean_all_datasets.npy')\n",
    "scale_std = np.load('input_scaler_scale_all_datasets.npy')\n",
    "\n",
    "model.reference_values = None"
   ]
  },
  {
   "cell_type": "markdown",
   "id": "af3bcf7b-74a8-4d21-9ccb-4de0c2b0516b",
   "metadata": {},
   "source": [
    "## Load preprocess and postprocess objects"
   ]
  },
  {
   "cell_type": "code",
   "execution_count": 70,
   "id": "7a22fb20-c605-424d-8efb-7620c2c0755c",
   "metadata": {
    "execution": {
     "iopub.execute_input": "2025-04-07T17:51:44.709686Z",
     "iopub.status.busy": "2025-04-07T17:51:44.709594Z",
     "iopub.status.idle": "2025-04-07T17:51:44.711225Z",
     "shell.execute_reply": "2025-04-07T17:51:44.710973Z"
    }
   },
   "outputs": [],
   "source": [
    "model.preprocess_name = 'scale'\n",
    "model.preprocess_dependencies = [scale_mean, scale_std]"
   ]
  },
  {
   "cell_type": "code",
   "execution_count": 71,
   "id": "ff4a21cb-cf41-44dc-9ed1-95cf8aa15772",
   "metadata": {
    "execution": {
     "iopub.execute_input": "2025-04-07T17:51:44.712430Z",
     "iopub.status.busy": "2025-04-07T17:51:44.712349Z",
     "iopub.status.idle": "2025-04-07T17:51:44.713842Z",
     "shell.execute_reply": "2025-04-07T17:51:44.713585Z"
    }
   },
   "outputs": [],
   "source": [
    "model.postprocess_name = 'cox_to_years'\n",
    "# model.postprocess_dependencies = [\n",
    "#     -6.60427912e-16,\n",
    "#     1.72004470842156,\n",
    "#     58.8234007654456,\n",
    "#     13.091231557630831\n",
    "# ]\n",
    "\n",
    "model.postprocess_dependencies = [\n",
    "    0.8919050931,\n",
    "    1.59202528637141,\n",
    "    65.10638128157404,\n",
    "    12.363204038137225\n",
    "]"
   ]
  },
  {
   "cell_type": "markdown",
   "id": "86e3d6b1-e67e-4f3d-bd39-0ebec5726c3c",
   "metadata": {},
   "source": [
    "## Check all clock parameters"
   ]
  },
  {
   "cell_type": "code",
   "execution_count": 72,
   "id": "2168355c-47d9-475d-b816-49f65e74887c",
   "metadata": {
    "execution": {
     "iopub.execute_input": "2025-04-07T17:51:44.715112Z",
     "iopub.status.busy": "2025-04-07T17:51:44.715032Z",
     "iopub.status.idle": "2025-04-07T17:51:44.726874Z",
     "shell.execute_reply": "2025-04-07T17:51:44.726577Z"
    }
   },
   "outputs": [
    {
     "name": "stdout",
     "output_type": "stream",
     "text": [
      "\n",
      "%==================================== Model Details ====================================%\n",
      "Model Attributes:\n",
      "\n",
      "training: True\n",
      "metadata: {'approved_by_author': '✅',\n",
      " 'citation': 'de Lima Camillo, Lucas Paulo, et al. \"CpGPT: a foundation model '\n",
      "             'for DNA methylation.\" bioRxiv (2024): 2024-10.',\n",
      " 'clock_name': 'cpgptgrimage3',\n",
      " 'data_type': 'methylation',\n",
      " 'doi': 'https://doi.org/10.1101/2024.10.24.619766',\n",
      " 'notes': None,\n",
      " 'research_only': True,\n",
      " 'species': 'Homo sapiens',\n",
      " 'version': None,\n",
      " 'year': 2025}\n",
      "reference_values: None\n",
      "preprocess_name: 'scale'\n",
      "preprocess_dependencies: [array([ 6.52416417e+01,  3.48958664e+04,  1.79132118e+01,  3.93809992e-01,\n",
      "        1.73345822e+06,  3.49194003e+02,  9.49228459e+03,  9.06203720e+02,\n",
      "       -5.17726985e-01, -2.51474184e-01, -7.81861920e-03, -2.22291158e-01,\n",
      "       -2.95438692e-01, -1.72762763e-01, -2.27222377e-01,  1.04146839e-01,\n",
      "        1.35866795e-01, -2.30935616e-01, -5.11943990e-01,  2.09570292e-01,\n",
      "       -3.75342389e-02, -2.58453744e-02, -1.13471343e-01, -9.05808620e-02,\n",
      "        2.85970694e-01, -2.51099032e-01, -2.35817141e-01, -1.77005891e-01,\n",
      "       -7.76942548e-02, -3.01214073e-01, -1.53033406e-01]),\n",
      " array([1.23588710e+01, 1.98261862e+03, 1.21009642e+01, 5.29817473e-01,\n",
      "       1.79870937e+05, 2.65931328e+01, 3.96469055e+03, 2.32013067e+02,\n",
      "       1.03917902e-01, 2.22811445e-01, 9.45513623e-02, 1.20634490e-01,\n",
      "       1.03412514e-01, 2.60367463e-01, 2.56936130e-01, 2.67763856e-01,\n",
      "       1.91392628e-01, 1.47926968e-01, 1.85113508e-01, 1.14405813e-01,\n",
      "       1.38208534e-01, 3.24844203e-01, 3.23510014e-01, 3.46134855e-01,\n",
      "       2.11050968e-01, 1.24733051e-01, 1.73058485e-01, 2.02405390e-01,\n",
      "       2.99153277e-01, 3.04026942e-01, 2.35840034e-01])]\n",
      "postprocess_name: 'cox_to_years'\n",
      "postprocess_dependencies: [0.8919050931, 1.59202528637141, 65.10638128157404, 12.363204038137225]\n",
      "features: ['age', 'grimage2timp1', 'grimage2packyrs', 'grimage2logcrp', 'grimage2b2m', 'grimage2adm', 'grimage2leptin', 'grimage2gdf15', 'cpgpt_s100a9', 'cpgpt_il17ra', 'cpgpt_nampt', 'cpgpt_tnfrsf13c', 'cpgpt_faslg', 'cpgpt_tgfb1', 'cpgpt_ccl19', 'cpgpt_cst3', 'cpgpt_il6r', 'cpgpt_snap25', 'cpgpt_sdc1', 'cpgpt_cd200', 'cpgpt_tek', 'cpgpt_ccl14', 'cpgpt_il5', 'cpgpt_timp1', 'cpgpt_tnfsf15', 'cpgpt_ctf1', 'cpgpt_il20', 'cpgpt_pdgfa', 'cpgpt_calb2', 'cpgpt_il1rn']... [Total elements: 31]\n",
      "base_model_features: None\n",
      "\n",
      "%==================================== Model Details ====================================%\n",
      "Model Structure:\n",
      "\n",
      "base_model: LinearModel(\n",
      "  (linear): Linear(in_features=31, out_features=1, bias=True)\n",
      ")\n",
      "\n",
      "%==================================== Model Details ====================================%\n",
      "Model Parameters and Weights:\n",
      "\n",
      "base_model.linear.weight: [0.7365479469299316, 0.1373874992132187, 0.2879512310028076, 0.2445550411939621, 0.05401987582445145, 0.12359405308961868, -0.07181378453969955, 0.05227874964475632, -0.20034298300743103, -0.5292778611183167, 0.03910381346940994, 0.32433953881263733, -0.44259461760520935, -0.48510056734085083, -0.7634264826774597, 1.1972490549087524, -0.7242164611816406, 0.019198348745703697, 0.03950208052992821, 0.02675412781536579, 1.677771806716919, -2.2081329822540283, 1.679341435432434, 0.49720528721809387, -1.2496594190597534, -1.4609347581863403, 0.03333180025219917, -0.9409121870994568, 1.48784601688385, 0.8935673236846924]... [Tensor of shape torch.Size([1, 31])]\n",
      "base_model.linear.bias: tensor([0.])\n",
      "\n",
      "%==================================== Model Details ====================================%\n",
      "\n"
     ]
    }
   ],
   "source": [
    "pya.utils.print_model_details(model)"
   ]
  },
  {
   "cell_type": "markdown",
   "id": "986d0262-e0c7-4036-b687-dee53ba392fb",
   "metadata": {},
   "source": [
    "## Basic test"
   ]
  },
  {
   "cell_type": "code",
   "execution_count": 73,
   "id": "936b9877-d076-4ced-99aa-e8d4c58c5caf",
   "metadata": {
    "execution": {
     "iopub.execute_input": "2025-04-07T17:51:44.728239Z",
     "iopub.status.busy": "2025-04-07T17:51:44.728153Z",
     "iopub.status.idle": "2025-04-07T17:51:44.733560Z",
     "shell.execute_reply": "2025-04-07T17:51:44.733262Z"
    }
   },
   "outputs": [
    {
     "data": {
      "text/plain": [
       "tensor([[-148.8709],\n",
       "        [ -90.3218],\n",
       "        [ 151.5141],\n",
       "        [  63.4408],\n",
       "        [  99.8481],\n",
       "        [-145.8232],\n",
       "        [ -22.4437],\n",
       "        [-300.1612],\n",
       "        [ -27.2136],\n",
       "        [ 232.2829]], dtype=torch.float64, grad_fn=<AddBackward0>)"
      ]
     },
     "execution_count": 73,
     "metadata": {},
     "output_type": "execute_result"
    }
   ],
   "source": [
    "torch.manual_seed(42)\n",
    "input = torch.randn(10, len(model.features), dtype=float).double()\n",
    "model.eval()\n",
    "model.to(float)\n",
    "pred = model(input)\n",
    "pred"
   ]
  },
  {
   "cell_type": "markdown",
   "id": "fe8299d7-9285-4e22-82fd-b664434b4369",
   "metadata": {},
   "source": [
    "## Save torch model"
   ]
  },
  {
   "cell_type": "code",
   "execution_count": 74,
   "id": "5ef2fa8d-c80b-4fdd-8555-79c0d541788e",
   "metadata": {
    "execution": {
     "iopub.execute_input": "2025-04-07T17:51:44.734916Z",
     "iopub.status.busy": "2025-04-07T17:51:44.734814Z",
     "iopub.status.idle": "2025-04-07T17:51:44.739278Z",
     "shell.execute_reply": "2025-04-07T17:51:44.738936Z"
    }
   },
   "outputs": [],
   "source": [
    "torch.save(model, f\"../weights/{model.metadata['clock_name']}.pt\")"
   ]
  },
  {
   "cell_type": "markdown",
   "id": "bac6257b-8d08-4a90-8d0b-7f745dc11ac1",
   "metadata": {},
   "source": [
    "## Clear directory\n",
    "<a id=\"10\"></a>"
   ]
  },
  {
   "cell_type": "code",
   "execution_count": 75,
   "id": "11aeaa70-44c0-42f9-86d7-740e3849a7a6",
   "metadata": {
    "execution": {
     "iopub.execute_input": "2025-04-07T17:51:44.740582Z",
     "iopub.status.busy": "2025-04-07T17:51:44.740494Z",
     "iopub.status.idle": "2025-04-07T17:51:44.743819Z",
     "shell.execute_reply": "2025-04-07T17:51:44.743572Z"
    }
   },
   "outputs": [
    {
     "name": "stdout",
     "output_type": "stream",
     "text": [
      "Deleted file: input_scaler_mean_all_datasets.npy\n",
      "Deleted file: cpgpt_pcgrimage3_pca_components.npy\n",
      "Deleted file: cpgpt_pcgrimage3_weights.csv\n",
      "Deleted file: input_scaler_scale_all_datasets.npy\n",
      "Deleted file: input_scaler_scale.npy\n",
      "Deleted file: pca_scaler_mean.npy\n",
      "Deleted file: cpgpt_grimage3_weights_all_datasets.csv\n",
      "Deleted file: pca_scaler_scale.npy\n",
      "Deleted file: cpgpt_grimage3_weights.csv\n",
      "Deleted file: input_scaler_mean.npy\n"
     ]
    }
   ],
   "source": [
    "# Function to remove a folder and all its contents\n",
    "def remove_folder(path):\n",
    "    try:\n",
    "        shutil.rmtree(path)\n",
    "        print(f\"Deleted folder: {path}\")\n",
    "    except Exception as e:\n",
    "        print(f\"Error deleting folder {path}: {e}\")\n",
    "\n",
    "# Get a list of all files and folders in the current directory\n",
    "all_items = os.listdir('.')\n",
    "\n",
    "# Loop through the items\n",
    "for item in all_items:\n",
    "    # Check if it's a file and does not end with .ipynb\n",
    "    if os.path.isfile(item) and not item.endswith('.ipynb'):\n",
    "        os.remove(item)\n",
    "        print(f\"Deleted file: {item}\")\n",
    "    # Check if it's a folder\n",
    "    elif os.path.isdir(item):\n",
    "        remove_folder(item)"
   ]
  }
 ],
 "metadata": {
  "kernelspec": {
   "display_name": "research",
   "language": "python",
   "name": "python3"
  },
  "language_info": {
   "codemirror_mode": {
    "name": "ipython",
    "version": 3
   },
   "file_extension": ".py",
   "mimetype": "text/x-python",
   "name": "python",
   "nbconvert_exporter": "python",
   "pygments_lexer": "ipython3",
   "version": "3.9.7"
  }
 },
 "nbformat": 4,
 "nbformat_minor": 5
}
