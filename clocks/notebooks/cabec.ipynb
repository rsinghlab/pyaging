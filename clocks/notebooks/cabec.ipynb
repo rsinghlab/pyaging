{
 "cells": [
  {
   "cell_type": "markdown",
   "id": "2f04eee0-5928-4e74-a754-6dc2e528810c",
   "metadata": {},
   "source": [
    "# cABEC"
   ]
  },
  {
   "cell_type": "markdown",
   "id": "a3f514a3-772c-4a14-afdf-5a8376851ff4",
   "metadata": {},
   "source": [
    "## Index\n",
    "1. [Instantiate model class](#Instantiate-model-class)\n",
    "2. [Define clock metadata](#Define-clock-metadata)\n",
    "3. [Download clock dependencies](#Download-clock-dependencies)\n",
    "5. [Load features](#Load-features)\n",
    "6. [Load weights into base model](#Load-weights-into-base-model)\n",
    "7. [Load reference values](#Load-reference-values)\n",
    "8. [Load preprocess and postprocess objects](#Load-preprocess-and-postprocess-objects)\n",
    "10. [Check all clock parameters](#Check-all-clock-parameters)\n",
    "10. [Basic test](#Basic-test)\n",
    "11. [Save torch model](#Save-torch-model)\n",
    "12. [Clear directory](#Clear-directory)"
   ]
  },
  {
   "cell_type": "markdown",
   "id": "d95fafdc-643a-40ea-a689-200bd132e90c",
   "metadata": {},
   "source": [
    "Let's first import some packages:"
   ]
  },
  {
   "cell_type": "code",
   "execution_count": 1,
   "id": "4adfb4de-cd79-4913-a1af-9e23e9e236c9",
   "metadata": {
    "execution": {
     "iopub.execute_input": "2024-03-05T20:17:35.543046Z",
     "iopub.status.busy": "2024-03-05T20:17:35.542686Z",
     "iopub.status.idle": "2024-03-05T20:17:36.906933Z",
     "shell.execute_reply": "2024-03-05T20:17:36.906611Z"
    }
   },
   "outputs": [],
   "source": [
    "import os\n",
    "import inspect\n",
    "import shutil\n",
    "import json\n",
    "import torch\n",
    "import pandas as pd\n",
    "import pyaging as pya"
   ]
  },
  {
   "cell_type": "markdown",
   "id": "145082e5-ced4-47ae-88c0-cb69773e3c5a",
   "metadata": {},
   "source": [
    "## Instantiate model class"
   ]
  },
  {
   "cell_type": "code",
   "execution_count": 2,
   "id": "8aa77372-7ed3-4da7-abc9-d30372106139",
   "metadata": {
    "execution": {
     "iopub.execute_input": "2024-03-05T20:17:36.908872Z",
     "iopub.status.busy": "2024-03-05T20:17:36.908692Z",
     "iopub.status.idle": "2024-03-05T20:17:36.916189Z",
     "shell.execute_reply": "2024-03-05T20:17:36.915931Z"
    }
   },
   "outputs": [
    {
     "name": "stdout",
     "output_type": "stream",
     "text": [
      "class cABEC(pyagingModel):\n",
      "    def __init__(self):\n",
      "        super().__init__()\n",
      "\n",
      "    def preprocess(self, x):\n",
      "        return x\n",
      "\n",
      "    def postprocess(self, x):\n",
      "        return x\n",
      "\n"
     ]
    }
   ],
   "source": [
    "def print_entire_class(cls):\n",
    "    source = inspect.getsource(cls)\n",
    "    print(source)\n",
    "\n",
    "print_entire_class(pya.models.cABEC)"
   ]
  },
  {
   "cell_type": "code",
   "execution_count": 3,
   "id": "78536494-f1d9-44de-8583-c89a310d2307",
   "metadata": {
    "execution": {
     "iopub.execute_input": "2024-03-05T20:17:36.917755Z",
     "iopub.status.busy": "2024-03-05T20:17:36.917671Z",
     "iopub.status.idle": "2024-03-05T20:17:36.919275Z",
     "shell.execute_reply": "2024-03-05T20:17:36.919020Z"
    }
   },
   "outputs": [],
   "source": [
    "model = pya.models.cABEC()"
   ]
  },
  {
   "cell_type": "markdown",
   "id": "51f8615e-01fa-4aa5-b196-3ee2b35d261c",
   "metadata": {},
   "source": [
    "## Define clock metadata"
   ]
  },
  {
   "cell_type": "code",
   "execution_count": 4,
   "id": "6601da9e-8adc-44ee-9308-75e3cd31b816",
   "metadata": {
    "execution": {
     "iopub.execute_input": "2024-03-05T20:17:36.920750Z",
     "iopub.status.busy": "2024-03-05T20:17:36.920670Z",
     "iopub.status.idle": "2024-03-05T20:17:36.922611Z",
     "shell.execute_reply": "2024-03-05T20:17:36.922360Z"
    }
   },
   "outputs": [],
   "source": [
    "model.metadata[\"clock_name\"] = 'cabec'\n",
    "model.metadata[\"data_type\"] = 'methylation'\n",
    "model.metadata[\"species\"] = 'Homo sapiens'\n",
    "model.metadata[\"year\"] = 2020\n",
    "model.metadata[\"approved_by_author\"] = '⌛'\n",
    "model.metadata[\"citation\"] = \"Lee, Yunsung, et al. \\\"Blood-based epigenetic estimators of chronological age in human adults using DNA methylation data from the Illumina MethylationEPIC array.\\\" BMC genomics 21 (2020): 1-13.\"\n",
    "model.metadata[\"doi\"] = \"https://doi.org/10.1186/s12864-020-07168-8\"\n",
    "model.metadata[\"research_only\"] = None\n",
    "model.metadata[\"notes\"] = None"
   ]
  },
  {
   "cell_type": "markdown",
   "id": "74492239-5aae-4026-9d90-6bc9c574c110",
   "metadata": {},
   "source": [
    "## Download clock dependencies"
   ]
  },
  {
   "cell_type": "markdown",
   "id": "9a5b163b-1b25-4c2f-ad0c-86f0f2ed39d0",
   "metadata": {},
   "source": [
    "#### Download directly with curl"
   ]
  },
  {
   "cell_type": "code",
   "execution_count": 5,
   "id": "28fdcad4-1f62-4da7-b556-1ecc8cf3d0e0",
   "metadata": {
    "execution": {
     "iopub.execute_input": "2024-03-05T20:17:36.924119Z",
     "iopub.status.busy": "2024-03-05T20:17:36.924044Z",
     "iopub.status.idle": "2024-03-05T20:17:37.181539Z",
     "shell.execute_reply": "2024-03-05T20:17:37.180660Z"
    }
   },
   "outputs": [
    {
     "data": {
      "text/plain": [
       "0"
      ]
     },
     "execution_count": 5,
     "metadata": {},
     "output_type": "execute_result"
    }
   ],
   "source": [
    "supplementary_url = \"https://static-content.springer.com/esm/art%3A10.1186%2Fs12864-020-07168-8/MediaObjects/12864_2020_7168_MOESM1_ESM.csv\"\n",
    "supplementary_file_name = \"coefficients.csv\"\n",
    "os.system(f\"curl -o {supplementary_file_name} {supplementary_url}\")"
   ]
  },
  {
   "cell_type": "markdown",
   "id": "5035b180-3d1b-4432-8ebe-b9c92bd93a7f",
   "metadata": {},
   "source": [
    "## Load features"
   ]
  },
  {
   "cell_type": "markdown",
   "id": "15f4af76-b93c-438c-b57f-f129d6e9ec99",
   "metadata": {},
   "source": [
    "#### From CSV file"
   ]
  },
  {
   "cell_type": "code",
   "execution_count": 6,
   "id": "ec85c728",
   "metadata": {},
   "outputs": [],
   "source": [
    "df = pd.read_csv('coefficients.csv', index_col=0)\n",
    "df = df[~df['cABEC_coefficient'].isna()]\n",
    "df['feature'] = df.index.tolist()\n",
    "df['coefficient'] = df['cABEC_coefficient']\n",
    "model.features = df['feature'][1:].tolist()"
   ]
  },
  {
   "cell_type": "markdown",
   "id": "ee6d8fa0-4767-4c45-9717-eb1c95e2ddc0",
   "metadata": {},
   "source": [
    "## Load weights into base model"
   ]
  },
  {
   "cell_type": "code",
   "execution_count": 7,
   "id": "e09b3463-4fd4-41b1-ac21-e63ddd223fe0",
   "metadata": {
    "execution": {
     "iopub.execute_input": "2024-03-05T20:17:37.679505Z",
     "iopub.status.busy": "2024-03-05T20:17:37.679254Z",
     "iopub.status.idle": "2024-03-05T20:17:37.682953Z",
     "shell.execute_reply": "2024-03-05T20:17:37.682389Z"
    }
   },
   "outputs": [
    {
     "name": "stderr",
     "output_type": "stream",
     "text": [
      "<ipython-input-7-232b7c74dbf3>:2: FutureWarning: Series.__getitem__ treating keys as positions is deprecated. In a future version, integer keys will always be treated as labels (consistent with DataFrame behavior). To access a value by position, use `ser.iloc[pos]`\n",
      "  intercept = torch.tensor([df['coefficient'][0]])\n"
     ]
    }
   ],
   "source": [
    "weights = torch.tensor(df['coefficient'][1:].tolist()).unsqueeze(0)\n",
    "intercept = torch.tensor([df['coefficient'][0]])"
   ]
  },
  {
   "cell_type": "markdown",
   "id": "ad261636-5b00-4979-bb1d-67a851f7aa19",
   "metadata": {},
   "source": [
    "#### Linear model"
   ]
  },
  {
   "cell_type": "code",
   "execution_count": 8,
   "id": "d7f43b99-26f2-4622-9a76-316712058877",
   "metadata": {
    "execution": {
     "iopub.execute_input": "2024-03-05T20:17:37.686070Z",
     "iopub.status.busy": "2024-03-05T20:17:37.685886Z",
     "iopub.status.idle": "2024-03-05T20:17:37.689293Z",
     "shell.execute_reply": "2024-03-05T20:17:37.688835Z"
    }
   },
   "outputs": [],
   "source": [
    "base_model = pya.models.LinearModel(input_dim=len(model.features))\n",
    "\n",
    "base_model.linear.weight.data = weights.float()\n",
    "base_model.linear.bias.data = intercept.float()\n",
    "\n",
    "model.base_model = base_model"
   ]
  },
  {
   "cell_type": "markdown",
   "id": "ad8b4c1d-9d57-48b7-9a30-bcfea7b747b1",
   "metadata": {},
   "source": [
    "## Load reference values"
   ]
  },
  {
   "cell_type": "code",
   "execution_count": 9,
   "id": "86de757f-fb38-4bcb-b91e-fc3372d22aad",
   "metadata": {
    "execution": {
     "iopub.execute_input": "2024-03-05T20:17:37.691973Z",
     "iopub.status.busy": "2024-03-05T20:17:37.691810Z",
     "iopub.status.idle": "2024-03-05T20:17:37.713422Z",
     "shell.execute_reply": "2024-03-05T20:17:37.713076Z"
    }
   },
   "outputs": [],
   "source": [
    "model.reference_values = None"
   ]
  },
  {
   "cell_type": "markdown",
   "id": "af3bcf7b-74a8-4d21-9ccb-4de0c2b0516b",
   "metadata": {},
   "source": [
    "## Load preprocess and postprocess objects"
   ]
  },
  {
   "cell_type": "code",
   "execution_count": 10,
   "id": "7a22fb20-c605-424d-8efb-7620c2c0755c",
   "metadata": {
    "execution": {
     "iopub.execute_input": "2024-03-05T20:17:37.715600Z",
     "iopub.status.busy": "2024-03-05T20:17:37.715468Z",
     "iopub.status.idle": "2024-03-05T20:17:37.717220Z",
     "shell.execute_reply": "2024-03-05T20:17:37.716911Z"
    }
   },
   "outputs": [],
   "source": [
    "model.preprocess_name = None\n",
    "model.preprocess_dependencies = None"
   ]
  },
  {
   "cell_type": "code",
   "execution_count": 11,
   "id": "ff4a21cb-cf41-44dc-9ed1-95cf8aa15772",
   "metadata": {
    "execution": {
     "iopub.execute_input": "2024-03-05T20:17:37.719024Z",
     "iopub.status.busy": "2024-03-05T20:17:37.718901Z",
     "iopub.status.idle": "2024-03-05T20:17:37.720622Z",
     "shell.execute_reply": "2024-03-05T20:17:37.720306Z"
    }
   },
   "outputs": [],
   "source": [
    "model.postprocess_name = None\n",
    "model.postprocess_dependencies = None"
   ]
  },
  {
   "cell_type": "markdown",
   "id": "86e3d6b1-e67e-4f3d-bd39-0ebec5726c3c",
   "metadata": {},
   "source": [
    "## Check all clock parameters"
   ]
  },
  {
   "cell_type": "code",
   "execution_count": 12,
   "id": "2168355c-47d9-475d-b816-49f65e74887c",
   "metadata": {
    "execution": {
     "iopub.execute_input": "2024-03-05T20:17:37.722338Z",
     "iopub.status.busy": "2024-03-05T20:17:37.722225Z",
     "iopub.status.idle": "2024-03-05T20:17:37.725744Z",
     "shell.execute_reply": "2024-03-05T20:17:37.725443Z"
    }
   },
   "outputs": [
    {
     "name": "stdout",
     "output_type": "stream",
     "text": [
      "\n",
      "%==================================== Model Details ====================================%\n",
      "Model Attributes:\n",
      "\n",
      "training: True\n",
      "metadata: {'approved_by_author': '⌛',\n",
      " 'citation': 'Lee, Yunsung, et al. \"Blood-based epigenetic estimators of '\n",
      "             'chronological age in human adults using DNA methylation data '\n",
      "             'from the Illumina MethylationEPIC array.\" BMC genomics 21 '\n",
      "             '(2020): 1-13.',\n",
      " 'clock_name': 'cabec',\n",
      " 'data_type': 'methylation',\n",
      " 'doi': 'https://doi.org/10.1186/s12864-020-07168-8',\n",
      " 'notes': None,\n",
      " 'research_only': None,\n",
      " 'species': 'Homo sapiens',\n",
      " 'version': None,\n",
      " 'year': 2020}\n",
      "reference_values: None\n",
      "preprocess_name: None\n",
      "preprocess_dependencies: None\n",
      "postprocess_name: None\n",
      "postprocess_dependencies: None\n",
      "features: ['cg00000165', 'cg00001687', 'cg00004257', 'cg00012238', 'cg00015770', 'cg00018181', 'cg00039864', 'cg00053073', 'cg00071360', 'cg00074086', 'cg00112685', 'cg00116092', 'cg00156551', 'cg00172812', 'cg00193490', 'cg00199846', 'cg00231483', 'cg00260883', 'cg00262681', 'cg00265788', 'cg00290373', 'cg00314660', 'cg00347882', 'cg00370293', 'cg00381684', 'cg00387658', 'cg00397859', 'cg00406023', 'cg00448707', 'cg00456672']... [Total elements: 1892]\n",
      "base_model_features: None\n",
      "\n",
      "%==================================== Model Details ====================================%\n",
      "Model Structure:\n",
      "\n",
      "base_model: LinearModel(\n",
      "  (linear): Linear(in_features=1892, out_features=1, bias=True)\n",
      ")\n",
      "\n",
      "%==================================== Model Details ====================================%\n",
      "Model Parameters and Weights:\n",
      "\n",
      "base_model.linear.weight: [-0.5071440935134888, 3.8805794715881348, -0.004386255983263254, -0.3082602918148041, 0.7501303553581238, -0.07783860713243484, -0.03706755116581917, -3.0622639656066895, -0.27626731991767883, -0.4478277266025543, 0.7638550400733948, 1.4799879789352417, -0.9727926254272461, -0.08195030689239502, -2.9534730911254883, 1.5299639701843262, -0.09737197309732437, 0.12180330604314804, -0.06913822144269943, -0.36189907789230347, -0.07744547724723816, -0.7775667309761047, -1.5537751913070679, -0.0737200528383255, 0.02495921030640602, -0.2793864905834198, 0.4901841878890991, 0.8282898664474487, 1.9143801927566528, -0.2619211971759796]... [Tensor of shape torch.Size([1, 1892])]\n",
      "base_model.linear.bias: tensor([42.8285])\n",
      "\n",
      "%==================================== Model Details ====================================%\n",
      "\n"
     ]
    }
   ],
   "source": [
    "pya.utils.print_model_details(model)"
   ]
  },
  {
   "cell_type": "markdown",
   "id": "986d0262-e0c7-4036-b687-dee53ba392fb",
   "metadata": {},
   "source": [
    "## Basic test"
   ]
  },
  {
   "cell_type": "code",
   "execution_count": 13,
   "id": "936b9877-d076-4ced-99aa-e8d4c58c5caf",
   "metadata": {
    "execution": {
     "iopub.execute_input": "2024-03-05T20:17:37.727432Z",
     "iopub.status.busy": "2024-03-05T20:17:37.727339Z",
     "iopub.status.idle": "2024-03-05T20:17:37.731216Z",
     "shell.execute_reply": "2024-03-05T20:17:37.730942Z"
    }
   },
   "outputs": [
    {
     "data": {
      "text/plain": [
       "tensor([[ 35.7819],\n",
       "        [ 48.6824],\n",
       "        [-73.2872],\n",
       "        [141.0891],\n",
       "        [ 49.2925],\n",
       "        [-72.9852],\n",
       "        [213.5275],\n",
       "        [ 64.9323],\n",
       "        [ 80.0819],\n",
       "        [-44.4303]], dtype=torch.float64, grad_fn=<AddmmBackward0>)"
      ]
     },
     "execution_count": 13,
     "metadata": {},
     "output_type": "execute_result"
    }
   ],
   "source": [
    "torch.manual_seed(42)\n",
    "input = torch.randn(10, len(model.features), dtype=float)\n",
    "model.eval()\n",
    "model.to(float)\n",
    "pred = model(input)\n",
    "pred"
   ]
  },
  {
   "cell_type": "markdown",
   "id": "fe8299d7-9285-4e22-82fd-b664434b4369",
   "metadata": {},
   "source": [
    "## Save torch model"
   ]
  },
  {
   "cell_type": "code",
   "execution_count": 14,
   "id": "5ef2fa8d-c80b-4fdd-8555-79c0d541788e",
   "metadata": {
    "execution": {
     "iopub.execute_input": "2024-03-05T20:17:37.732855Z",
     "iopub.status.busy": "2024-03-05T20:17:37.732762Z",
     "iopub.status.idle": "2024-03-05T20:17:37.735692Z",
     "shell.execute_reply": "2024-03-05T20:17:37.735426Z"
    }
   },
   "outputs": [],
   "source": [
    "torch.save(model, f\"../weights/{model.metadata['clock_name']}.pt\")"
   ]
  },
  {
   "cell_type": "markdown",
   "id": "bac6257b-8d08-4a90-8d0b-7f745dc11ac1",
   "metadata": {},
   "source": [
    "## Clear directory\n",
    "<a id=\"10\"></a>"
   ]
  },
  {
   "cell_type": "code",
   "execution_count": null,
   "id": "11aeaa70-44c0-42f9-86d7-740e3849a7a6",
   "metadata": {
    "execution": {
     "iopub.execute_input": "2024-03-05T20:17:37.737247Z",
     "iopub.status.busy": "2024-03-05T20:17:37.737152Z",
     "iopub.status.idle": "2024-03-05T20:17:37.740189Z",
     "shell.execute_reply": "2024-03-05T20:17:37.739959Z"
    }
   },
   "outputs": [
    {
     "name": "stdout",
     "output_type": "stream",
     "text": [
      "Deleted file: coefficients.csv\n"
     ]
    }
   ],
   "source": [
    "# Function to remove a folder and all its contents\n",
    "def remove_folder(path):\n",
    "    try:\n",
    "        shutil.rmtree(path)\n",
    "        print(f\"Deleted folder: {path}\")\n",
    "    except Exception as e:\n",
    "        print(f\"Error deleting folder {path}: {e}\")\n",
    "\n",
    "# Get a list of all files and folders in the current directory\n",
    "all_items = os.listdir('.')\n",
    "\n",
    "# Loop through the items\n",
    "for item in all_items:\n",
    "    # Check if it's a file and does not end with .ipynb\n",
    "    if os.path.isfile(item) and not item.endswith('.ipynb'):\n",
    "        os.remove(item)\n",
    "        print(f\"Deleted file: {item}\")\n",
    "    # Check if it's a folder\n",
    "    elif os.path.isdir(item):\n",
    "        remove_folder(item)"
   ]
  }
 ],
 "metadata": {
  "kernelspec": {
   "display_name": "research",
   "language": "python",
   "name": "python3"
  },
  "language_info": {
   "codemirror_mode": {
    "name": "ipython",
    "version": 3
   },
   "file_extension": ".py",
   "mimetype": "text/x-python",
   "name": "python",
   "nbconvert_exporter": "python",
   "pygments_lexer": "ipython3",
   "version": "3.9.7"
  }
 },
 "nbformat": 4,
 "nbformat_minor": 5
}
