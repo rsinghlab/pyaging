{
 "cells": [
  {
   "cell_type": "markdown",
   "id": "2f04eee0-5928-4e74-a754-6dc2e528810c",
   "metadata": {},
   "source": [
    "# CamilloH3K27me3"
   ]
  },
  {
   "cell_type": "markdown",
   "id": "a3f514a3-772c-4a14-afdf-5a8376851ff4",
   "metadata": {},
   "source": [
    "## Index\n",
    "1. [Instantiate model class](#Instantiate-model-class)\n",
    "2. [Define clock metadata](#Define-clock-metadata)\n",
    "3. [Download clock dependencies](#Download-clock-dependencies)\n",
    "5. [Load features](#Load-features)\n",
    "6. [Load weights into base model](#Load-weights-into-base-model)\n",
    "7. [Load reference values](#Load-reference-values)\n",
    "8. [Load preprocess and postprocess objects](#Load-preprocess-and-postprocess-objects)\n",
    "10. [Check all clock parameters](#Check-all-clock-parameters)\n",
    "10. [Basic test](#Basic-test)\n",
    "11. [Save torch model](#Save-torch-model)\n",
    "12. [Clear directory](#Clear-directory)"
   ]
  },
  {
   "cell_type": "markdown",
   "id": "d95fafdc-643a-40ea-a689-200bd132e90c",
   "metadata": {},
   "source": [
    "Let's first import some packages:"
   ]
  },
  {
   "cell_type": "code",
   "execution_count": 1,
   "id": "4adfb4de-cd79-4913-a1af-9e23e9e236c9",
   "metadata": {
    "execution": {
     "iopub.execute_input": "2025-04-07T17:48:00.960111Z",
     "iopub.status.busy": "2025-04-07T17:48:00.959838Z",
     "iopub.status.idle": "2025-04-07T17:48:02.377365Z",
     "shell.execute_reply": "2025-04-07T17:48:02.377042Z"
    }
   },
   "outputs": [],
   "source": [
    "import os\n",
    "import inspect\n",
    "import shutil\n",
    "import json\n",
    "import torch\n",
    "import pandas as pd\n",
    "import pyaging as pya\n",
    "import joblib\n",
    "import numpy as np"
   ]
  },
  {
   "cell_type": "markdown",
   "id": "145082e5-ced4-47ae-88c0-cb69773e3c5a",
   "metadata": {},
   "source": [
    "## Instantiate model class"
   ]
  },
  {
   "cell_type": "code",
   "execution_count": 2,
   "id": "8aa77372-7ed3-4da7-abc9-d30372106139",
   "metadata": {
    "execution": {
     "iopub.execute_input": "2025-04-07T17:48:02.379115Z",
     "iopub.status.busy": "2025-04-07T17:48:02.378887Z",
     "iopub.status.idle": "2025-04-07T17:48:02.385594Z",
     "shell.execute_reply": "2025-04-07T17:48:02.385323Z"
    }
   },
   "outputs": [
    {
     "name": "stdout",
     "output_type": "stream",
     "text": [
      "class CamilloH3K27me3(pyagingModel):\n",
      "    def __init__(self):\n",
      "        super().__init__()\n",
      "\n",
      "    def preprocess(self, x):\n",
      "        return x\n",
      "\n",
      "    def postprocess(self, x):\n",
      "        return x\n",
      "\n"
     ]
    }
   ],
   "source": [
    "def print_entire_class(cls):\n",
    "    source = inspect.getsource(cls)\n",
    "    print(source)\n",
    "\n",
    "print_entire_class(pya.models.CamilloH3K27me3)"
   ]
  },
  {
   "cell_type": "code",
   "execution_count": 3,
   "id": "78536494-f1d9-44de-8583-c89a310d2307",
   "metadata": {
    "execution": {
     "iopub.execute_input": "2025-04-07T17:48:02.386911Z",
     "iopub.status.busy": "2025-04-07T17:48:02.386815Z",
     "iopub.status.idle": "2025-04-07T17:48:02.388434Z",
     "shell.execute_reply": "2025-04-07T17:48:02.388202Z"
    }
   },
   "outputs": [],
   "source": [
    "model = pya.models.CamilloH3K27me3()"
   ]
  },
  {
   "cell_type": "markdown",
   "id": "51f8615e-01fa-4aa5-b196-3ee2b35d261c",
   "metadata": {},
   "source": [
    "## Define clock metadata"
   ]
  },
  {
   "cell_type": "code",
   "execution_count": 4,
   "id": "6601da9e-8adc-44ee-9308-75e3cd31b816",
   "metadata": {
    "execution": {
     "iopub.execute_input": "2025-04-07T17:48:02.389689Z",
     "iopub.status.busy": "2025-04-07T17:48:02.389604Z",
     "iopub.status.idle": "2025-04-07T17:48:02.391539Z",
     "shell.execute_reply": "2025-04-07T17:48:02.391297Z"
    }
   },
   "outputs": [],
   "source": [
    "model.metadata[\"clock_name\"] = 'camilloh3k27me3'\n",
    "model.metadata[\"data_type\"] = 'histone mark'\n",
    "model.metadata[\"species\"] = 'Homo sapiens'\n",
    "model.metadata[\"year\"] = 2023\n",
    "model.metadata[\"approved_by_author\"] = '✅'\n",
    "model.metadata[\"citation\"] = \"de Lima Camillo, Lucas Paulo, et al. \\\"Histone mark age of human tissues and cells.\\\" bioRxiv (2023): 2023-08.\"\n",
    "model.metadata[\"doi\"] = 'https://doi.org/10.1101/2023.08.21.554165'\n",
    "model.metadata[\"research_only\"] = None\n",
    "model.metadata[\"notes\"] = None"
   ]
  },
  {
   "cell_type": "markdown",
   "id": "74492239-5aae-4026-9d90-6bc9c574c110",
   "metadata": {},
   "source": [
    "## Download clock dependencies"
   ]
  },
  {
   "cell_type": "markdown",
   "id": "7bec474f-80ce-4884-9472-30c193327117",
   "metadata": {},
   "source": [
    "#### Download GitHub repository"
   ]
  },
  {
   "cell_type": "code",
   "execution_count": 5,
   "id": "df09b874-28a1-4140-9b1b-9e16ef23668c",
   "metadata": {
    "execution": {
     "iopub.execute_input": "2025-04-07T17:48:02.392829Z",
     "iopub.status.busy": "2025-04-07T17:48:02.392742Z",
     "iopub.status.idle": "2025-04-07T17:48:19.748812Z",
     "shell.execute_reply": "2025-04-07T17:48:19.748455Z"
    }
   },
   "outputs": [
    {
     "data": {
      "text/plain": [
       "0"
      ]
     },
     "execution_count": 5,
     "metadata": {},
     "output_type": "execute_result"
    }
   ],
   "source": [
    "github_url = \"https://github.com/rsinghlab/HistoneClocks.git\"\n",
    "github_folder_name = github_url.split('/')[-1].split('.')[0]\n",
    "os.system(f\"git clone {github_url}\")"
   ]
  },
  {
   "cell_type": "markdown",
   "id": "5035b180-3d1b-4432-8ebe-b9c92bd93a7f",
   "metadata": {},
   "source": [
    "## Load features"
   ]
  },
  {
   "cell_type": "markdown",
   "id": "15f4af76-b93c-438c-b57f-f129d6e9ec99",
   "metadata": {},
   "source": [
    "#### From CSV file"
   ]
  },
  {
   "cell_type": "code",
   "execution_count": 6,
   "id": "8a3d5de6-6303-487a-8b4d-e6345792f7be",
   "metadata": {
    "execution": {
     "iopub.execute_input": "2025-04-07T17:48:19.750683Z",
     "iopub.status.busy": "2025-04-07T17:48:19.750548Z",
     "iopub.status.idle": "2025-04-07T17:48:19.933918Z",
     "shell.execute_reply": "2025-04-07T17:48:19.933585Z"
    }
   },
   "outputs": [
    {
     "name": "stderr",
     "output_type": "stream",
     "text": [
      "/Users/lucascamillo/mambaforge/envs/research/lib/python3.9/site-packages/sklearn/base.py:380: InconsistentVersionWarning: Trying to unpickle estimator ElasticNet from version 1.0.1 when using version 1.6.0. This might lead to breaking code or invalid results. Use at your own risk. For more info please refer to:\n",
      "https://scikit-learn.org/stable/model_persistence.html#security-maintainability-limitations\n",
      "  warnings.warn(\n",
      "/Users/lucascamillo/mambaforge/envs/research/lib/python3.9/site-packages/sklearn/base.py:380: InconsistentVersionWarning: Trying to unpickle estimator TruncatedSVD from version 1.0.1 when using version 1.6.0. This might lead to breaking code or invalid results. Use at your own risk. For more info please refer to:\n",
      "https://scikit-learn.org/stable/model_persistence.html#security-maintainability-limitations\n",
      "  warnings.warn(\n",
      "/Users/lucascamillo/mambaforge/envs/research/lib/python3.9/site-packages/sklearn/base.py:380: InconsistentVersionWarning: Trying to unpickle estimator ARDRegression from version 1.0.1 when using version 1.6.0. This might lead to breaking code or invalid results. Use at your own risk. For more info please refer to:\n",
      "https://scikit-learn.org/stable/model_persistence.html#security-maintainability-limitations\n",
      "  warnings.warn(\n"
     ]
    }
   ],
   "source": [
    "histone = 'H3K' + model.metadata[\"clock_name\"].split('k')[1]\n",
    "\n",
    "feature_selector_path = 'HistoneClocks/results/models/' + histone + '_feature_selector.pkl'\n",
    "feature_selector = joblib.load(feature_selector_path)\n",
    "\n",
    "dim_reduction_path = 'HistoneClocks/results/models/' + histone + '_dim_reduction.pkl'\n",
    "dim_reduction = joblib.load(dim_reduction_path)\n",
    "\n",
    "ard_model_path = 'HistoneClocks/results/models/' + histone + '_model.pkl'\n",
    "ard_model = joblib.load(ard_model_path)\n",
    "\n",
    "genes = pd.read_csv('HistoneClocks/metadata/Ensembl-105-EnsDb-for-Homo-sapiens-genes.csv')\n",
    "chromosomes = ['1', '10', '11', '12', '13', '14', '15', '16', '17', '18', '19', '2', '20', '21', '22', '3', '4', '5', '6', '7', '8', '9', 'X']\n",
    "genes = genes[genes['chr'].apply(lambda x: x in chromosomes)]\n",
    "genes.index = genes.gene_id\n",
    "model.features = genes.gene_id[np.abs(feature_selector.coef_) > 0].tolist()"
   ]
  },
  {
   "cell_type": "markdown",
   "id": "ee6d8fa0-4767-4c45-9717-eb1c95e2ddc0",
   "metadata": {},
   "source": [
    "## Load weights into base model"
   ]
  },
  {
   "cell_type": "code",
   "execution_count": 7,
   "id": "e09b3463-4fd4-41b1-ac21-e63ddd223fe0",
   "metadata": {
    "execution": {
     "iopub.execute_input": "2025-04-07T17:48:19.935414Z",
     "iopub.status.busy": "2025-04-07T17:48:19.935319Z",
     "iopub.status.idle": "2025-04-07T17:48:19.947472Z",
     "shell.execute_reply": "2025-04-07T17:48:19.947181Z"
    }
   },
   "outputs": [],
   "source": [
    "weights = torch.tensor(ard_model.coef_).unsqueeze(0).float()\n",
    "intercept = torch.tensor([ard_model.intercept_]).float()\n",
    "rotation = torch.tensor(dim_reduction.components_.T).float()\n",
    "center = torch.tensor(0)"
   ]
  },
  {
   "cell_type": "markdown",
   "id": "a5fb949f-500a-49d0-a792-2a774b0de18f",
   "metadata": {},
   "source": [
    "#### PC linear model"
   ]
  },
  {
   "cell_type": "code",
   "execution_count": 8,
   "id": "b6e1baed-fb83-4b97-a2e7-c2f17254ca47",
   "metadata": {
    "execution": {
     "iopub.execute_input": "2025-04-07T17:48:19.948877Z",
     "iopub.status.busy": "2025-04-07T17:48:19.948783Z",
     "iopub.status.idle": "2025-04-07T17:48:19.951400Z",
     "shell.execute_reply": "2025-04-07T17:48:19.951131Z"
    }
   },
   "outputs": [],
   "source": [
    "base_model = pya.models.PCLinearModel(input_dim=len(model.features), pc_dim=rotation.shape[1])\n",
    "\n",
    "base_model.center.data = center.float()\n",
    "base_model.rotation.data = rotation.float()\n",
    "base_model.linear.weight.data = weights.float()\n",
    "base_model.linear.bias.data = intercept.float()\n",
    "\n",
    "model.base_model = base_model"
   ]
  },
  {
   "cell_type": "markdown",
   "id": "ad8b4c1d-9d57-48b7-9a30-bcfea7b747b1",
   "metadata": {},
   "source": [
    "## Load reference values"
   ]
  },
  {
   "cell_type": "code",
   "execution_count": 9,
   "id": "ade0f4c9-2298-4fc3-bb72-d200907dd731",
   "metadata": {
    "execution": {
     "iopub.execute_input": "2025-04-07T17:48:19.952703Z",
     "iopub.status.busy": "2025-04-07T17:48:19.952618Z",
     "iopub.status.idle": "2025-04-07T17:48:19.954092Z",
     "shell.execute_reply": "2025-04-07T17:48:19.953833Z"
    }
   },
   "outputs": [],
   "source": [
    "model.reference_values = None"
   ]
  },
  {
   "cell_type": "markdown",
   "id": "af3bcf7b-74a8-4d21-9ccb-4de0c2b0516b",
   "metadata": {},
   "source": [
    "## Load preprocess and postprocess objects"
   ]
  },
  {
   "cell_type": "code",
   "execution_count": 10,
   "id": "7a22fb20-c605-424d-8efb-7620c2c0755c",
   "metadata": {
    "execution": {
     "iopub.execute_input": "2025-04-07T17:48:19.955448Z",
     "iopub.status.busy": "2025-04-07T17:48:19.955348Z",
     "iopub.status.idle": "2025-04-07T17:48:19.956979Z",
     "shell.execute_reply": "2025-04-07T17:48:19.956706Z"
    }
   },
   "outputs": [],
   "source": [
    "model.preprocess_name = None\n",
    "model.preprocess_dependencies = None"
   ]
  },
  {
   "cell_type": "code",
   "execution_count": 11,
   "id": "ff4a21cb-cf41-44dc-9ed1-95cf8aa15772",
   "metadata": {
    "execution": {
     "iopub.execute_input": "2025-04-07T17:48:19.958318Z",
     "iopub.status.busy": "2025-04-07T17:48:19.958234Z",
     "iopub.status.idle": "2025-04-07T17:48:19.959745Z",
     "shell.execute_reply": "2025-04-07T17:48:19.959470Z"
    }
   },
   "outputs": [],
   "source": [
    "model.postprocess_name = None\n",
    "model.postprocess_dependencies = None"
   ]
  },
  {
   "cell_type": "markdown",
   "id": "86e3d6b1-e67e-4f3d-bd39-0ebec5726c3c",
   "metadata": {},
   "source": [
    "## Check all clock parameters"
   ]
  },
  {
   "cell_type": "code",
   "execution_count": 12,
   "id": "2168355c-47d9-475d-b816-49f65e74887c",
   "metadata": {
    "execution": {
     "iopub.execute_input": "2025-04-07T17:48:19.961041Z",
     "iopub.status.busy": "2025-04-07T17:48:19.960942Z",
     "iopub.status.idle": "2025-04-07T17:48:19.966286Z",
     "shell.execute_reply": "2025-04-07T17:48:19.966006Z"
    }
   },
   "outputs": [
    {
     "name": "stdout",
     "output_type": "stream",
     "text": [
      "\n",
      "%==================================== Model Details ====================================%\n",
      "Model Attributes:\n",
      "\n",
      "training: True\n",
      "metadata: {'approved_by_author': '✅',\n",
      " 'citation': 'de Lima Camillo, Lucas Paulo, et al. \"Histone mark age of human '\n",
      "             'tissues and cells.\" bioRxiv (2023): 2023-08.',\n",
      " 'clock_name': 'camilloh3k27me3',\n",
      " 'data_type': 'histone mark',\n",
      " 'doi': 'https://doi.org/10.1101/2023.08.21.554165',\n",
      " 'notes': None,\n",
      " 'research_only': None,\n",
      " 'species': 'Homo sapiens',\n",
      " 'version': None,\n",
      " 'year': 2023}\n",
      "reference_values: None\n",
      "preprocess_name: None\n",
      "preprocess_dependencies: None\n",
      "postprocess_name: None\n",
      "postprocess_dependencies: None\n",
      "features: ['ENSG00000230368', 'ENSG00000234711', 'ENSG00000283040', 'ENSG00000272438', 'ENSG00000230699', 'ENSG00000223764', 'ENSG00000187583', 'ENSG00000187642', 'ENSG00000272512', 'ENSG00000188290', 'ENSG00000187608', 'ENSG00000188157', 'LRG_198', 'ENSG00000217801', 'ENSG00000273443', 'ENSG00000237330', 'ENSG00000223823', 'ENSG00000207730', 'ENSG00000207607', 'ENSG00000198976', 'ENSG00000272141', 'ENSG00000162571', 'ENSG00000186891', 'ENSG00000186827', 'LRG_1319', 'ENSG00000184163', 'ENSG00000162572', 'ENSG00000162576', 'ENSG00000235098', 'ENSG00000225905']... [Total elements: 922]\n",
      "base_model_features: None\n",
      "\n",
      "%==================================== Model Details ====================================%\n",
      "Model Structure:\n",
      "\n",
      "base_model: PCLinearModel(\n",
      "  (linear): Linear(in_features=290, out_features=1, bias=True)\n",
      ")\n",
      "\n",
      "%==================================== Model Details ====================================%\n",
      "Model Parameters and Weights:\n",
      "\n",
      "base_model.center: tensor(0.)\n",
      "base_model.rotation: [0.01818726770579815, 0.020942794159054756, -0.016425790265202522, -0.029995765537023544, 0.016731852665543556, -0.018333079293370247, 0.01603410392999649, -0.0038833124563097954, -0.010611171834170818, -0.04601435735821724, 0.015754137188196182, -0.0006687829736620188, 0.004315546713769436, 0.008097657933831215, -0.02072293870151043, 0.0412323921918869, -0.0015471483347937465, 0.017783096060156822, 0.03581244871020317, 0.011579958721995354, -0.0041507575660943985, 0.011536828242242336, 0.03996821492910385, -0.024992352351546288, 0.014561289921402931, -0.021883564069867134, 0.019289379939436913, 0.010160439647734165, -0.006656781304627657, 0.006293896585702896]... [Tensor of shape torch.Size([922, 290])]\n",
      "base_model.linear.weight: [0.2194862961769104, -2.786182403564453, -0.44779086112976074, 2.2882213592529297, -0.6238448023796082, -2.2932820320129395, -1.911285638809204, 0.0, 2.6874823570251465, 1.843084692955017, 1.2139489650726318, -3.44547700881958, 0.6745961904525757, -1.6836811304092407, -1.1462115049362183, 1.99685800075531, 0.6163367033004761, 0.5939045548439026, 1.0635151863098145, 0.0, 0.07966688275337219, -0.5339570641517639, 2.3979337215423584, -0.17878352105617523, 1.148158073425293, -1.0248123407363892, -0.9859074950218201, -0.2077658772468567, 1.6150438785552979, -0.5271372199058533]... [Tensor of shape torch.Size([1, 290])]\n",
      "base_model.linear.bias: tensor([41.9358])\n",
      "\n",
      "%==================================== Model Details ====================================%\n",
      "\n"
     ]
    }
   ],
   "source": [
    "pya.utils.print_model_details(model)"
   ]
  },
  {
   "cell_type": "markdown",
   "id": "986d0262-e0c7-4036-b687-dee53ba392fb",
   "metadata": {},
   "source": [
    "## Basic test"
   ]
  },
  {
   "cell_type": "code",
   "execution_count": 13,
   "id": "936b9877-d076-4ced-99aa-e8d4c58c5caf",
   "metadata": {
    "execution": {
     "iopub.execute_input": "2025-04-07T17:48:19.967680Z",
     "iopub.status.busy": "2025-04-07T17:48:19.967594Z",
     "iopub.status.idle": "2025-04-07T17:48:19.973597Z",
     "shell.execute_reply": "2025-04-07T17:48:19.973303Z"
    }
   },
   "outputs": [
    {
     "data": {
      "text/plain": [
       "tensor([[ 39.9888],\n",
       "        [ 30.3743],\n",
       "        [101.3877],\n",
       "        [ 41.8950],\n",
       "        [ 24.2335],\n",
       "        [ 51.2079],\n",
       "        [ 49.4518],\n",
       "        [ 53.4217],\n",
       "        [ 38.0464],\n",
       "        [ 33.4102]], dtype=torch.float64, grad_fn=<AddmmBackward0>)"
      ]
     },
     "execution_count": 13,
     "metadata": {},
     "output_type": "execute_result"
    }
   ],
   "source": [
    "torch.manual_seed(42)\n",
    "input = torch.randn(10, len(model.features), dtype=float)\n",
    "model.eval()\n",
    "model.to(float)\n",
    "pred = model(input)\n",
    "pred"
   ]
  },
  {
   "cell_type": "markdown",
   "id": "fe8299d7-9285-4e22-82fd-b664434b4369",
   "metadata": {},
   "source": [
    "## Save torch model"
   ]
  },
  {
   "cell_type": "code",
   "execution_count": 14,
   "id": "5ef2fa8d-c80b-4fdd-8555-79c0d541788e",
   "metadata": {
    "execution": {
     "iopub.execute_input": "2025-04-07T17:48:19.975035Z",
     "iopub.status.busy": "2025-04-07T17:48:19.974933Z",
     "iopub.status.idle": "2025-04-07T17:48:19.979655Z",
     "shell.execute_reply": "2025-04-07T17:48:19.979346Z"
    }
   },
   "outputs": [],
   "source": [
    "torch.save(model, f\"../weights/{model.metadata['clock_name']}.pt\")"
   ]
  },
  {
   "cell_type": "markdown",
   "id": "bac6257b-8d08-4a90-8d0b-7f745dc11ac1",
   "metadata": {},
   "source": [
    "## Clear directory\n",
    "<a id=\"10\"></a>"
   ]
  },
  {
   "cell_type": "code",
   "execution_count": 15,
   "id": "11aeaa70-44c0-42f9-86d7-740e3849a7a6",
   "metadata": {
    "execution": {
     "iopub.execute_input": "2025-04-07T17:48:19.981154Z",
     "iopub.status.busy": "2025-04-07T17:48:19.981063Z",
     "iopub.status.idle": "2025-04-07T17:48:19.997521Z",
     "shell.execute_reply": "2025-04-07T17:48:19.997248Z"
    }
   },
   "outputs": [
    {
     "name": "stdout",
     "output_type": "stream",
     "text": [
      "Deleted folder: HistoneClocks\n"
     ]
    }
   ],
   "source": [
    "# Function to remove a folder and all its contents\n",
    "def remove_folder(path):\n",
    "    try:\n",
    "        shutil.rmtree(path)\n",
    "        print(f\"Deleted folder: {path}\")\n",
    "    except Exception as e:\n",
    "        print(f\"Error deleting folder {path}: {e}\")\n",
    "\n",
    "# Get a list of all files and folders in the current directory\n",
    "all_items = os.listdir('.')\n",
    "\n",
    "# Loop through the items\n",
    "for item in all_items:\n",
    "    # Check if it's a file and does not end with .ipynb\n",
    "    if os.path.isfile(item) and not item.endswith('.ipynb'):\n",
    "        os.remove(item)\n",
    "        print(f\"Deleted file: {item}\")\n",
    "    # Check if it's a folder\n",
    "    elif os.path.isdir(item):\n",
    "        remove_folder(item)"
   ]
  }
 ],
 "metadata": {
  "kernelspec": {
   "display_name": "Python 3",
   "language": "python",
   "name": "python3"
  },
  "language_info": {
   "codemirror_mode": {
    "name": "ipython",
    "version": 3
   },
   "file_extension": ".py",
   "mimetype": "text/x-python",
   "name": "python",
   "nbconvert_exporter": "python",
   "pygments_lexer": "ipython3",
   "version": "3.9.7"
  }
 },
 "nbformat": 4,
 "nbformat_minor": 5
}
