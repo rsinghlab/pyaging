{
 "cells": [
  {
   "cell_type": "markdown",
   "id": "2f04eee0-5928-4e74-a754-6dc2e528810c",
   "metadata": {},
   "source": [
    "# BiTAge"
   ]
  },
  {
   "cell_type": "markdown",
   "id": "a3f514a3-772c-4a14-afdf-5a8376851ff4",
   "metadata": {},
   "source": [
    "## Index\n",
    "1. [Instantiate model class](#Instantiate-model-class)\n",
    "2. [Define clock metadata](#Define-clock-metadata)\n",
    "3. [Download clock dependencies](#Download-clock-dependencies)\n",
    "5. [Load features](#Load-features)\n",
    "6. [Load weights into base model](#Load-weights-into-base-model)\n",
    "7. [Load reference values](#Load-reference-values)\n",
    "8. [Load preprocess and postprocess objects](#Load-preprocess-and-postprocess-objects)\n",
    "10. [Check all clock parameters](#Check-all-clock-parameters)\n",
    "10. [Basic test](#Basic-test)\n",
    "11. [Save torch model](#Save-torch-model)\n",
    "12. [Clear directory](#Clear-directory)"
   ]
  },
  {
   "cell_type": "markdown",
   "id": "d95fafdc-643a-40ea-a689-200bd132e90c",
   "metadata": {},
   "source": [
    "Let's first import some packages:"
   ]
  },
  {
   "cell_type": "code",
   "execution_count": 1,
   "id": "4adfb4de-cd79-4913-a1af-9e23e9e236c9",
   "metadata": {
    "execution": {
     "iopub.execute_input": "2025-04-07T17:47:34.133350Z",
     "iopub.status.busy": "2025-04-07T17:47:34.132902Z",
     "iopub.status.idle": "2025-04-07T17:47:35.476506Z",
     "shell.execute_reply": "2025-04-07T17:47:35.476150Z"
    }
   },
   "outputs": [],
   "source": [
    "import os\n",
    "import inspect\n",
    "import shutil\n",
    "import json\n",
    "import torch\n",
    "import pandas as pd\n",
    "import pyaging as pya"
   ]
  },
  {
   "cell_type": "markdown",
   "id": "145082e5-ced4-47ae-88c0-cb69773e3c5a",
   "metadata": {},
   "source": [
    "## Instantiate model class"
   ]
  },
  {
   "cell_type": "code",
   "execution_count": 2,
   "id": "8aa77372-7ed3-4da7-abc9-d30372106139",
   "metadata": {
    "execution": {
     "iopub.execute_input": "2025-04-07T17:47:35.478214Z",
     "iopub.status.busy": "2025-04-07T17:47:35.477997Z",
     "iopub.status.idle": "2025-04-07T17:47:35.484695Z",
     "shell.execute_reply": "2025-04-07T17:47:35.484415Z"
    }
   },
   "outputs": [
    {
     "name": "stdout",
     "output_type": "stream",
     "text": [
      "class BiTAge(pyagingModel):\n",
      "    def __init__(self):\n",
      "        super().__init__()\n",
      "\n",
      "    def preprocess(self, x):\n",
      "        \"\"\"\n",
      "        Binarizes an array based on the median of each row, excluding zeros.\n",
      "        \"\"\"\n",
      "        # Create a mask for non-zero elements\n",
      "        non_zero_mask = x != 0\n",
      "\n",
      "        # Apply mask, calculate median for each row, and binarize data\n",
      "        for i in range(x.size(0)):\n",
      "            non_zero_elements = x[i][non_zero_mask[i]]\n",
      "            if non_zero_elements.nelement() > 0:\n",
      "                median_value = non_zero_elements.median()\n",
      "                x[i] = (x[i] > median_value).float()\n",
      "            else:\n",
      "                # Handle the case where all elements are zero\n",
      "                x[i] = torch.zeros_like(x[i])\n",
      "\n",
      "        return x\n",
      "\n",
      "    def postprocess(self, x):\n",
      "        return x\n",
      "\n"
     ]
    }
   ],
   "source": [
    "def print_entire_class(cls):\n",
    "    source = inspect.getsource(cls)\n",
    "    print(source)\n",
    "\n",
    "print_entire_class(pya.models.BiTAge)"
   ]
  },
  {
   "cell_type": "code",
   "execution_count": 3,
   "id": "78536494-f1d9-44de-8583-c89a310d2307",
   "metadata": {
    "execution": {
     "iopub.execute_input": "2025-04-07T17:47:35.485963Z",
     "iopub.status.busy": "2025-04-07T17:47:35.485866Z",
     "iopub.status.idle": "2025-04-07T17:47:35.487577Z",
     "shell.execute_reply": "2025-04-07T17:47:35.487295Z"
    }
   },
   "outputs": [],
   "source": [
    "model = pya.models.BiTAge()"
   ]
  },
  {
   "cell_type": "markdown",
   "id": "51f8615e-01fa-4aa5-b196-3ee2b35d261c",
   "metadata": {},
   "source": [
    "## Define clock metadata"
   ]
  },
  {
   "cell_type": "code",
   "execution_count": 4,
   "id": "6601da9e-8adc-44ee-9308-75e3cd31b816",
   "metadata": {
    "execution": {
     "iopub.execute_input": "2025-04-07T17:47:35.488812Z",
     "iopub.status.busy": "2025-04-07T17:47:35.488727Z",
     "iopub.status.idle": "2025-04-07T17:47:35.490718Z",
     "shell.execute_reply": "2025-04-07T17:47:35.490459Z"
    }
   },
   "outputs": [],
   "source": [
    "model.metadata[\"clock_name\"] = 'bitage'\n",
    "model.metadata[\"data_type\"] = 'transcriptomics'\n",
    "model.metadata[\"species\"] = 'C elegans'\n",
    "model.metadata[\"year\"] = 2021\n",
    "model.metadata[\"approved_by_author\"] = '✅'\n",
    "model.metadata[\"citation\"] = \"Meyer, David H., and Björn Schumacher. \\\"BiT age: A transcriptome‐based aging clock near the theoretical limit of accuracy.\\\" Aging cell 20.3 (2021): e13320.\"\n",
    "model.metadata[\"doi\"] = 'https://doi.org/10.1111/acel.13320'\n",
    "model.metadata[\"research_only\"] = None\n",
    "model.metadata[\"notes\"] = None"
   ]
  },
  {
   "cell_type": "markdown",
   "id": "74492239-5aae-4026-9d90-6bc9c574c110",
   "metadata": {},
   "source": [
    "## Download clock dependencies"
   ]
  },
  {
   "cell_type": "markdown",
   "id": "7bec474f-80ce-4884-9472-30c193327117",
   "metadata": {},
   "source": [
    "#### Download GitHub repository"
   ]
  },
  {
   "cell_type": "code",
   "execution_count": 5,
   "id": "aa4a1b59-dda3-4ea8-8f34-b3c53ecbc310",
   "metadata": {
    "execution": {
     "iopub.execute_input": "2025-04-07T17:47:35.492080Z",
     "iopub.status.busy": "2025-04-07T17:47:35.491992Z",
     "iopub.status.idle": "2025-04-07T17:47:36.204837Z",
     "shell.execute_reply": "2025-04-07T17:47:36.204380Z"
    }
   },
   "outputs": [
    {
     "data": {
      "text/plain": [
       "0"
      ]
     },
     "execution_count": 5,
     "metadata": {},
     "output_type": "execute_result"
    }
   ],
   "source": [
    "github_url = \"https://github.com/Meyer-DH/AgingClock.git\"\n",
    "github_folder_name = github_url.split('/')[-1].split('.')[0]\n",
    "os.system(f\"git clone {github_url}\")"
   ]
  },
  {
   "cell_type": "markdown",
   "id": "5035b180-3d1b-4432-8ebe-b9c92bd93a7f",
   "metadata": {},
   "source": [
    "## Load features"
   ]
  },
  {
   "cell_type": "markdown",
   "id": "15f4af76-b93c-438c-b57f-f129d6e9ec99",
   "metadata": {},
   "source": [
    "#### From CSV file"
   ]
  },
  {
   "cell_type": "code",
   "execution_count": 6,
   "id": "f26a49e3-7389-416c-9080-539f50e9abd0",
   "metadata": {
    "execution": {
     "iopub.execute_input": "2025-04-07T17:47:36.206985Z",
     "iopub.status.busy": "2025-04-07T17:47:36.206832Z",
     "iopub.status.idle": "2025-04-07T17:47:36.211174Z",
     "shell.execute_reply": "2025-04-07T17:47:36.210783Z"
    }
   },
   "outputs": [],
   "source": [
    "model.features = pd.read_csv('AgingClock/Data/Predictor_Genes.csv')['WormBaseID'].tolist()"
   ]
  },
  {
   "cell_type": "markdown",
   "id": "ee6d8fa0-4767-4c45-9717-eb1c95e2ddc0",
   "metadata": {},
   "source": [
    "## Load weights into base model"
   ]
  },
  {
   "cell_type": "markdown",
   "id": "d79e5690-e284-4de6-8460-d3545a8192af",
   "metadata": {},
   "source": [
    "#### From CSV file"
   ]
  },
  {
   "cell_type": "code",
   "execution_count": 7,
   "id": "7f6187ed-fcff-4ff2-bcb1-b5bcef8190e8",
   "metadata": {
    "execution": {
     "iopub.execute_input": "2025-04-07T17:47:36.213121Z",
     "iopub.status.busy": "2025-04-07T17:47:36.212960Z",
     "iopub.status.idle": "2025-04-07T17:47:36.216800Z",
     "shell.execute_reply": "2025-04-07T17:47:36.216396Z"
    }
   },
   "outputs": [],
   "source": [
    "weights = pd.read_csv('AgingClock/Data/Predictor_Genes.csv')['ElasticNet_Coef'].tolist()\n",
    "weights = torch.tensor(weights).unsqueeze(0).float()\n",
    "intercept = torch.tensor([103.54631743289005]).float()"
   ]
  },
  {
   "cell_type": "markdown",
   "id": "ad261636-5b00-4979-bb1d-67a851f7aa19",
   "metadata": {},
   "source": [
    "#### Linear model"
   ]
  },
  {
   "cell_type": "code",
   "execution_count": 8,
   "id": "d7f43b99-26f2-4622-9a76-316712058877",
   "metadata": {
    "execution": {
     "iopub.execute_input": "2025-04-07T17:47:36.218646Z",
     "iopub.status.busy": "2025-04-07T17:47:36.218507Z",
     "iopub.status.idle": "2025-04-07T17:47:36.221310Z",
     "shell.execute_reply": "2025-04-07T17:47:36.220958Z"
    }
   },
   "outputs": [],
   "source": [
    "base_model = pya.models.LinearModel(input_dim=len(model.features))\n",
    "\n",
    "base_model.linear.weight.data = weights.float()\n",
    "base_model.linear.bias.data = intercept.float()\n",
    "\n",
    "model.base_model = base_model"
   ]
  },
  {
   "cell_type": "markdown",
   "id": "ad8b4c1d-9d57-48b7-9a30-bcfea7b747b1",
   "metadata": {},
   "source": [
    "## Load reference values"
   ]
  },
  {
   "cell_type": "code",
   "execution_count": 9,
   "id": "90d45266-962d-41b6-927c-6a147ed41305",
   "metadata": {
    "execution": {
     "iopub.execute_input": "2025-04-07T17:47:36.222862Z",
     "iopub.status.busy": "2025-04-07T17:47:36.222749Z",
     "iopub.status.idle": "2025-04-07T17:47:36.224649Z",
     "shell.execute_reply": "2025-04-07T17:47:36.224309Z"
    }
   },
   "outputs": [],
   "source": [
    "model.reference_values = None"
   ]
  },
  {
   "cell_type": "markdown",
   "id": "af3bcf7b-74a8-4d21-9ccb-4de0c2b0516b",
   "metadata": {},
   "source": [
    "## Load preprocess and postprocess objects"
   ]
  },
  {
   "cell_type": "code",
   "execution_count": 10,
   "id": "f7d32b69-e20e-42ff-aba9-d07b9b44dbd1",
   "metadata": {
    "execution": {
     "iopub.execute_input": "2025-04-07T17:47:36.226270Z",
     "iopub.status.busy": "2025-04-07T17:47:36.226156Z",
     "iopub.status.idle": "2025-04-07T17:47:36.228064Z",
     "shell.execute_reply": "2025-04-07T17:47:36.227750Z"
    }
   },
   "outputs": [],
   "source": [
    "model.preprocess_name = \"binarize\"\n",
    "model.preprocess_dependencies = None"
   ]
  },
  {
   "cell_type": "code",
   "execution_count": 11,
   "id": "7a22fb20-c605-424d-8efb-7620c2c0755c",
   "metadata": {
    "execution": {
     "iopub.execute_input": "2025-04-07T17:47:36.229604Z",
     "iopub.status.busy": "2025-04-07T17:47:36.229468Z",
     "iopub.status.idle": "2025-04-07T17:47:36.231233Z",
     "shell.execute_reply": "2025-04-07T17:47:36.230916Z"
    }
   },
   "outputs": [],
   "source": [
    "model.postprocess_name = None\n",
    "model.postprocess_dependencies = None"
   ]
  },
  {
   "cell_type": "markdown",
   "id": "86e3d6b1-e67e-4f3d-bd39-0ebec5726c3c",
   "metadata": {},
   "source": [
    "## Check all clock parameters"
   ]
  },
  {
   "cell_type": "code",
   "execution_count": 12,
   "id": "2168355c-47d9-475d-b816-49f65e74887c",
   "metadata": {
    "execution": {
     "iopub.execute_input": "2025-04-07T17:47:36.232808Z",
     "iopub.status.busy": "2025-04-07T17:47:36.232688Z",
     "iopub.status.idle": "2025-04-07T17:47:36.236913Z",
     "shell.execute_reply": "2025-04-07T17:47:36.236596Z"
    }
   },
   "outputs": [
    {
     "name": "stdout",
     "output_type": "stream",
     "text": [
      "\n",
      "%==================================== Model Details ====================================%\n",
      "Model Attributes:\n",
      "\n",
      "training: True\n",
      "metadata: {'approved_by_author': '✅',\n",
      " 'citation': 'Meyer, David H., and Björn Schumacher. \"BiT age: A '\n",
      "             'transcriptome‐based aging clock near the theoretical limit of '\n",
      "             'accuracy.\" Aging cell 20.3 (2021): e13320.',\n",
      " 'clock_name': 'bitage',\n",
      " 'data_type': 'transcriptomics',\n",
      " 'doi': 'https://doi.org/10.1111/acel.13320',\n",
      " 'notes': None,\n",
      " 'research_only': None,\n",
      " 'species': 'C elegans',\n",
      " 'version': None,\n",
      " 'year': 2021}\n",
      "reference_values: None\n",
      "preprocess_name: 'binarize'\n",
      "preprocess_dependencies: None\n",
      "postprocess_name: None\n",
      "postprocess_dependencies: None\n",
      "features: ['WBGene00012747', 'WBGene00011554', 'WBGene00002259', 'WBGene00018196', 'WBGene00017813', 'WBGene00020516', 'WBGene00008357', 'WBGene00019885', 'WBGene00016717', 'WBGene00017841', 'WBGene00018645', 'WBGene00021321', 'WBGene00000609', 'WBGene00045399', 'WBGene00012840', 'WBGene00011753', 'WBGene00003562', 'WBGene00010924', 'WBGene00018257', 'WBGene00001694', 'WBGene00000669', 'WBGene00008708', 'WBGene00016423', 'WBGene00019184', 'WBGene00013548', 'WBGene00008341', 'WBGene00016394', 'WBGene00001758', 'WBGene00000778', 'WBGene00017501']... [Total elements: 576]\n",
      "base_model_features: None\n",
      "\n",
      "%==================================== Model Details ====================================%\n",
      "Model Structure:\n",
      "\n",
      "base_model: LinearModel(\n",
      "  (linear): Linear(in_features=576, out_features=1, bias=True)\n",
      ")\n",
      "\n",
      "%==================================== Model Details ====================================%\n",
      "Model Parameters and Weights:\n",
      "\n",
      "base_model.linear.weight: [-3.9183850288391113, -3.661531448364258, -3.4419755935668945, -3.357285976409912, -3.152588367462158, -3.142742395401001, -3.1411612033843994, -3.1204745769500732, -3.048347234725952, -2.9659650325775146, -2.9609527587890625, -2.9258642196655273, -2.9174859523773193, -2.9001877307891846, -2.8675224781036377, -2.8590519428253174, -2.8371870517730713, -2.803004264831543, -2.7863166332244873, -2.726417064666748, -2.7252001762390137, -2.7046279907226562, -2.642418622970581, -2.6392977237701416, -2.631728172302246, -2.6270203590393066, -2.6188695430755615, -2.6094517707824707, -2.595085620880127, -2.590425968170166]... [Tensor of shape torch.Size([1, 576])]\n",
      "base_model.linear.bias: tensor([103.5463])\n",
      "\n",
      "%==================================== Model Details ====================================%\n",
      "\n"
     ]
    }
   ],
   "source": [
    "pya.utils.print_model_details(model)"
   ]
  },
  {
   "cell_type": "markdown",
   "id": "986d0262-e0c7-4036-b687-dee53ba392fb",
   "metadata": {},
   "source": [
    "## Basic test"
   ]
  },
  {
   "cell_type": "code",
   "execution_count": 13,
   "id": "936b9877-d076-4ced-99aa-e8d4c58c5caf",
   "metadata": {
    "execution": {
     "iopub.execute_input": "2025-04-07T17:47:36.238465Z",
     "iopub.status.busy": "2025-04-07T17:47:36.238354Z",
     "iopub.status.idle": "2025-04-07T17:47:36.242868Z",
     "shell.execute_reply": "2025-04-07T17:47:36.242565Z"
    }
   },
   "outputs": [
    {
     "data": {
      "text/plain": [
       "tensor([[111.5220],\n",
       "        [148.4960],\n",
       "        [120.4686],\n",
       "        [119.6525],\n",
       "        [130.4869],\n",
       "        [131.7758],\n",
       "        [175.6584],\n",
       "        [139.2055],\n",
       "        [131.0180],\n",
       "        [136.8147]], dtype=torch.float64, grad_fn=<AddmmBackward0>)"
      ]
     },
     "execution_count": 13,
     "metadata": {},
     "output_type": "execute_result"
    }
   ],
   "source": [
    "torch.manual_seed(42)\n",
    "input = torch.randn(10, len(model.features), dtype=float)\n",
    "model.eval()\n",
    "model.to(float)\n",
    "pred = model(input)\n",
    "pred"
   ]
  },
  {
   "cell_type": "markdown",
   "id": "fe8299d7-9285-4e22-82fd-b664434b4369",
   "metadata": {},
   "source": [
    "## Save torch model"
   ]
  },
  {
   "cell_type": "code",
   "execution_count": 14,
   "id": "5ef2fa8d-c80b-4fdd-8555-79c0d541788e",
   "metadata": {
    "execution": {
     "iopub.execute_input": "2025-04-07T17:47:36.244263Z",
     "iopub.status.busy": "2025-04-07T17:47:36.244159Z",
     "iopub.status.idle": "2025-04-07T17:47:36.246682Z",
     "shell.execute_reply": "2025-04-07T17:47:36.246395Z"
    }
   },
   "outputs": [],
   "source": [
    "torch.save(model, f\"../weights/{model.metadata['clock_name']}.pt\")"
   ]
  },
  {
   "cell_type": "markdown",
   "id": "bac6257b-8d08-4a90-8d0b-7f745dc11ac1",
   "metadata": {},
   "source": [
    "## Clear directory\n",
    "<a id=\"10\"></a>"
   ]
  },
  {
   "cell_type": "code",
   "execution_count": 15,
   "id": "11aeaa70-44c0-42f9-86d7-740e3849a7a6",
   "metadata": {
    "execution": {
     "iopub.execute_input": "2025-04-07T17:47:36.248184Z",
     "iopub.status.busy": "2025-04-07T17:47:36.248077Z",
     "iopub.status.idle": "2025-04-07T17:47:36.255709Z",
     "shell.execute_reply": "2025-04-07T17:47:36.255449Z"
    }
   },
   "outputs": [
    {
     "name": "stdout",
     "output_type": "stream",
     "text": [
      "Deleted folder: AgingClock\n"
     ]
    }
   ],
   "source": [
    "# Function to remove a folder and all its contents\n",
    "def remove_folder(path):\n",
    "    try:\n",
    "        shutil.rmtree(path)\n",
    "        print(f\"Deleted folder: {path}\")\n",
    "    except Exception as e:\n",
    "        print(f\"Error deleting folder {path}: {e}\")\n",
    "\n",
    "# Get a list of all files and folders in the current directory\n",
    "all_items = os.listdir('.')\n",
    "\n",
    "# Loop through the items\n",
    "for item in all_items:\n",
    "    # Check if it's a file and does not end with .ipynb\n",
    "    if os.path.isfile(item) and not item.endswith('.ipynb'):\n",
    "        os.remove(item)\n",
    "        print(f\"Deleted file: {item}\")\n",
    "    # Check if it's a folder\n",
    "    elif os.path.isdir(item):\n",
    "        remove_folder(item)"
   ]
  }
 ],
 "metadata": {
  "kernelspec": {
   "display_name": "Python 3",
   "language": "python",
   "name": "python3"
  },
  "language_info": {
   "codemirror_mode": {
    "name": "ipython",
    "version": 3
   },
   "file_extension": ".py",
   "mimetype": "text/x-python",
   "name": "python",
   "nbconvert_exporter": "python",
   "pygments_lexer": "ipython3",
   "version": "3.9.7"
  }
 },
 "nbformat": 4,
 "nbformat_minor": 5
}
