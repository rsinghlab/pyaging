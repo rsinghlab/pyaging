{
 "cells": [
  {
   "cell_type": "markdown",
   "id": "2f04eee0-5928-4e74-a754-6dc2e528810c",
   "metadata": {},
   "source": [
    "# CamilloH3K9ac"
   ]
  },
  {
   "cell_type": "markdown",
   "id": "a3f514a3-772c-4a14-afdf-5a8376851ff4",
   "metadata": {},
   "source": [
    "## Index\n",
    "1. [Instantiate model class](#Instantiate-model-class)\n",
    "2. [Define clock metadata](#Define-clock-metadata)\n",
    "3. [Download clock dependencies](#Download-clock-dependencies)\n",
    "5. [Load features](#Load-features)\n",
    "6. [Load weights into base model](#Load-weights-into-base-model)\n",
    "7. [Load reference values](#Load-reference-values)\n",
    "8. [Load preprocess and postprocess objects](#Load-preprocess-and-postprocess-objects)\n",
    "10. [Check all clock parameters](#Check-all-clock-parameters)\n",
    "10. [Basic test](#Basic-test)\n",
    "11. [Save torch model](#Save-torch-model)\n",
    "12. [Clear directory](#Clear-directory)"
   ]
  },
  {
   "cell_type": "markdown",
   "id": "d95fafdc-643a-40ea-a689-200bd132e90c",
   "metadata": {},
   "source": [
    "Let's first import some packages:"
   ]
  },
  {
   "cell_type": "code",
   "execution_count": 1,
   "id": "4adfb4de-cd79-4913-a1af-9e23e9e236c9",
   "metadata": {
    "execution": {
     "iopub.execute_input": "2025-04-07T17:49:22.381266Z",
     "iopub.status.busy": "2025-04-07T17:49:22.381132Z",
     "iopub.status.idle": "2025-04-07T17:49:23.803068Z",
     "shell.execute_reply": "2025-04-07T17:49:23.802699Z"
    }
   },
   "outputs": [],
   "source": [
    "import os\n",
    "import inspect\n",
    "import shutil\n",
    "import json\n",
    "import torch\n",
    "import pandas as pd\n",
    "import pyaging as pya\n",
    "import joblib\n",
    "import numpy as np"
   ]
  },
  {
   "cell_type": "markdown",
   "id": "145082e5-ced4-47ae-88c0-cb69773e3c5a",
   "metadata": {},
   "source": [
    "## Instantiate model class"
   ]
  },
  {
   "cell_type": "code",
   "execution_count": 2,
   "id": "8aa77372-7ed3-4da7-abc9-d30372106139",
   "metadata": {
    "execution": {
     "iopub.execute_input": "2025-04-07T17:49:23.804772Z",
     "iopub.status.busy": "2025-04-07T17:49:23.804541Z",
     "iopub.status.idle": "2025-04-07T17:49:23.811677Z",
     "shell.execute_reply": "2025-04-07T17:49:23.811425Z"
    }
   },
   "outputs": [
    {
     "name": "stdout",
     "output_type": "stream",
     "text": [
      "class CamilloH3K9ac(pyagingModel):\n",
      "    def __init__(self):\n",
      "        super().__init__()\n",
      "\n",
      "    def preprocess(self, x):\n",
      "        return x\n",
      "\n",
      "    def postprocess(self, x):\n",
      "        return x\n",
      "\n"
     ]
    }
   ],
   "source": [
    "def print_entire_class(cls):\n",
    "    source = inspect.getsource(cls)\n",
    "    print(source)\n",
    "\n",
    "print_entire_class(pya.models.CamilloH3K9ac)"
   ]
  },
  {
   "cell_type": "code",
   "execution_count": 3,
   "id": "78536494-f1d9-44de-8583-c89a310d2307",
   "metadata": {
    "execution": {
     "iopub.execute_input": "2025-04-07T17:49:23.812954Z",
     "iopub.status.busy": "2025-04-07T17:49:23.812857Z",
     "iopub.status.idle": "2025-04-07T17:49:23.814535Z",
     "shell.execute_reply": "2025-04-07T17:49:23.814258Z"
    }
   },
   "outputs": [],
   "source": [
    "model = pya.models.CamilloH3K9ac()"
   ]
  },
  {
   "cell_type": "markdown",
   "id": "51f8615e-01fa-4aa5-b196-3ee2b35d261c",
   "metadata": {},
   "source": [
    "## Define clock metadata"
   ]
  },
  {
   "cell_type": "code",
   "execution_count": 4,
   "id": "6601da9e-8adc-44ee-9308-75e3cd31b816",
   "metadata": {
    "execution": {
     "iopub.execute_input": "2025-04-07T17:49:23.815744Z",
     "iopub.status.busy": "2025-04-07T17:49:23.815653Z",
     "iopub.status.idle": "2025-04-07T17:49:23.817638Z",
     "shell.execute_reply": "2025-04-07T17:49:23.817399Z"
    }
   },
   "outputs": [],
   "source": [
    "model.metadata[\"clock_name\"] = 'camilloh3k9ac'\n",
    "model.metadata[\"data_type\"] = 'histone mark'\n",
    "model.metadata[\"species\"] = 'Homo sapiens'\n",
    "model.metadata[\"year\"] = 2023\n",
    "model.metadata[\"approved_by_author\"] = '✅'\n",
    "model.metadata[\"citation\"] = \"de Lima Camillo, Lucas Paulo, et al. \\\"Histone mark age of human tissues and cells.\\\" bioRxiv (2023): 2023-08.\"\n",
    "model.metadata[\"doi\"] = 'https://doi.org/10.1101/2023.08.21.554165'\n",
    "model.metadata[\"research_only\"] = None\n",
    "model.metadata[\"notes\"] = None"
   ]
  },
  {
   "cell_type": "markdown",
   "id": "74492239-5aae-4026-9d90-6bc9c574c110",
   "metadata": {},
   "source": [
    "## Download clock dependencies"
   ]
  },
  {
   "cell_type": "markdown",
   "id": "7bec474f-80ce-4884-9472-30c193327117",
   "metadata": {},
   "source": [
    "#### Download GitHub repository"
   ]
  },
  {
   "cell_type": "code",
   "execution_count": 5,
   "id": "df09b874-28a1-4140-9b1b-9e16ef23668c",
   "metadata": {
    "execution": {
     "iopub.execute_input": "2025-04-07T17:49:23.818926Z",
     "iopub.status.busy": "2025-04-07T17:49:23.818837Z",
     "iopub.status.idle": "2025-04-07T17:49:41.849082Z",
     "shell.execute_reply": "2025-04-07T17:49:41.848740Z"
    }
   },
   "outputs": [
    {
     "data": {
      "text/plain": [
       "0"
      ]
     },
     "execution_count": 5,
     "metadata": {},
     "output_type": "execute_result"
    }
   ],
   "source": [
    "github_url = \"https://github.com/rsinghlab/HistoneClocks.git\"\n",
    "github_folder_name = github_url.split('/')[-1].split('.')[0]\n",
    "os.system(f\"git clone {github_url}\")"
   ]
  },
  {
   "cell_type": "markdown",
   "id": "5035b180-3d1b-4432-8ebe-b9c92bd93a7f",
   "metadata": {},
   "source": [
    "## Load features"
   ]
  },
  {
   "cell_type": "markdown",
   "id": "15f4af76-b93c-438c-b57f-f129d6e9ec99",
   "metadata": {},
   "source": [
    "#### From CSV file"
   ]
  },
  {
   "cell_type": "code",
   "execution_count": 6,
   "id": "8a3d5de6-6303-487a-8b4d-e6345792f7be",
   "metadata": {
    "execution": {
     "iopub.execute_input": "2025-04-07T17:49:41.850642Z",
     "iopub.status.busy": "2025-04-07T17:49:41.850536Z",
     "iopub.status.idle": "2025-04-07T17:49:42.022785Z",
     "shell.execute_reply": "2025-04-07T17:49:42.022494Z"
    }
   },
   "outputs": [
    {
     "name": "stderr",
     "output_type": "stream",
     "text": [
      "/Users/lucascamillo/mambaforge/envs/research/lib/python3.9/site-packages/sklearn/base.py:380: InconsistentVersionWarning: Trying to unpickle estimator ElasticNet from version 1.0.1 when using version 1.6.0. This might lead to breaking code or invalid results. Use at your own risk. For more info please refer to:\n",
      "https://scikit-learn.org/stable/model_persistence.html#security-maintainability-limitations\n",
      "  warnings.warn(\n",
      "/Users/lucascamillo/mambaforge/envs/research/lib/python3.9/site-packages/sklearn/base.py:380: InconsistentVersionWarning: Trying to unpickle estimator TruncatedSVD from version 1.0.1 when using version 1.6.0. This might lead to breaking code or invalid results. Use at your own risk. For more info please refer to:\n",
      "https://scikit-learn.org/stable/model_persistence.html#security-maintainability-limitations\n",
      "  warnings.warn(\n",
      "/Users/lucascamillo/mambaforge/envs/research/lib/python3.9/site-packages/sklearn/base.py:380: InconsistentVersionWarning: Trying to unpickle estimator ARDRegression from version 1.0.1 when using version 1.6.0. This might lead to breaking code or invalid results. Use at your own risk. For more info please refer to:\n",
      "https://scikit-learn.org/stable/model_persistence.html#security-maintainability-limitations\n",
      "  warnings.warn(\n"
     ]
    }
   ],
   "source": [
    "histone = 'H3K' + model.metadata[\"clock_name\"].split('k')[1]\n",
    "\n",
    "feature_selector_path = 'HistoneClocks/results/models/' + histone + '_feature_selector.pkl'\n",
    "feature_selector = joblib.load(feature_selector_path)\n",
    "\n",
    "dim_reduction_path = 'HistoneClocks/results/models/' + histone + '_dim_reduction.pkl'\n",
    "dim_reduction = joblib.load(dim_reduction_path)\n",
    "\n",
    "ard_model_path = 'HistoneClocks/results/models/' + histone + '_model.pkl'\n",
    "ard_model = joblib.load(ard_model_path)\n",
    "\n",
    "genes = pd.read_csv('HistoneClocks/metadata/Ensembl-105-EnsDb-for-Homo-sapiens-genes.csv')\n",
    "chromosomes = ['1', '10', '11', '12', '13', '14', '15', '16', '17', '18', '19', '2', '20', '21', '22', '3', '4', '5', '6', '7', '8', '9', 'X']\n",
    "genes = genes[genes['chr'].apply(lambda x: x in chromosomes)]\n",
    "genes.index = genes.gene_id\n",
    "model.features = genes.gene_id[np.abs(feature_selector.coef_) > 0].tolist()"
   ]
  },
  {
   "cell_type": "markdown",
   "id": "ee6d8fa0-4767-4c45-9717-eb1c95e2ddc0",
   "metadata": {},
   "source": [
    "## Load weights into base model"
   ]
  },
  {
   "cell_type": "code",
   "execution_count": 7,
   "id": "e09b3463-4fd4-41b1-ac21-e63ddd223fe0",
   "metadata": {
    "execution": {
     "iopub.execute_input": "2025-04-07T17:49:42.024126Z",
     "iopub.status.busy": "2025-04-07T17:49:42.024034Z",
     "iopub.status.idle": "2025-04-07T17:49:42.026301Z",
     "shell.execute_reply": "2025-04-07T17:49:42.026057Z"
    }
   },
   "outputs": [],
   "source": [
    "weights = torch.tensor(ard_model.coef_).unsqueeze(0).float()\n",
    "intercept = torch.tensor([ard_model.intercept_]).float()\n",
    "rotation = torch.tensor(dim_reduction.components_.T).float()\n",
    "center = torch.tensor(0)"
   ]
  },
  {
   "cell_type": "markdown",
   "id": "a5fb949f-500a-49d0-a792-2a774b0de18f",
   "metadata": {},
   "source": [
    "#### PC linear model"
   ]
  },
  {
   "cell_type": "code",
   "execution_count": 8,
   "id": "b6e1baed-fb83-4b97-a2e7-c2f17254ca47",
   "metadata": {
    "execution": {
     "iopub.execute_input": "2025-04-07T17:49:42.027546Z",
     "iopub.status.busy": "2025-04-07T17:49:42.027466Z",
     "iopub.status.idle": "2025-04-07T17:49:42.029781Z",
     "shell.execute_reply": "2025-04-07T17:49:42.029525Z"
    }
   },
   "outputs": [],
   "source": [
    "base_model = pya.models.PCLinearModel(input_dim=len(model.features), pc_dim=rotation.shape[1])\n",
    "\n",
    "base_model.center.data = center.float()\n",
    "base_model.rotation.data = rotation.float()\n",
    "base_model.linear.weight.data = weights.float()\n",
    "base_model.linear.bias.data = intercept.float()\n",
    "\n",
    "model.base_model = base_model"
   ]
  },
  {
   "cell_type": "markdown",
   "id": "ad8b4c1d-9d57-48b7-9a30-bcfea7b747b1",
   "metadata": {},
   "source": [
    "## Load reference values"
   ]
  },
  {
   "cell_type": "code",
   "execution_count": 9,
   "id": "ade0f4c9-2298-4fc3-bb72-d200907dd731",
   "metadata": {
    "execution": {
     "iopub.execute_input": "2025-04-07T17:49:42.030971Z",
     "iopub.status.busy": "2025-04-07T17:49:42.030885Z",
     "iopub.status.idle": "2025-04-07T17:49:42.032355Z",
     "shell.execute_reply": "2025-04-07T17:49:42.032100Z"
    }
   },
   "outputs": [],
   "source": [
    "model.reference_values = None"
   ]
  },
  {
   "cell_type": "markdown",
   "id": "af3bcf7b-74a8-4d21-9ccb-4de0c2b0516b",
   "metadata": {},
   "source": [
    "## Load preprocess and postprocess objects"
   ]
  },
  {
   "cell_type": "code",
   "execution_count": 10,
   "id": "7a22fb20-c605-424d-8efb-7620c2c0755c",
   "metadata": {
    "execution": {
     "iopub.execute_input": "2025-04-07T17:49:42.033611Z",
     "iopub.status.busy": "2025-04-07T17:49:42.033524Z",
     "iopub.status.idle": "2025-04-07T17:49:42.034962Z",
     "shell.execute_reply": "2025-04-07T17:49:42.034725Z"
    }
   },
   "outputs": [],
   "source": [
    "model.preprocess_name = None\n",
    "model.preprocess_dependencies = None"
   ]
  },
  {
   "cell_type": "code",
   "execution_count": 11,
   "id": "ff4a21cb-cf41-44dc-9ed1-95cf8aa15772",
   "metadata": {
    "execution": {
     "iopub.execute_input": "2025-04-07T17:49:42.036217Z",
     "iopub.status.busy": "2025-04-07T17:49:42.036113Z",
     "iopub.status.idle": "2025-04-07T17:49:42.037617Z",
     "shell.execute_reply": "2025-04-07T17:49:42.037369Z"
    }
   },
   "outputs": [],
   "source": [
    "model.postprocess_name = None\n",
    "model.postprocess_dependencies = None"
   ]
  },
  {
   "cell_type": "markdown",
   "id": "86e3d6b1-e67e-4f3d-bd39-0ebec5726c3c",
   "metadata": {},
   "source": [
    "## Check all clock parameters"
   ]
  },
  {
   "cell_type": "code",
   "execution_count": 12,
   "id": "2168355c-47d9-475d-b816-49f65e74887c",
   "metadata": {
    "execution": {
     "iopub.execute_input": "2025-04-07T17:49:42.038923Z",
     "iopub.status.busy": "2025-04-07T17:49:42.038840Z",
     "iopub.status.idle": "2025-04-07T17:49:42.042849Z",
     "shell.execute_reply": "2025-04-07T17:49:42.042551Z"
    }
   },
   "outputs": [
    {
     "name": "stdout",
     "output_type": "stream",
     "text": [
      "\n",
      "%==================================== Model Details ====================================%\n",
      "Model Attributes:\n",
      "\n",
      "training: True\n",
      "metadata: {'approved_by_author': '✅',\n",
      " 'citation': 'de Lima Camillo, Lucas Paulo, et al. \"Histone mark age of human '\n",
      "             'tissues and cells.\" bioRxiv (2023): 2023-08.',\n",
      " 'clock_name': 'camilloh3k9ac',\n",
      " 'data_type': 'histone mark',\n",
      " 'doi': 'https://doi.org/10.1101/2023.08.21.554165',\n",
      " 'notes': None,\n",
      " 'research_only': None,\n",
      " 'species': 'Homo sapiens',\n",
      " 'version': None,\n",
      " 'year': 2023}\n",
      "reference_values: None\n",
      "preprocess_name: None\n",
      "preprocess_dependencies: None\n",
      "postprocess_name: None\n",
      "postprocess_dependencies: None\n",
      "features: ['ENSG00000248527', 'ENSG00000199347', 'ENSG00000117318', 'ENSG00000229167', 'ENSG00000288772', 'ENSG00000207340', 'ENSG00000264553', 'ENSG00000289288', 'ENSG00000250734', 'ENSG00000238279', 'ENSG00000208024', 'ENSG00000260021', 'ENSG00000288925', 'ENSG00000159388', 'ENSG00000289071', 'ENSG00000251508', 'ENSG00000289239', 'ENSG00000277563', 'ENSG00000169740', 'ENSG00000165644', 'ENSG00000138135', 'ENSG00000166189', 'LRG_564', 'ENSG00000107872', 'ENSG00000284525', 'ENSG00000284416', 'ENSG00000277846', 'ENSG00000278144', 'ENSG00000278050', 'ENSG00000289259']... [Total elements: 102]\n",
      "base_model_features: None\n",
      "\n",
      "%==================================== Model Details ====================================%\n",
      "Model Structure:\n",
      "\n",
      "base_model: PCLinearModel(\n",
      "  (linear): Linear(in_features=35, out_features=1, bias=True)\n",
      ")\n",
      "\n",
      "%==================================== Model Details ====================================%\n",
      "Model Parameters and Weights:\n",
      "\n",
      "base_model.center: tensor(0.)\n",
      "base_model.rotation: [0.026688871905207634, 0.00612650578841567, -0.023084469139575958, 0.09400180727243423, 0.0344255156815052, -0.07693058252334595, -0.014118839055299759, -0.1297181099653244, -0.06002800166606903, 0.014447161927819252, 0.09382186830043793, 0.003466519992798567, -0.15866149961948395, 0.028640473261475563, 0.06944424659013748, 0.2053719162940979, -0.13362054526805878, 0.04413615167140961, -0.14294372498989105, -0.011215132661163807, 0.039818428456783295, 0.08284883946180344, -0.0022151051089167595, -0.13009993731975555, 0.020843902602791786, 0.05471724271774292, -0.11845099180936813, 0.22964397072792053, -0.12406716495752335, -0.26873892545700073]... [Tensor of shape torch.Size([102, 35])]\n",
      "base_model.linear.weight: [0.564490795135498, 4.7954535484313965, -4.093379497528076, 3.29366135597229, 0.0, -3.5194101333618164, 0.4891869127750397, -2.677807569503784, -0.44870513677597046, 1.55893874168396, 0.6157783269882202, 0.8828743100166321, 0.9632635116577148, -1.1242079734802246, -0.101211778819561, -0.5177064538002014, -2.407639980316162, -0.8229461312294006, 0.3041236400604248, -0.2354177087545395, -0.8482727408409119, -0.29311403632164, -0.33054083585739136, 0.8425723910331726, -1.0014386177062988, -1.3361852169036865, 0.0, -0.4254952669143677, 0.34747055172920227, -0.4351760447025299]... [Tensor of shape torch.Size([1, 35])]\n",
      "base_model.linear.bias: tensor([43.8619])\n",
      "\n",
      "%==================================== Model Details ====================================%\n",
      "\n"
     ]
    }
   ],
   "source": [
    "pya.utils.print_model_details(model)"
   ]
  },
  {
   "cell_type": "markdown",
   "id": "986d0262-e0c7-4036-b687-dee53ba392fb",
   "metadata": {},
   "source": [
    "## Basic test"
   ]
  },
  {
   "cell_type": "code",
   "execution_count": 13,
   "id": "936b9877-d076-4ced-99aa-e8d4c58c5caf",
   "metadata": {
    "execution": {
     "iopub.execute_input": "2025-04-07T17:49:42.044133Z",
     "iopub.status.busy": "2025-04-07T17:49:42.044048Z",
     "iopub.status.idle": "2025-04-07T17:49:42.049334Z",
     "shell.execute_reply": "2025-04-07T17:49:42.049065Z"
    }
   },
   "outputs": [
    {
     "data": {
      "text/plain": [
       "tensor([[51.9300],\n",
       "        [52.0249],\n",
       "        [49.4161],\n",
       "        [38.6956],\n",
       "        [38.3531],\n",
       "        [38.3666],\n",
       "        [33.3411],\n",
       "        [47.8231],\n",
       "        [33.7270],\n",
       "        [67.7895]], dtype=torch.float64, grad_fn=<AddmmBackward0>)"
      ]
     },
     "execution_count": 13,
     "metadata": {},
     "output_type": "execute_result"
    }
   ],
   "source": [
    "torch.manual_seed(42)\n",
    "input = torch.randn(10, len(model.features), dtype=float)\n",
    "model.eval()\n",
    "model.to(float)\n",
    "pred = model(input)\n",
    "pred"
   ]
  },
  {
   "cell_type": "markdown",
   "id": "fe8299d7-9285-4e22-82fd-b664434b4369",
   "metadata": {},
   "source": [
    "## Save torch model"
   ]
  },
  {
   "cell_type": "code",
   "execution_count": 14,
   "id": "5ef2fa8d-c80b-4fdd-8555-79c0d541788e",
   "metadata": {
    "execution": {
     "iopub.execute_input": "2025-04-07T17:49:42.050634Z",
     "iopub.status.busy": "2025-04-07T17:49:42.050538Z",
     "iopub.status.idle": "2025-04-07T17:49:42.052837Z",
     "shell.execute_reply": "2025-04-07T17:49:42.052597Z"
    }
   },
   "outputs": [],
   "source": [
    "torch.save(model, f\"../weights/{model.metadata['clock_name']}.pt\")"
   ]
  },
  {
   "cell_type": "markdown",
   "id": "bac6257b-8d08-4a90-8d0b-7f745dc11ac1",
   "metadata": {},
   "source": [
    "## Clear directory\n",
    "<a id=\"10\"></a>"
   ]
  },
  {
   "cell_type": "code",
   "execution_count": 15,
   "id": "11aeaa70-44c0-42f9-86d7-740e3849a7a6",
   "metadata": {
    "execution": {
     "iopub.execute_input": "2025-04-07T17:49:42.054059Z",
     "iopub.status.busy": "2025-04-07T17:49:42.053975Z",
     "iopub.status.idle": "2025-04-07T17:49:42.071596Z",
     "shell.execute_reply": "2025-04-07T17:49:42.071317Z"
    }
   },
   "outputs": [
    {
     "name": "stdout",
     "output_type": "stream",
     "text": [
      "Deleted folder: HistoneClocks\n"
     ]
    }
   ],
   "source": [
    "# Function to remove a folder and all its contents\n",
    "def remove_folder(path):\n",
    "    try:\n",
    "        shutil.rmtree(path)\n",
    "        print(f\"Deleted folder: {path}\")\n",
    "    except Exception as e:\n",
    "        print(f\"Error deleting folder {path}: {e}\")\n",
    "\n",
    "# Get a list of all files and folders in the current directory\n",
    "all_items = os.listdir('.')\n",
    "\n",
    "# Loop through the items\n",
    "for item in all_items:\n",
    "    # Check if it's a file and does not end with .ipynb\n",
    "    if os.path.isfile(item) and not item.endswith('.ipynb'):\n",
    "        os.remove(item)\n",
    "        print(f\"Deleted file: {item}\")\n",
    "    # Check if it's a folder\n",
    "    elif os.path.isdir(item):\n",
    "        remove_folder(item)"
   ]
  }
 ],
 "metadata": {
  "kernelspec": {
   "display_name": "Python 3",
   "language": "python",
   "name": "python3"
  },
  "language_info": {
   "codemirror_mode": {
    "name": "ipython",
    "version": 3
   },
   "file_extension": ".py",
   "mimetype": "text/x-python",
   "name": "python",
   "nbconvert_exporter": "python",
   "pygments_lexer": "ipython3",
   "version": "3.9.7"
  }
 },
 "nbformat": 4,
 "nbformat_minor": 5
}
