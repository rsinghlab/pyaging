{
 "cells": [
  {
   "cell_type": "markdown",
   "id": "2f04eee0-5928-4e74-a754-6dc2e528810c",
   "metadata": {},
   "source": [
    "# MammalianFemale"
   ]
  },
  {
   "cell_type": "markdown",
   "id": "a3f514a3-772c-4a14-afdf-5a8376851ff4",
   "metadata": {},
   "source": [
    "## Index\n",
    "1. [Instantiate model class](#Instantiate-model-class)\n",
    "2. [Define clock metadata](#Define-clock-metadata)\n",
    "3. [Download clock dependencies](#Download-clock-dependencies)\n",
    "5. [Load features](#Load-features)\n",
    "6. [Load weights into base model](#Load-weights-into-base-model)\n",
    "7. [Load reference values](#Load-reference-values)\n",
    "8. [Load preprocess and postprocess objects](#Load-preprocess-and-postprocess-objects)\n",
    "10. [Check all clock parameters](#Check-all-clock-parameters)\n",
    "10. [Basic test](#Basic-test)\n",
    "11. [Save torch model](#Save-torch-model)\n",
    "12. [Clear directory](#Clear-directory)"
   ]
  },
  {
   "cell_type": "markdown",
   "id": "d95fafdc-643a-40ea-a689-200bd132e90c",
   "metadata": {},
   "source": [
    "Let's first import some packages:"
   ]
  },
  {
   "cell_type": "code",
   "execution_count": 1,
   "id": "4adfb4de-cd79-4913-a1af-9e23e9e236c9",
   "metadata": {
    "execution": {
     "iopub.execute_input": "2025-04-07T18:02:40.547739Z",
     "iopub.status.busy": "2025-04-07T18:02:40.547305Z",
     "iopub.status.idle": "2025-04-07T18:02:42.025788Z",
     "shell.execute_reply": "2025-04-07T18:02:42.025473Z"
    }
   },
   "outputs": [],
   "source": [
    "import os\n",
    "import inspect\n",
    "import shutil\n",
    "import json\n",
    "import torch\n",
    "import pandas as pd\n",
    "import pyaging as pya"
   ]
  },
  {
   "cell_type": "markdown",
   "id": "145082e5-ced4-47ae-88c0-cb69773e3c5a",
   "metadata": {},
   "source": [
    "## Instantiate model class"
   ]
  },
  {
   "cell_type": "code",
   "execution_count": 2,
   "id": "8aa77372-7ed3-4da7-abc9-d30372106139",
   "metadata": {
    "execution": {
     "iopub.execute_input": "2025-04-07T18:02:42.027492Z",
     "iopub.status.busy": "2025-04-07T18:02:42.027260Z",
     "iopub.status.idle": "2025-04-07T18:02:42.035628Z",
     "shell.execute_reply": "2025-04-07T18:02:42.035378Z"
    }
   },
   "outputs": [
    {
     "name": "stdout",
     "output_type": "stream",
     "text": [
      "class MammalianFemale(pyagingModel):\n",
      "    def __init__(self):\n",
      "        super().__init__()\n",
      "\n",
      "    def preprocess(self, x):\n",
      "        return x\n",
      "\n",
      "    def postprocess(self, x):\n",
      "        \"\"\"\n",
      "        Applies a sigmoid transformation.\n",
      "        \"\"\"\n",
      "        return torch.sigmoid(x)\n",
      "\n"
     ]
    }
   ],
   "source": [
    "def print_entire_class(cls):\n",
    "    source = inspect.getsource(cls)\n",
    "    print(source)\n",
    "\n",
    "print_entire_class(pya.models.MammalianFemale)"
   ]
  },
  {
   "cell_type": "code",
   "execution_count": 3,
   "id": "78536494-f1d9-44de-8583-c89a310d2307",
   "metadata": {
    "execution": {
     "iopub.execute_input": "2025-04-07T18:02:42.036882Z",
     "iopub.status.busy": "2025-04-07T18:02:42.036794Z",
     "iopub.status.idle": "2025-04-07T18:02:42.038453Z",
     "shell.execute_reply": "2025-04-07T18:02:42.038189Z"
    }
   },
   "outputs": [],
   "source": [
    "model = pya.models.MammalianFemale()"
   ]
  },
  {
   "cell_type": "markdown",
   "id": "51f8615e-01fa-4aa5-b196-3ee2b35d261c",
   "metadata": {},
   "source": [
    "## Define clock metadata"
   ]
  },
  {
   "cell_type": "code",
   "execution_count": 4,
   "id": "6601da9e-8adc-44ee-9308-75e3cd31b816",
   "metadata": {
    "execution": {
     "iopub.execute_input": "2025-04-07T18:02:42.039644Z",
     "iopub.status.busy": "2025-04-07T18:02:42.039562Z",
     "iopub.status.idle": "2025-04-07T18:02:42.041519Z",
     "shell.execute_reply": "2025-04-07T18:02:42.041281Z"
    }
   },
   "outputs": [],
   "source": [
    "model.metadata[\"clock_name\"] = 'mammalianfemale'\n",
    "model.metadata[\"data_type\"] = 'methylation'\n",
    "model.metadata[\"species\"] = 'multi'\n",
    "model.metadata[\"year\"] = 2023\n",
    "model.metadata[\"approved_by_author\"] = '⌛'\n",
    "model.metadata[\"citation\"] = \"Li, Caesar Z., et al. \\\"Epigenetic predictors of species maximum lifespan and other life history traits in mammals.\\\" bioRxiv (2023): 2023-11.\"\n",
    "model.metadata[\"doi\"] = \"https://doi.org/10.1101/2023.11.02.565286\"\n",
    "model.metadata[\"research_only\"] = None\n",
    "model.metadata[\"notes\"] = None"
   ]
  },
  {
   "cell_type": "markdown",
   "id": "74492239-5aae-4026-9d90-6bc9c574c110",
   "metadata": {},
   "source": [
    "## Download clock dependencies"
   ]
  },
  {
   "cell_type": "markdown",
   "id": "60a207cd-1a40-43bd-a93f-73de43358162",
   "metadata": {},
   "source": [
    "#### Download GitHub repository"
   ]
  },
  {
   "cell_type": "code",
   "execution_count": 5,
   "id": "fc5e4c40-38e1-4db5-9dcd-15379d32aa90",
   "metadata": {
    "execution": {
     "iopub.execute_input": "2025-04-07T18:02:42.042897Z",
     "iopub.status.busy": "2025-04-07T18:02:42.042813Z",
     "iopub.status.idle": "2025-04-07T18:02:44.018218Z",
     "shell.execute_reply": "2025-04-07T18:02:44.017914Z"
    }
   },
   "outputs": [
    {
     "data": {
      "text/plain": [
       "0"
      ]
     },
     "execution_count": 5,
     "metadata": {},
     "output_type": "execute_result"
    }
   ],
   "source": [
    "github_url = \"https://github.com/caeseriousli/MammalianMethylationPredictors.git\"\n",
    "github_folder_name = github_url.split('/')[-1].split('.')[0]\n",
    "os.system(f\"git clone {github_url}\")"
   ]
  },
  {
   "cell_type": "markdown",
   "id": "5035b180-3d1b-4432-8ebe-b9c92bd93a7f",
   "metadata": {},
   "source": [
    "## Load features"
   ]
  },
  {
   "cell_type": "markdown",
   "id": "15f4af76-b93c-438c-b57f-f129d6e9ec99",
   "metadata": {},
   "source": [
    "#### From CSV file"
   ]
  },
  {
   "cell_type": "code",
   "execution_count": 6,
   "id": "8a3d5de6-6303-487a-8b4d-e6345792f7be",
   "metadata": {
    "execution": {
     "iopub.execute_input": "2025-04-07T18:02:44.019768Z",
     "iopub.status.busy": "2025-04-07T18:02:44.019650Z",
     "iopub.status.idle": "2025-04-07T18:02:44.023624Z",
     "shell.execute_reply": "2025-04-07T18:02:44.023348Z"
    }
   },
   "outputs": [],
   "source": [
    "df = pd.read_csv('MammalianMethylationPredictors/Predictors/FemalePredictor_Overlap320K40K.csv')\n",
    "df['feature'] = df['CpG']\n",
    "df['coefficient'] = df['RegressionCoefficient']\n",
    "df = df[df.RegressionCoefficient != 0]\n",
    "\n",
    "model.features = df['feature'][1:].tolist()"
   ]
  },
  {
   "cell_type": "markdown",
   "id": "ee6d8fa0-4767-4c45-9717-eb1c95e2ddc0",
   "metadata": {},
   "source": [
    "## Load weights into base model"
   ]
  },
  {
   "cell_type": "code",
   "execution_count": 7,
   "id": "e09b3463-4fd4-41b1-ac21-e63ddd223fe0",
   "metadata": {
    "execution": {
     "iopub.execute_input": "2025-04-07T18:02:44.025063Z",
     "iopub.status.busy": "2025-04-07T18:02:44.024964Z",
     "iopub.status.idle": "2025-04-07T18:02:44.027104Z",
     "shell.execute_reply": "2025-04-07T18:02:44.026815Z"
    }
   },
   "outputs": [],
   "source": [
    "weights = torch.tensor(df['coefficient'][1:].tolist()).unsqueeze(0)\n",
    "intercept = torch.tensor([df['coefficient'][0]])"
   ]
  },
  {
   "cell_type": "markdown",
   "id": "ad261636-5b00-4979-bb1d-67a851f7aa19",
   "metadata": {},
   "source": [
    "#### Linear model"
   ]
  },
  {
   "cell_type": "code",
   "execution_count": 8,
   "id": "d7f43b99-26f2-4622-9a76-316712058877",
   "metadata": {
    "execution": {
     "iopub.execute_input": "2025-04-07T18:02:44.028410Z",
     "iopub.status.busy": "2025-04-07T18:02:44.028321Z",
     "iopub.status.idle": "2025-04-07T18:02:44.030500Z",
     "shell.execute_reply": "2025-04-07T18:02:44.030214Z"
    }
   },
   "outputs": [],
   "source": [
    "base_model = pya.models.LinearModel(input_dim=len(model.features))\n",
    "\n",
    "base_model.linear.weight.data = weights.float()\n",
    "base_model.linear.bias.data = intercept.float()\n",
    "\n",
    "model.base_model = base_model"
   ]
  },
  {
   "cell_type": "markdown",
   "id": "ad8b4c1d-9d57-48b7-9a30-bcfea7b747b1",
   "metadata": {},
   "source": [
    "## Load reference values"
   ]
  },
  {
   "cell_type": "code",
   "execution_count": 9,
   "id": "ade0f4c9-2298-4fc3-bb72-d200907dd731",
   "metadata": {
    "execution": {
     "iopub.execute_input": "2025-04-07T18:02:44.031896Z",
     "iopub.status.busy": "2025-04-07T18:02:44.031803Z",
     "iopub.status.idle": "2025-04-07T18:02:44.033355Z",
     "shell.execute_reply": "2025-04-07T18:02:44.033076Z"
    }
   },
   "outputs": [],
   "source": [
    "model.reference_values = None"
   ]
  },
  {
   "cell_type": "markdown",
   "id": "af3bcf7b-74a8-4d21-9ccb-4de0c2b0516b",
   "metadata": {},
   "source": [
    "## Load preprocess and postprocess objects"
   ]
  },
  {
   "cell_type": "code",
   "execution_count": 10,
   "id": "7a22fb20-c605-424d-8efb-7620c2c0755c",
   "metadata": {
    "execution": {
     "iopub.execute_input": "2025-04-07T18:02:44.034693Z",
     "iopub.status.busy": "2025-04-07T18:02:44.034604Z",
     "iopub.status.idle": "2025-04-07T18:02:44.036130Z",
     "shell.execute_reply": "2025-04-07T18:02:44.035883Z"
    }
   },
   "outputs": [],
   "source": [
    "model.preprocess_name = None\n",
    "model.preprocess_dependencies = None"
   ]
  },
  {
   "cell_type": "code",
   "execution_count": 11,
   "id": "ff4a21cb-cf41-44dc-9ed1-95cf8aa15772",
   "metadata": {
    "execution": {
     "iopub.execute_input": "2025-04-07T18:02:44.037339Z",
     "iopub.status.busy": "2025-04-07T18:02:44.037234Z",
     "iopub.status.idle": "2025-04-07T18:02:44.038756Z",
     "shell.execute_reply": "2025-04-07T18:02:44.038512Z"
    }
   },
   "outputs": [],
   "source": [
    "model.postprocess_name = 'sigmoid'\n",
    "model.postprocess_dependencies = None"
   ]
  },
  {
   "cell_type": "markdown",
   "id": "86e3d6b1-e67e-4f3d-bd39-0ebec5726c3c",
   "metadata": {},
   "source": [
    "## Check all clock parameters"
   ]
  },
  {
   "cell_type": "code",
   "execution_count": 12,
   "id": "2168355c-47d9-475d-b816-49f65e74887c",
   "metadata": {
    "execution": {
     "iopub.execute_input": "2025-04-07T18:02:44.040086Z",
     "iopub.status.busy": "2025-04-07T18:02:44.039983Z",
     "iopub.status.idle": "2025-04-07T18:02:44.043331Z",
     "shell.execute_reply": "2025-04-07T18:02:44.043070Z"
    }
   },
   "outputs": [
    {
     "name": "stdout",
     "output_type": "stream",
     "text": [
      "\n",
      "%==================================== Model Details ====================================%\n",
      "Model Attributes:\n",
      "\n",
      "training: True\n",
      "metadata: {'approved_by_author': '⌛',\n",
      " 'citation': 'Li, Caesar Z., et al. \"Epigenetic predictors of species maximum '\n",
      "             'lifespan and other life history traits in mammals.\" bioRxiv '\n",
      "             '(2023): 2023-11.',\n",
      " 'clock_name': 'mammalianfemale',\n",
      " 'data_type': 'methylation',\n",
      " 'doi': 'https://doi.org/10.1101/2023.11.02.565286',\n",
      " 'notes': None,\n",
      " 'research_only': None,\n",
      " 'species': 'multi',\n",
      " 'version': None,\n",
      " 'year': 2023}\n",
      "reference_values: None\n",
      "preprocess_name: None\n",
      "preprocess_dependencies: None\n",
      "postprocess_name: 'sigmoid'\n",
      "postprocess_dependencies: None\n",
      "features: ['cg00563016', 'cg00878023', 'cg01042193', 'cg01145947', 'cg02053792', 'cg02407848', 'cg02812647', 'cg03039483', 'cg03341064', 'cg03860580', 'cg04272551', 'cg04423201', 'cg04487404', 'cg04493740', 'cg05218225', 'cg05848491', 'cg05901294', 'cg06332339', 'cg06758827', 'cg07121495', 'cg07597118', 'cg07998710', 'cg08162897', 'cg08955338', 'cg09509790', 'cg09658710', 'cg09824710', 'cg10723970', 'cg10730492', 'cg10743840']... [Total elements: 101]\n",
      "base_model_features: None\n",
      "\n",
      "%==================================== Model Details ====================================%\n",
      "Model Structure:\n",
      "\n",
      "base_model: LinearModel(\n",
      "  (linear): Linear(in_features=101, out_features=1, bias=True)\n",
      ")\n",
      "\n",
      "%==================================== Model Details ====================================%\n",
      "Model Parameters and Weights:\n",
      "\n",
      "base_model.linear.weight: [-3.7219111919403076, 0.00039567038766108453, 0.16944003105163574, -0.3170323371887207, 0.09090086817741394, 1.4698140621185303, 0.34378138184547424, 0.37199780344963074, 0.248253732919693, -0.570648729801178, -1.2420387268066406, -0.6031981706619263, 0.2966012954711914, 0.4936045706272125, 1.3543082475662231, -0.5120242834091187, -1.071324110031128, 0.40442875027656555, 0.09175214916467667, -0.3924863040447235, 0.010922560468316078, 0.0004333447141107172, -1.255670428276062, 0.5057510733604431, 0.8768488168716431, -0.12605105340480804, 0.7848129868507385, -2.125744104385376, 0.3008327782154083, -0.014511662535369396]... [Tensor of shape torch.Size([1, 101])]\n",
      "base_model.linear.bias: tensor([0.7064])\n",
      "\n",
      "%==================================== Model Details ====================================%\n",
      "\n"
     ]
    }
   ],
   "source": [
    "pya.utils.print_model_details(model)"
   ]
  },
  {
   "cell_type": "markdown",
   "id": "986d0262-e0c7-4036-b687-dee53ba392fb",
   "metadata": {},
   "source": [
    "## Basic test"
   ]
  },
  {
   "cell_type": "code",
   "execution_count": 13,
   "id": "936b9877-d076-4ced-99aa-e8d4c58c5caf",
   "metadata": {
    "execution": {
     "iopub.execute_input": "2025-04-07T18:02:44.044736Z",
     "iopub.status.busy": "2025-04-07T18:02:44.044621Z",
     "iopub.status.idle": "2025-04-07T18:02:44.049040Z",
     "shell.execute_reply": "2025-04-07T18:02:44.048799Z"
    }
   },
   "outputs": [
    {
     "data": {
      "text/plain": [
       "tensor([[9.8883e-01],\n",
       "        [2.9257e-02],\n",
       "        [7.8139e-01],\n",
       "        [1.7065e-05],\n",
       "        [1.3097e-05],\n",
       "        [1.7472e-01],\n",
       "        [7.5826e-01],\n",
       "        [9.9268e-04],\n",
       "        [5.3222e-03],\n",
       "        [9.9953e-01]], dtype=torch.float64, grad_fn=<SigmoidBackward0>)"
      ]
     },
     "execution_count": 13,
     "metadata": {},
     "output_type": "execute_result"
    }
   ],
   "source": [
    "torch.manual_seed(42)\n",
    "input = torch.randn(10, len(model.features), dtype=float)\n",
    "model.eval()\n",
    "model.to(float)\n",
    "pred = model(input)\n",
    "pred"
   ]
  },
  {
   "cell_type": "markdown",
   "id": "fe8299d7-9285-4e22-82fd-b664434b4369",
   "metadata": {},
   "source": [
    "## Save torch model"
   ]
  },
  {
   "cell_type": "code",
   "execution_count": 14,
   "id": "5ef2fa8d-c80b-4fdd-8555-79c0d541788e",
   "metadata": {
    "execution": {
     "iopub.execute_input": "2025-04-07T18:02:44.050273Z",
     "iopub.status.busy": "2025-04-07T18:02:44.050185Z",
     "iopub.status.idle": "2025-04-07T18:02:44.052240Z",
     "shell.execute_reply": "2025-04-07T18:02:44.052011Z"
    }
   },
   "outputs": [],
   "source": [
    "torch.save(model, f\"../weights/{model.metadata['clock_name']}.pt\")"
   ]
  },
  {
   "cell_type": "markdown",
   "id": "bac6257b-8d08-4a90-8d0b-7f745dc11ac1",
   "metadata": {},
   "source": [
    "## Clear directory\n",
    "<a id=\"10\"></a>"
   ]
  },
  {
   "cell_type": "code",
   "execution_count": 15,
   "id": "11aeaa70-44c0-42f9-86d7-740e3849a7a6",
   "metadata": {
    "execution": {
     "iopub.execute_input": "2025-04-07T18:02:44.053463Z",
     "iopub.status.busy": "2025-04-07T18:02:44.053377Z",
     "iopub.status.idle": "2025-04-07T18:02:44.061957Z",
     "shell.execute_reply": "2025-04-07T18:02:44.061718Z"
    }
   },
   "outputs": [
    {
     "name": "stdout",
     "output_type": "stream",
     "text": [
      "Deleted folder: MammalianMethylationPredictors\n"
     ]
    }
   ],
   "source": [
    "# Function to remove a folder and all its contents\n",
    "def remove_folder(path):\n",
    "    try:\n",
    "        shutil.rmtree(path)\n",
    "        print(f\"Deleted folder: {path}\")\n",
    "    except Exception as e:\n",
    "        print(f\"Error deleting folder {path}: {e}\")\n",
    "\n",
    "# Get a list of all files and folders in the current directory\n",
    "all_items = os.listdir('.')\n",
    "\n",
    "# Loop through the items\n",
    "for item in all_items:\n",
    "    # Check if it's a file and does not end with .ipynb\n",
    "    if os.path.isfile(item) and not item.endswith('.ipynb'):\n",
    "        os.remove(item)\n",
    "        print(f\"Deleted file: {item}\")\n",
    "    # Check if it's a folder\n",
    "    elif os.path.isdir(item):\n",
    "        remove_folder(item)"
   ]
  }
 ],
 "metadata": {
  "kernelspec": {
   "display_name": "Python 3",
   "language": "python",
   "name": "python3"
  },
  "language_info": {
   "codemirror_mode": {
    "name": "ipython",
    "version": 3
   },
   "file_extension": ".py",
   "mimetype": "text/x-python",
   "name": "python",
   "nbconvert_exporter": "python",
   "pygments_lexer": "ipython3",
   "version": "3.9.7"
  }
 },
 "nbformat": 4,
 "nbformat_minor": 5
}
