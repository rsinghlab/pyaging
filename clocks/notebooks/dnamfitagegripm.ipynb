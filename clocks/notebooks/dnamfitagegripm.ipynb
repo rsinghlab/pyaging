{
 "cells": [
  {
   "cell_type": "markdown",
   "id": "2f04eee0-5928-4e74-a754-6dc2e528810c",
   "metadata": {},
   "source": [
    "# DNAmFitAgeGripM"
   ]
  },
  {
   "cell_type": "markdown",
   "id": "a3f514a3-772c-4a14-afdf-5a8376851ff4",
   "metadata": {},
   "source": [
    "## Index\n",
    "1. [Instantiate model class](#Instantiate-model-class)\n",
    "2. [Define clock metadata](#Define-clock-metadata)\n",
    "3. [Download clock dependencies](#Download-clock-dependencies)\n",
    "5. [Load features](#Load-features)\n",
    "6. [Load weights into base model](#Load-weights-into-base-model)\n",
    "7. [Load reference values](#Load-reference-values)\n",
    "8. [Load preprocess and postprocess objects](#Load-preprocess-and-postprocess-objects)\n",
    "10. [Check all clock parameters](#Check-all-clock-parameters)\n",
    "10. [Basic test](#Basic-test)\n",
    "11. [Save torch model](#Save-torch-model)\n",
    "12. [Clear directory](#Clear-directory)"
   ]
  },
  {
   "cell_type": "markdown",
   "id": "d95fafdc-643a-40ea-a689-200bd132e90c",
   "metadata": {},
   "source": [
    "Let's first import some packages:"
   ]
  },
  {
   "cell_type": "code",
   "execution_count": 18,
   "id": "4adfb4de-cd79-4913-a1af-9e23e9e236c9",
   "metadata": {
    "execution": {
     "iopub.execute_input": "2025-04-07T17:50:23.621657Z",
     "iopub.status.busy": "2025-04-07T17:50:23.621346Z",
     "iopub.status.idle": "2025-04-07T17:50:25.088787Z",
     "shell.execute_reply": "2025-04-07T17:50:25.088401Z"
    }
   },
   "outputs": [],
   "source": [
    "import os\n",
    "import inspect\n",
    "import shutil\n",
    "import json\n",
    "import torch\n",
    "import pandas as pd\n",
    "import numpy as np\n",
    "import pyaging as pya"
   ]
  },
  {
   "cell_type": "markdown",
   "id": "145082e5-ced4-47ae-88c0-cb69773e3c5a",
   "metadata": {},
   "source": [
    "## Instantiate model class"
   ]
  },
  {
   "cell_type": "code",
   "execution_count": 19,
   "id": "8aa77372-7ed3-4da7-abc9-d30372106139",
   "metadata": {
    "execution": {
     "iopub.execute_input": "2025-04-07T17:50:25.090492Z",
     "iopub.status.busy": "2025-04-07T17:50:25.090265Z",
     "iopub.status.idle": "2025-04-07T17:50:25.101917Z",
     "shell.execute_reply": "2025-04-07T17:50:25.101643Z"
    }
   },
   "outputs": [
    {
     "name": "stdout",
     "output_type": "stream",
     "text": [
      "class DNAmFitAgeGripM(pyagingModel):\n",
      "    def __init__(self):\n",
      "        super().__init__()\n",
      "\n",
      "    def preprocess(self, x):\n",
      "        return x\n",
      "    \n",
      "    def postprocess(self, x):\n",
      "        return x\n",
      "\n"
     ]
    }
   ],
   "source": [
    "def print_entire_class(cls):\n",
    "    source = inspect.getsource(cls)\n",
    "    print(source)\n",
    "\n",
    "print_entire_class(pya.models.DNAmFitAgeGripM)"
   ]
  },
  {
   "cell_type": "code",
   "execution_count": 20,
   "id": "914a94cf-bf6c-4b9d-862a-a2787842e07e",
   "metadata": {
    "execution": {
     "iopub.execute_input": "2025-04-07T17:50:25.103160Z",
     "iopub.status.busy": "2025-04-07T17:50:25.103071Z",
     "iopub.status.idle": "2025-04-07T17:50:25.104710Z",
     "shell.execute_reply": "2025-04-07T17:50:25.104466Z"
    }
   },
   "outputs": [],
   "source": [
    "model = pya.models.DNAmFitAgeGripM()"
   ]
  },
  {
   "cell_type": "markdown",
   "id": "51f8615e-01fa-4aa5-b196-3ee2b35d261c",
   "metadata": {},
   "source": [
    "## Define clock metadata"
   ]
  },
  {
   "cell_type": "code",
   "execution_count": 21,
   "id": "6609d6dc-c0a0-4137-bdf5-9fb31ea85281",
   "metadata": {
    "execution": {
     "iopub.execute_input": "2025-04-07T17:50:25.105997Z",
     "iopub.status.busy": "2025-04-07T17:50:25.105908Z",
     "iopub.status.idle": "2025-04-07T17:50:25.107874Z",
     "shell.execute_reply": "2025-04-07T17:50:25.107633Z"
    }
   },
   "outputs": [],
   "source": [
    "model.metadata[\"clock_name\"] = 'dnamfitagegripm'\n",
    "model.metadata[\"data_type\"] = 'methylation'\n",
    "model.metadata[\"species\"] = 'Homo sapiens'\n",
    "model.metadata[\"year\"] = 2023\n",
    "model.metadata[\"approved_by_author\"] = '⌛'\n",
    "model.metadata[\"citation\"] = \"McGreevy, Kristen M., et al. \\\"DNAmFitAge: biological age indicator incorporating physical fitness.\\\" Aging (Albany NY) 15.10 (2023): 3904.\"\n",
    "model.metadata[\"doi\"] = 'https://doi.org/10.18632/aging.204538'\n",
    "model.metadata[\"research_only\"] = None\n",
    "model.metadata[\"notes\"] = 'Reference values is mean between male and female training medians'"
   ]
  },
  {
   "cell_type": "markdown",
   "id": "74492239-5aae-4026-9d90-6bc9c574c110",
   "metadata": {},
   "source": [
    "## Download clock dependencies"
   ]
  },
  {
   "cell_type": "markdown",
   "id": "7bec474f-80ce-4884-9472-30c193327117",
   "metadata": {},
   "source": [
    "#### Download GitHub repository"
   ]
  },
  {
   "cell_type": "code",
   "execution_count": 22,
   "id": "aa4a1b59-dda3-4ea8-8f34-b3c53ecbc310",
   "metadata": {
    "execution": {
     "iopub.execute_input": "2025-04-07T17:50:25.109229Z",
     "iopub.status.busy": "2025-04-07T17:50:25.109147Z",
     "iopub.status.idle": "2025-04-07T17:50:25.651487Z",
     "shell.execute_reply": "2025-04-07T17:50:25.650965Z"
    }
   },
   "outputs": [
    {
     "data": {
      "text/plain": [
       "0"
      ]
     },
     "execution_count": 22,
     "metadata": {},
     "output_type": "execute_result"
    }
   ],
   "source": [
    "github_url = \"https://github.com/kristenmcgreevy/DNAmFitAge.git\"\n",
    "github_folder_name = github_url.split('/')[-1].split('.')[0]\n",
    "os.system(f\"git clone {github_url}\")"
   ]
  },
  {
   "cell_type": "markdown",
   "id": "6bd15521-363f-4029-99ff-9f0b2ae0ed2e",
   "metadata": {},
   "source": [
    "#### Download from R package"
   ]
  },
  {
   "cell_type": "code",
   "execution_count": 23,
   "id": "f1f9bbe4-cfc8-494c-b910-c96da88afb2b",
   "metadata": {
    "execution": {
     "iopub.execute_input": "2025-04-07T17:50:25.653928Z",
     "iopub.status.busy": "2025-04-07T17:50:25.653723Z",
     "iopub.status.idle": "2025-04-07T17:50:25.657586Z",
     "shell.execute_reply": "2025-04-07T17:50:25.657192Z"
    }
   },
   "outputs": [
    {
     "name": "stdout",
     "output_type": "stream",
     "text": [
      "Writing download.r\n"
     ]
    }
   ],
   "source": [
    "%%writefile download.r\n",
    "\n",
    "options(repos = c(CRAN = \"https://cloud.r-project.org/\"))\n",
    "library(jsonlite)\n",
    "\n",
    "DNAmFitnessModels <- readRDS(\"DNAmFitAge/DNAmFitnessModelsandFitAge_Oct2022.rds\")\n",
    "\n",
    "AllCpGs <- DNAmFitnessModels$AllCpGs\n",
    "write_json(AllCpGs, \"AllCpGs.json\")\n",
    "\n",
    "MaleMedians <- DNAmFitnessModels$Male_Medians_All\n",
    "write.csv(MaleMedians, \"MaleMedians.csv\")\n",
    "FemaleMedians <- DNAmFitnessModels$Female_Medians_All\n",
    "write.csv(FemaleMedians, \"FemaleMedians.csv\")\n",
    "\n",
    "Gait_noAge_Females <- DNAmFitnessModels$Gait_noAge_Females\n",
    "Gait_noAge_Males <- DNAmFitnessModels$Gait_noAge_Males\n",
    "Grip_noAge_Females <- DNAmFitnessModels$Grip_noAge_Females\n",
    "Grip_noAge_Males <- DNAmFitnessModels$Grip_noAge_Males\n",
    "VO2maxModel <- DNAmFitnessModels$VO2maxModel\n",
    "write.csv(Gait_noAge_Females, \"Gait_noAge_Females.csv\")\n",
    "write.csv(Gait_noAge_Males, \"Gait_noAge_Males.csv\")\n",
    "write.csv(Grip_noAge_Females, \"Grip_noAge_Females.csv\")\n",
    "write.csv(Grip_noAge_Males, \"Grip_noAge_Males.csv\")\n",
    "write.csv(VO2maxModel, \"VO2maxModel.csv\")"
   ]
  },
  {
   "cell_type": "code",
   "execution_count": 24,
   "id": "f1965587-a6ac-47ce-bd7a-bb98ca1d91b5",
   "metadata": {
    "execution": {
     "iopub.execute_input": "2025-04-07T17:50:25.659496Z",
     "iopub.status.busy": "2025-04-07T17:50:25.659322Z",
     "iopub.status.idle": "2025-04-07T17:50:27.279878Z",
     "shell.execute_reply": "2025-04-07T17:50:27.279562Z"
    }
   },
   "outputs": [
    {
     "data": {
      "text/plain": [
       "0"
      ]
     },
     "execution_count": 24,
     "metadata": {},
     "output_type": "execute_result"
    }
   ],
   "source": [
    "os.system(\"Rscript download.r\")"
   ]
  },
  {
   "cell_type": "markdown",
   "id": "5035b180-3d1b-4432-8ebe-b9c92bd93a7f",
   "metadata": {},
   "source": [
    "## Load features"
   ]
  },
  {
   "cell_type": "markdown",
   "id": "d8025ed7-0013-419b-8cb5-1a2db98f9eba",
   "metadata": {},
   "source": [
    "#### From JSON file"
   ]
  },
  {
   "cell_type": "code",
   "execution_count": 25,
   "id": "c0b63afa",
   "metadata": {},
   "outputs": [
    {
     "data": {
      "text/html": [
       "<div>\n",
       "<style scoped>\n",
       "    .dataframe tbody tr th:only-of-type {\n",
       "        vertical-align: middle;\n",
       "    }\n",
       "\n",
       "    .dataframe tbody tr th {\n",
       "        vertical-align: top;\n",
       "    }\n",
       "\n",
       "    .dataframe thead th {\n",
       "        text-align: right;\n",
       "    }\n",
       "</style>\n",
       "<table border=\"1\" class=\"dataframe\">\n",
       "  <thead>\n",
       "    <tr style=\"text-align: right;\">\n",
       "      <th></th>\n",
       "      <th>term</th>\n",
       "      <th>step</th>\n",
       "      <th>estimate</th>\n",
       "      <th>lambda</th>\n",
       "      <th>dev.ratio</th>\n",
       "      <th>feature</th>\n",
       "      <th>coefficient</th>\n",
       "    </tr>\n",
       "  </thead>\n",
       "  <tbody>\n",
       "    <tr>\n",
       "      <th>1</th>\n",
       "      <td>(Intercept)</td>\n",
       "      <td>1</td>\n",
       "      <td>43.019754</td>\n",
       "      <td>1.089044</td>\n",
       "      <td>0.479362</td>\n",
       "      <td>(Intercept)</td>\n",
       "      <td>43.019754</td>\n",
       "    </tr>\n",
       "    <tr>\n",
       "      <th>2</th>\n",
       "      <td>cg16736630</td>\n",
       "      <td>1</td>\n",
       "      <td>-0.892844</td>\n",
       "      <td>1.089044</td>\n",
       "      <td>0.479362</td>\n",
       "      <td>cg16736630</td>\n",
       "      <td>-0.892844</td>\n",
       "    </tr>\n",
       "    <tr>\n",
       "      <th>3</th>\n",
       "      <td>cg26224305</td>\n",
       "      <td>1</td>\n",
       "      <td>1.637954</td>\n",
       "      <td>1.089044</td>\n",
       "      <td>0.479362</td>\n",
       "      <td>cg26224305</td>\n",
       "      <td>1.637954</td>\n",
       "    </tr>\n",
       "    <tr>\n",
       "      <th>4</th>\n",
       "      <td>cg20822990</td>\n",
       "      <td>1</td>\n",
       "      <td>1.526546</td>\n",
       "      <td>1.089044</td>\n",
       "      <td>0.479362</td>\n",
       "      <td>cg20822990</td>\n",
       "      <td>1.526546</td>\n",
       "    </tr>\n",
       "    <tr>\n",
       "      <th>5</th>\n",
       "      <td>cg03772253</td>\n",
       "      <td>1</td>\n",
       "      <td>-0.334703</td>\n",
       "      <td>1.089044</td>\n",
       "      <td>0.479362</td>\n",
       "      <td>cg03772253</td>\n",
       "      <td>-0.334703</td>\n",
       "    </tr>\n",
       "  </tbody>\n",
       "</table>\n",
       "</div>"
      ],
      "text/plain": [
       "          term  step   estimate    lambda  dev.ratio      feature  coefficient\n",
       "1  (Intercept)     1  43.019754  1.089044   0.479362  (Intercept)    43.019754\n",
       "2   cg16736630     1  -0.892844  1.089044   0.479362   cg16736630    -0.892844\n",
       "3   cg26224305     1   1.637954  1.089044   0.479362   cg26224305     1.637954\n",
       "4   cg20822990     1   1.526546  1.089044   0.479362   cg20822990     1.526546\n",
       "5   cg03772253     1  -0.334703  1.089044   0.479362   cg03772253    -0.334703"
      ]
     },
     "execution_count": 25,
     "metadata": {},
     "output_type": "execute_result"
    }
   ],
   "source": [
    "df = pd.read_csv('Grip_noAge_Males.csv', index_col=0)\n",
    "df['feature'] = df['term']\n",
    "df['coefficient'] = df['estimate']\n",
    "model.features = df['feature'][1:].tolist()\n",
    "df.head()"
   ]
  },
  {
   "cell_type": "markdown",
   "id": "ee6d8fa0-4767-4c45-9717-eb1c95e2ddc0",
   "metadata": {},
   "source": [
    "## Load weights into base model"
   ]
  },
  {
   "cell_type": "code",
   "execution_count": 27,
   "id": "8d58875d",
   "metadata": {},
   "outputs": [],
   "source": [
    "weights = torch.tensor(df['coefficient'][1:].tolist()).unsqueeze(0)\n",
    "intercept = torch.tensor([df['coefficient'].iloc[0]])"
   ]
  },
  {
   "cell_type": "markdown",
   "id": "69901c2b-9584-4de3-a642-ddb6b43d923a",
   "metadata": {},
   "source": [
    "#### Linear model"
   ]
  },
  {
   "cell_type": "code",
   "execution_count": 28,
   "id": "5fb10110-a89a-4caa-a62a-59899ebccd23",
   "metadata": {
    "execution": {
     "iopub.execute_input": "2025-04-07T17:50:27.292804Z",
     "iopub.status.busy": "2025-04-07T17:50:27.292717Z",
     "iopub.status.idle": "2025-04-07T17:50:27.302996Z",
     "shell.execute_reply": "2025-04-07T17:50:27.302732Z"
    }
   },
   "outputs": [],
   "source": [
    "base_model = pya.models.LinearModel(input_dim=len(model.features))\n",
    "\n",
    "base_model.linear.weight.data = weights.float()\n",
    "base_model.linear.bias.data = intercept.float()\n",
    "\n",
    "model.base_model = base_model"
   ]
  },
  {
   "cell_type": "markdown",
   "id": "ad8b4c1d-9d57-48b7-9a30-bcfea7b747b1",
   "metadata": {},
   "source": [
    "## Load reference values"
   ]
  },
  {
   "cell_type": "markdown",
   "id": "f7fdae64-096a-4640-ade7-6a17b78a01d5",
   "metadata": {},
   "source": [
    "#### From CSV file"
   ]
  },
  {
   "cell_type": "code",
   "execution_count": 29,
   "id": "e1dc004f-06b7-4e24-a937-00736e93765f",
   "metadata": {
    "execution": {
     "iopub.execute_input": "2025-04-07T17:50:27.308644Z",
     "iopub.status.busy": "2025-04-07T17:50:27.308553Z",
     "iopub.status.idle": "2025-04-07T17:50:27.323332Z",
     "shell.execute_reply": "2025-04-07T17:50:27.323061Z"
    }
   },
   "outputs": [],
   "source": [
    "reference_df = pd.read_csv('MaleMedians.csv', index_col=0)\n",
    "model.reference_values =  list(reference_df.loc[1, model.features])"
   ]
  },
  {
   "cell_type": "markdown",
   "id": "af3bcf7b-74a8-4d21-9ccb-4de0c2b0516b",
   "metadata": {},
   "source": [
    "## Load preprocess and postprocess objects"
   ]
  },
  {
   "cell_type": "code",
   "execution_count": 30,
   "id": "79a1b3a2-00f1-42b1-9fcd-f919343391d7",
   "metadata": {
    "execution": {
     "iopub.execute_input": "2025-04-07T17:50:27.324794Z",
     "iopub.status.busy": "2025-04-07T17:50:27.324706Z",
     "iopub.status.idle": "2025-04-07T17:50:27.326219Z",
     "shell.execute_reply": "2025-04-07T17:50:27.325910Z"
    }
   },
   "outputs": [],
   "source": [
    "model.preprocess_name = None\n",
    "model.preprocess_dependencies = None"
   ]
  },
  {
   "cell_type": "code",
   "execution_count": 31,
   "id": "ff4a21cb-cf41-44dc-9ed1-95cf8aa15772",
   "metadata": {
    "execution": {
     "iopub.execute_input": "2025-04-07T17:50:27.327714Z",
     "iopub.status.busy": "2025-04-07T17:50:27.327614Z",
     "iopub.status.idle": "2025-04-07T17:50:27.329350Z",
     "shell.execute_reply": "2025-04-07T17:50:27.329050Z"
    }
   },
   "outputs": [],
   "source": [
    "model.postprocess_name = None\n",
    "model.postprocess_dependencies = None"
   ]
  },
  {
   "cell_type": "markdown",
   "id": "86e3d6b1-e67e-4f3d-bd39-0ebec5726c3c",
   "metadata": {},
   "source": [
    "## Check all clock parameters"
   ]
  },
  {
   "cell_type": "code",
   "execution_count": 32,
   "id": "2168355c-47d9-475d-b816-49f65e74887c",
   "metadata": {
    "execution": {
     "iopub.execute_input": "2025-04-07T17:50:27.330820Z",
     "iopub.status.busy": "2025-04-07T17:50:27.330730Z",
     "iopub.status.idle": "2025-04-07T17:50:27.336089Z",
     "shell.execute_reply": "2025-04-07T17:50:27.335809Z"
    }
   },
   "outputs": [
    {
     "name": "stdout",
     "output_type": "stream",
     "text": [
      "\n",
      "%==================================== Model Details ====================================%\n",
      "Model Attributes:\n",
      "\n",
      "training: True\n",
      "metadata: {'approved_by_author': '⌛',\n",
      " 'citation': 'McGreevy, Kristen M., et al. \"DNAmFitAge: biological age '\n",
      "             'indicator incorporating physical fitness.\" Aging (Albany NY) '\n",
      "             '15.10 (2023): 3904.',\n",
      " 'clock_name': 'dnamfitagegripm',\n",
      " 'data_type': 'methylation',\n",
      " 'doi': 'https://doi.org/10.18632/aging.204538',\n",
      " 'notes': 'Reference values is mean between male and female training medians',\n",
      " 'research_only': None,\n",
      " 'species': 'Homo sapiens',\n",
      " 'version': None,\n",
      " 'year': 2023}\n",
      "reference_values: [0.510108256486195, 0.0174923251251838, 0.282280857535263, 0.0528901870575477, 0.597656383314558, 0.248233103255157, 0.852384268050395, 0.941476851346533, 0.734221050058483, 0.190121263555547, 0.31940105422856, 0.814431141757476, 0.19176405807589, 0.0479152480674275, 0.953607748943679, 0.492922877265799, 0.185486398346001, 0.0841236306449339, 0.621103094526097, 0.87518246696653, 0.663858799750913, 0.556449656236505, 0.623096676798486, 0.345448583792196, 0.527682477978777, 0.212507683830467, 0.485466327170399, 0.846662732645798, 0.851402366282247, 0.839862295544553]... [Total elements: 93]\n",
      "preprocess_name: None\n",
      "preprocess_dependencies: None\n",
      "postprocess_name: None\n",
      "postprocess_dependencies: None\n",
      "features: ['cg16736630', 'cg26224305', 'cg20822990', 'cg03772253', 'cg25410668', 'cg06335143', 'cg24152080', 'cg13783177', 'cg01233392', 'cg09789768', 'cg22431262', 'cg01791778', 'cg19516340', 'cg26248645', 'cg17082856', 'cg06639320', 'cg26158023', 'cg14507891', 'cg13287247', 'cg01552919', 'cg17315281', 'cg21397124', 'cg14069287', 'cg03614721', 'cg12655768', 'cg08206318', 'cg23500537', 'cg26960988', 'cg15971074', 'cg23069046']... [Total elements: 93]\n",
      "base_model_features: None\n",
      "\n",
      "%==================================== Model Details ====================================%\n",
      "Model Structure:\n",
      "\n",
      "base_model: LinearModel(\n",
      "  (linear): Linear(in_features=93, out_features=1, bias=True)\n",
      ")\n",
      "\n",
      "%==================================== Model Details ====================================%\n",
      "Model Parameters and Weights:\n",
      "\n",
      "base_model.linear.weight: [-0.892844021320343, 1.6379542350769043, 1.5265462398529053, -0.3347032964229584, -1.9029316902160645, -0.2647155225276947, -6.30814266204834, 14.954833984375, 1.178484320640564, 3.5211784839630127, -0.1861504316329956, -1.6255935430526733, 4.550158977508545, -1.587499976158142, -0.449662446975708, -8.599822998046875, 25.895660400390625, 4.368823051452637, 3.992393970489502, 1.3252184391021729, -2.2360410690307617, -0.6896253228187561, 1.5932470560073853, 1.5443568229675293, -0.7052236795425415, -3.0787854194641113, -0.2242996096611023, -0.23673297464847565, 2.1442930698394775, -0.3954241871833801]... [Tensor of shape torch.Size([1, 93])]\n",
      "base_model.linear.bias: tensor([43.0198])\n",
      "\n",
      "%==================================== Model Details ====================================%\n",
      "\n"
     ]
    }
   ],
   "source": [
    "pya.utils.print_model_details(model)"
   ]
  },
  {
   "cell_type": "markdown",
   "id": "986d0262-e0c7-4036-b687-dee53ba392fb",
   "metadata": {},
   "source": [
    "## Basic test"
   ]
  },
  {
   "cell_type": "code",
   "execution_count": 33,
   "id": "352cffb0-c5a8-4c82-8f61-fce35baf5a22",
   "metadata": {
    "execution": {
     "iopub.execute_input": "2025-04-07T17:50:27.337690Z",
     "iopub.status.busy": "2025-04-07T17:50:27.337490Z",
     "iopub.status.idle": "2025-04-07T17:50:27.346106Z",
     "shell.execute_reply": "2025-04-07T17:50:27.345820Z"
    }
   },
   "outputs": [
    {
     "data": {
      "text/plain": [
       "tensor([[ 41.6172],\n",
       "        [ 21.7346],\n",
       "        [ 54.7012],\n",
       "        [ 53.8505],\n",
       "        [ 71.7095],\n",
       "        [203.5236],\n",
       "        [ 58.8656],\n",
       "        [ 38.5258],\n",
       "        [ 34.2558],\n",
       "        [109.6429]], dtype=torch.float64, grad_fn=<AddmmBackward0>)"
      ]
     },
     "execution_count": 33,
     "metadata": {},
     "output_type": "execute_result"
    }
   ],
   "source": [
    "torch.manual_seed(42)\n",
    "input = torch.randn(10, len(model.features), dtype=float)\n",
    "model.eval()\n",
    "model.to(float)\n",
    "pred = model(input)\n",
    "pred"
   ]
  },
  {
   "cell_type": "markdown",
   "id": "fe8299d7-9285-4e22-82fd-b664434b4369",
   "metadata": {},
   "source": [
    "## Save torch model"
   ]
  },
  {
   "cell_type": "code",
   "execution_count": 34,
   "id": "0c3a2d80-1b5f-458a-926c-cbc0aa9416e1",
   "metadata": {
    "execution": {
     "iopub.execute_input": "2025-04-07T17:50:27.347459Z",
     "iopub.status.busy": "2025-04-07T17:50:27.347364Z",
     "iopub.status.idle": "2025-04-07T17:50:27.350847Z",
     "shell.execute_reply": "2025-04-07T17:50:27.350573Z"
    }
   },
   "outputs": [],
   "source": [
    "torch.save(model, f\"../weights/{model.metadata['clock_name']}.pt\")"
   ]
  },
  {
   "cell_type": "markdown",
   "id": "bac6257b-8d08-4a90-8d0b-7f745dc11ac1",
   "metadata": {},
   "source": [
    "## Clear directory\n",
    "<a id=\"10\"></a>"
   ]
  },
  {
   "cell_type": "code",
   "execution_count": 35,
   "id": "11aeaa70-44c0-42f9-86d7-740e3849a7a6",
   "metadata": {
    "execution": {
     "iopub.execute_input": "2025-04-07T17:50:27.352136Z",
     "iopub.status.busy": "2025-04-07T17:50:27.352040Z",
     "iopub.status.idle": "2025-04-07T17:50:27.360420Z",
     "shell.execute_reply": "2025-04-07T17:50:27.360132Z"
    }
   },
   "outputs": [
    {
     "name": "stdout",
     "output_type": "stream",
     "text": [
      "Deleted file: Grip_noAge_Females.csv\n",
      "Deleted file: Grip_noAge_Males.csv\n",
      "Deleted file: Gait_noAge_Females.csv\n",
      "Deleted file: VO2maxModel.csv\n",
      "Deleted file: AllCpGs.json\n",
      "Deleted file: Gait_noAge_Males.csv\n",
      "Deleted folder: DNAmFitAge\n",
      "Deleted file: download.r\n",
      "Deleted file: FemaleMedians.csv\n",
      "Deleted file: MaleMedians.csv\n"
     ]
    }
   ],
   "source": [
    "# Function to remove a folder and all its contents\n",
    "def remove_folder(path):\n",
    "    try:\n",
    "        shutil.rmtree(path)\n",
    "        print(f\"Deleted folder: {path}\")\n",
    "    except Exception as e:\n",
    "        print(f\"Error deleting folder {path}: {e}\")\n",
    "\n",
    "# Get a list of all files and folders in the current directory\n",
    "all_items = os.listdir('.')\n",
    "\n",
    "# Loop through the items\n",
    "for item in all_items:\n",
    "    # Check if it's a file and does not end with .ipynb\n",
    "    if os.path.isfile(item) and not item.endswith('.ipynb'):\n",
    "        os.remove(item)\n",
    "        print(f\"Deleted file: {item}\")\n",
    "    # Check if it's a folder\n",
    "    elif os.path.isdir(item):\n",
    "        remove_folder(item)"
   ]
  }
 ],
 "metadata": {
  "kernelspec": {
   "display_name": "research",
   "language": "python",
   "name": "python3"
  },
  "language_info": {
   "codemirror_mode": {
    "name": "ipython",
    "version": 3
   },
   "file_extension": ".py",
   "mimetype": "text/x-python",
   "name": "python",
   "nbconvert_exporter": "python",
   "pygments_lexer": "ipython3",
   "version": "3.9.7"
  }
 },
 "nbformat": 4,
 "nbformat_minor": 5
}
