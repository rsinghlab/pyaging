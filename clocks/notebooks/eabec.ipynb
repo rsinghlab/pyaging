{
 "cells": [
  {
   "cell_type": "markdown",
   "id": "2f04eee0-5928-4e74-a754-6dc2e528810c",
   "metadata": {},
   "source": [
    "# eABEC"
   ]
  },
  {
   "cell_type": "markdown",
   "id": "a3f514a3-772c-4a14-afdf-5a8376851ff4",
   "metadata": {},
   "source": [
    "## Index\n",
    "1. [Instantiate model class](#Instantiate-model-class)\n",
    "2. [Define clock metadata](#Define-clock-metadata)\n",
    "3. [Download clock dependencies](#Download-clock-dependencies)\n",
    "5. [Load features](#Load-features)\n",
    "6. [Load weights into base model](#Load-weights-into-base-model)\n",
    "7. [Load reference values](#Load-reference-values)\n",
    "8. [Load preprocess and postprocess objects](#Load-preprocess-and-postprocess-objects)\n",
    "10. [Check all clock parameters](#Check-all-clock-parameters)\n",
    "10. [Basic test](#Basic-test)\n",
    "11. [Save torch model](#Save-torch-model)\n",
    "12. [Clear directory](#Clear-directory)"
   ]
  },
  {
   "cell_type": "markdown",
   "id": "d95fafdc-643a-40ea-a689-200bd132e90c",
   "metadata": {},
   "source": [
    "Let's first import some packages:"
   ]
  },
  {
   "cell_type": "code",
   "execution_count": 1,
   "id": "4adfb4de-cd79-4913-a1af-9e23e9e236c9",
   "metadata": {
    "execution": {
     "iopub.execute_input": "2025-04-07T17:51:19.365826Z",
     "iopub.status.busy": "2025-04-07T17:51:19.365514Z",
     "iopub.status.idle": "2025-04-07T17:51:20.872433Z",
     "shell.execute_reply": "2025-04-07T17:51:20.872056Z"
    }
   },
   "outputs": [],
   "source": [
    "import os\n",
    "import inspect\n",
    "import shutil\n",
    "import json\n",
    "import torch\n",
    "import pandas as pd\n",
    "import pyaging as pya"
   ]
  },
  {
   "cell_type": "markdown",
   "id": "145082e5-ced4-47ae-88c0-cb69773e3c5a",
   "metadata": {},
   "source": [
    "## Instantiate model class"
   ]
  },
  {
   "cell_type": "code",
   "execution_count": 2,
   "id": "8aa77372-7ed3-4da7-abc9-d30372106139",
   "metadata": {
    "execution": {
     "iopub.execute_input": "2025-04-07T17:51:20.874446Z",
     "iopub.status.busy": "2025-04-07T17:51:20.874199Z",
     "iopub.status.idle": "2025-04-07T17:51:20.885600Z",
     "shell.execute_reply": "2025-04-07T17:51:20.885302Z"
    }
   },
   "outputs": [
    {
     "name": "stdout",
     "output_type": "stream",
     "text": [
      "class eABEC(pyagingModel):\n",
      "    def __init__(self):\n",
      "        super().__init__()\n",
      "\n",
      "    def preprocess(self, x):\n",
      "        return x\n",
      "\n",
      "    def postprocess(self, x):\n",
      "        return x\n",
      "\n"
     ]
    }
   ],
   "source": [
    "def print_entire_class(cls):\n",
    "    source = inspect.getsource(cls)\n",
    "    print(source)\n",
    "\n",
    "print_entire_class(pya.models.eABEC)"
   ]
  },
  {
   "cell_type": "code",
   "execution_count": 3,
   "id": "78536494-f1d9-44de-8583-c89a310d2307",
   "metadata": {
    "execution": {
     "iopub.execute_input": "2025-04-07T17:51:20.886931Z",
     "iopub.status.busy": "2025-04-07T17:51:20.886843Z",
     "iopub.status.idle": "2025-04-07T17:51:20.888528Z",
     "shell.execute_reply": "2025-04-07T17:51:20.888256Z"
    }
   },
   "outputs": [],
   "source": [
    "model = pya.models.eABEC()"
   ]
  },
  {
   "cell_type": "markdown",
   "id": "51f8615e-01fa-4aa5-b196-3ee2b35d261c",
   "metadata": {},
   "source": [
    "## Define clock metadata"
   ]
  },
  {
   "cell_type": "code",
   "execution_count": 4,
   "id": "6601da9e-8adc-44ee-9308-75e3cd31b816",
   "metadata": {
    "execution": {
     "iopub.execute_input": "2025-04-07T17:51:20.889911Z",
     "iopub.status.busy": "2025-04-07T17:51:20.889831Z",
     "iopub.status.idle": "2025-04-07T17:51:20.891869Z",
     "shell.execute_reply": "2025-04-07T17:51:20.891621Z"
    }
   },
   "outputs": [],
   "source": [
    "model.metadata[\"clock_name\"] = 'eabec'\n",
    "model.metadata[\"data_type\"] = 'methylation'\n",
    "model.metadata[\"species\"] = 'Homo sapiens'\n",
    "model.metadata[\"year\"] = 2020\n",
    "model.metadata[\"approved_by_author\"] = '⌛'\n",
    "model.metadata[\"citation\"] = \"Lee, Yunsung, et al. \\\"Blood-based epigenetic estimators of chronological age in human adults using DNA methylation data from the Illumina MethylationEPIC array.\\\" BMC genomics 21 (2020): 1-13.\"\n",
    "model.metadata[\"doi\"] = \"https://doi.org/10.1186/s12864-020-07168-8\"\n",
    "model.metadata[\"research_only\"] = None\n",
    "model.metadata[\"notes\"] = None"
   ]
  },
  {
   "cell_type": "markdown",
   "id": "74492239-5aae-4026-9d90-6bc9c574c110",
   "metadata": {},
   "source": [
    "## Download clock dependencies"
   ]
  },
  {
   "cell_type": "markdown",
   "id": "9a5b163b-1b25-4c2f-ad0c-86f0f2ed39d0",
   "metadata": {},
   "source": [
    "#### Download directly with curl"
   ]
  },
  {
   "cell_type": "code",
   "execution_count": 5,
   "id": "28fdcad4-1f62-4da7-b556-1ecc8cf3d0e0",
   "metadata": {
    "execution": {
     "iopub.execute_input": "2025-04-07T17:51:20.893226Z",
     "iopub.status.busy": "2025-04-07T17:51:20.893136Z",
     "iopub.status.idle": "2025-04-07T17:51:21.254945Z",
     "shell.execute_reply": "2025-04-07T17:51:21.254173Z"
    }
   },
   "outputs": [
    {
     "data": {
      "text/plain": [
       "0"
      ]
     },
     "execution_count": 5,
     "metadata": {},
     "output_type": "execute_result"
    }
   ],
   "source": [
    "supplementary_url = \"https://static-content.springer.com/esm/art%3A10.1186%2Fs12864-020-07168-8/MediaObjects/12864_2020_7168_MOESM1_ESM.csv\"\n",
    "supplementary_file_name = \"coefficients.csv\"\n",
    "os.system(f\"curl -o {supplementary_file_name} {supplementary_url}\")"
   ]
  },
  {
   "cell_type": "markdown",
   "id": "5035b180-3d1b-4432-8ebe-b9c92bd93a7f",
   "metadata": {},
   "source": [
    "## Load features"
   ]
  },
  {
   "cell_type": "markdown",
   "id": "15f4af76-b93c-438c-b57f-f129d6e9ec99",
   "metadata": {},
   "source": [
    "#### From CSV file"
   ]
  },
  {
   "cell_type": "code",
   "execution_count": 6,
   "id": "ec85c728",
   "metadata": {
    "execution": {
     "iopub.execute_input": "2025-04-07T17:51:21.258474Z",
     "iopub.status.busy": "2025-04-07T17:51:21.258185Z",
     "iopub.status.idle": "2025-04-07T17:51:21.288673Z",
     "shell.execute_reply": "2025-04-07T17:51:21.288173Z"
    }
   },
   "outputs": [],
   "source": [
    "df = pd.read_csv('coefficients.csv', index_col=0)\n",
    "df = df[~df['eABEC_coefficient'].isna()]\n",
    "df['feature'] = df.index.tolist()\n",
    "df['coefficient'] = df['eABEC_coefficient']\n",
    "model.features = df['feature'][1:].tolist()"
   ]
  },
  {
   "cell_type": "markdown",
   "id": "ee6d8fa0-4767-4c45-9717-eb1c95e2ddc0",
   "metadata": {},
   "source": [
    "## Load weights into base model"
   ]
  },
  {
   "cell_type": "code",
   "execution_count": 7,
   "id": "e09b3463-4fd4-41b1-ac21-e63ddd223fe0",
   "metadata": {
    "execution": {
     "iopub.execute_input": "2025-04-07T17:51:21.290978Z",
     "iopub.status.busy": "2025-04-07T17:51:21.290809Z",
     "iopub.status.idle": "2025-04-07T17:51:21.294138Z",
     "shell.execute_reply": "2025-04-07T17:51:21.293718Z"
    }
   },
   "outputs": [
    {
     "name": "stderr",
     "output_type": "stream",
     "text": [
      "<ipython-input-7-232b7c74dbf3>:2: FutureWarning: Series.__getitem__ treating keys as positions is deprecated. In a future version, integer keys will always be treated as labels (consistent with DataFrame behavior). To access a value by position, use `ser.iloc[pos]`\n",
      "  intercept = torch.tensor([df['coefficient'][0]])\n"
     ]
    }
   ],
   "source": [
    "weights = torch.tensor(df['coefficient'][1:].tolist()).unsqueeze(0)\n",
    "intercept = torch.tensor([df['coefficient'][0]])"
   ]
  },
  {
   "cell_type": "markdown",
   "id": "ad261636-5b00-4979-bb1d-67a851f7aa19",
   "metadata": {},
   "source": [
    "#### Linear model"
   ]
  },
  {
   "cell_type": "code",
   "execution_count": 8,
   "id": "d7f43b99-26f2-4622-9a76-316712058877",
   "metadata": {
    "execution": {
     "iopub.execute_input": "2025-04-07T17:51:21.295924Z",
     "iopub.status.busy": "2025-04-07T17:51:21.295783Z",
     "iopub.status.idle": "2025-04-07T17:51:21.298738Z",
     "shell.execute_reply": "2025-04-07T17:51:21.298327Z"
    }
   },
   "outputs": [],
   "source": [
    "base_model = pya.models.LinearModel(input_dim=len(model.features))\n",
    "\n",
    "base_model.linear.weight.data = weights.float()\n",
    "base_model.linear.bias.data = intercept.float()\n",
    "\n",
    "model.base_model = base_model"
   ]
  },
  {
   "cell_type": "markdown",
   "id": "ad8b4c1d-9d57-48b7-9a30-bcfea7b747b1",
   "metadata": {},
   "source": [
    "## Load reference values"
   ]
  },
  {
   "cell_type": "code",
   "execution_count": 9,
   "id": "86de757f-fb38-4bcb-b91e-fc3372d22aad",
   "metadata": {
    "execution": {
     "iopub.execute_input": "2025-04-07T17:51:21.300523Z",
     "iopub.status.busy": "2025-04-07T17:51:21.300383Z",
     "iopub.status.idle": "2025-04-07T17:51:21.302438Z",
     "shell.execute_reply": "2025-04-07T17:51:21.302039Z"
    }
   },
   "outputs": [],
   "source": [
    "model.reference_values = None"
   ]
  },
  {
   "cell_type": "markdown",
   "id": "af3bcf7b-74a8-4d21-9ccb-4de0c2b0516b",
   "metadata": {},
   "source": [
    "## Load preprocess and postprocess objects"
   ]
  },
  {
   "cell_type": "code",
   "execution_count": 10,
   "id": "7a22fb20-c605-424d-8efb-7620c2c0755c",
   "metadata": {
    "execution": {
     "iopub.execute_input": "2025-04-07T17:51:21.304273Z",
     "iopub.status.busy": "2025-04-07T17:51:21.304126Z",
     "iopub.status.idle": "2025-04-07T17:51:21.305981Z",
     "shell.execute_reply": "2025-04-07T17:51:21.305633Z"
    }
   },
   "outputs": [],
   "source": [
    "model.preprocess_name = None\n",
    "model.preprocess_dependencies = None"
   ]
  },
  {
   "cell_type": "code",
   "execution_count": 11,
   "id": "ff4a21cb-cf41-44dc-9ed1-95cf8aa15772",
   "metadata": {
    "execution": {
     "iopub.execute_input": "2025-04-07T17:51:21.307511Z",
     "iopub.status.busy": "2025-04-07T17:51:21.307382Z",
     "iopub.status.idle": "2025-04-07T17:51:21.309188Z",
     "shell.execute_reply": "2025-04-07T17:51:21.308856Z"
    }
   },
   "outputs": [],
   "source": [
    "model.postprocess_name = None\n",
    "model.postprocess_dependencies = None"
   ]
  },
  {
   "cell_type": "markdown",
   "id": "86e3d6b1-e67e-4f3d-bd39-0ebec5726c3c",
   "metadata": {},
   "source": [
    "## Check all clock parameters"
   ]
  },
  {
   "cell_type": "code",
   "execution_count": 12,
   "id": "2168355c-47d9-475d-b816-49f65e74887c",
   "metadata": {
    "execution": {
     "iopub.execute_input": "2025-04-07T17:51:21.310863Z",
     "iopub.status.busy": "2025-04-07T17:51:21.310727Z",
     "iopub.status.idle": "2025-04-07T17:51:21.314879Z",
     "shell.execute_reply": "2025-04-07T17:51:21.314598Z"
    }
   },
   "outputs": [
    {
     "name": "stdout",
     "output_type": "stream",
     "text": [
      "\n",
      "%==================================== Model Details ====================================%\n",
      "Model Attributes:\n",
      "\n",
      "training: True\n",
      "metadata: {'approved_by_author': '⌛',\n",
      " 'citation': 'Lee, Yunsung, et al. \"Blood-based epigenetic estimators of '\n",
      "             'chronological age in human adults using DNA methylation data '\n",
      "             'from the Illumina MethylationEPIC array.\" BMC genomics 21 '\n",
      "             '(2020): 1-13.',\n",
      " 'clock_name': 'eabec',\n",
      " 'data_type': 'methylation',\n",
      " 'doi': 'https://doi.org/10.1186/s12864-020-07168-8',\n",
      " 'notes': None,\n",
      " 'research_only': None,\n",
      " 'species': 'Homo sapiens',\n",
      " 'version': None,\n",
      " 'year': 2020}\n",
      "reference_values: None\n",
      "preprocess_name: None\n",
      "preprocess_dependencies: None\n",
      "postprocess_name: None\n",
      "postprocess_dependencies: None\n",
      "features: ['cg00004257', 'cg00008488', 'cg00011943', 'cg00065598', 'cg00085420', 'cg00089915', 'cg00108554', 'cg00112685', 'cg00116092', 'cg00148464', 'cg00156551', 'cg00172672', 'cg00172812', 'cg00193490', 'cg00203466', 'cg00262681', 'cg00277039', 'cg00314660', 'cg00331334', 'cg00358895', 'cg00370293', 'cg00397859', 'cg00403955', 'cg00406023', 'cg00433107', 'cg00433147', 'cg00448707', 'cg00451649', 'cg00462994', 'cg00464640']... [Total elements: 1791]\n",
      "base_model_features: None\n",
      "\n",
      "%==================================== Model Details ====================================%\n",
      "Model Structure:\n",
      "\n",
      "base_model: LinearModel(\n",
      "  (linear): Linear(in_features=1791, out_features=1, bias=True)\n",
      ")\n",
      "\n",
      "%==================================== Model Details ====================================%\n",
      "Model Parameters and Weights:\n",
      "\n",
      "base_model.linear.weight: [-0.13636688888072968, 0.4104917645454407, -0.1868274211883545, -0.6996904015541077, 0.06039871275424957, -1.105724573135376, -0.6053839325904846, 0.257280170917511, 1.429580807685852, -0.3176504671573639, -1.394605278968811, 0.5383281707763672, -0.20417840778827667, -0.24422131478786469, 0.39952561259269714, -0.7541750073432922, -0.4692278504371643, -0.41090691089630127, -0.31093716621398926, -1.232325792312622, -0.17881448566913605, 0.1435064822435379, 0.12202632427215576, 0.4819614887237549, 1.965001106262207, 0.4566323161125183, 0.6106359362602234, -0.11658059060573578, 0.16059798002243042, 0.3613723814487457]... [Tensor of shape torch.Size([1, 1791])]\n",
      "base_model.linear.bias: tensor([66.6889])\n",
      "\n",
      "%==================================== Model Details ====================================%\n",
      "\n"
     ]
    }
   ],
   "source": [
    "pya.utils.print_model_details(model)"
   ]
  },
  {
   "cell_type": "markdown",
   "id": "986d0262-e0c7-4036-b687-dee53ba392fb",
   "metadata": {},
   "source": [
    "## Basic test"
   ]
  },
  {
   "cell_type": "code",
   "execution_count": 13,
   "id": "936b9877-d076-4ced-99aa-e8d4c58c5caf",
   "metadata": {
    "execution": {
     "iopub.execute_input": "2025-04-07T17:51:21.316523Z",
     "iopub.status.busy": "2025-04-07T17:51:21.316417Z",
     "iopub.status.idle": "2025-04-07T17:51:21.321043Z",
     "shell.execute_reply": "2025-04-07T17:51:21.320755Z"
    }
   },
   "outputs": [
    {
     "data": {
      "text/plain": [
       "tensor([[121.0829],\n",
       "        [-18.7480],\n",
       "        [ 52.5807],\n",
       "        [108.6319],\n",
       "        [160.1949],\n",
       "        [-13.6727],\n",
       "        [ 85.8163],\n",
       "        [161.8762],\n",
       "        [  6.2744],\n",
       "        [ 14.7447]], dtype=torch.float64, grad_fn=<AddmmBackward0>)"
      ]
     },
     "execution_count": 13,
     "metadata": {},
     "output_type": "execute_result"
    }
   ],
   "source": [
    "torch.manual_seed(42)\n",
    "input = torch.randn(10, len(model.features), dtype=float)\n",
    "model.eval()\n",
    "model.to(float)\n",
    "pred = model(input)\n",
    "pred"
   ]
  },
  {
   "cell_type": "markdown",
   "id": "fe8299d7-9285-4e22-82fd-b664434b4369",
   "metadata": {},
   "source": [
    "## Save torch model"
   ]
  },
  {
   "cell_type": "code",
   "execution_count": 14,
   "id": "5ef2fa8d-c80b-4fdd-8555-79c0d541788e",
   "metadata": {
    "execution": {
     "iopub.execute_input": "2025-04-07T17:51:21.322497Z",
     "iopub.status.busy": "2025-04-07T17:51:21.322395Z",
     "iopub.status.idle": "2025-04-07T17:51:21.326272Z",
     "shell.execute_reply": "2025-04-07T17:51:21.325986Z"
    }
   },
   "outputs": [],
   "source": [
    "torch.save(model, f\"../weights/{model.metadata['clock_name']}.pt\")"
   ]
  },
  {
   "cell_type": "markdown",
   "id": "bac6257b-8d08-4a90-8d0b-7f745dc11ac1",
   "metadata": {},
   "source": [
    "## Clear directory\n",
    "<a id=\"10\"></a>"
   ]
  },
  {
   "cell_type": "code",
   "execution_count": 15,
   "id": "11aeaa70-44c0-42f9-86d7-740e3849a7a6",
   "metadata": {
    "execution": {
     "iopub.execute_input": "2025-04-07T17:51:21.327608Z",
     "iopub.status.busy": "2025-04-07T17:51:21.327512Z",
     "iopub.status.idle": "2025-04-07T17:51:21.330823Z",
     "shell.execute_reply": "2025-04-07T17:51:21.330556Z"
    }
   },
   "outputs": [
    {
     "name": "stdout",
     "output_type": "stream",
     "text": [
      "Deleted file: coefficients.csv\n"
     ]
    }
   ],
   "source": [
    "# Function to remove a folder and all its contents\n",
    "def remove_folder(path):\n",
    "    try:\n",
    "        shutil.rmtree(path)\n",
    "        print(f\"Deleted folder: {path}\")\n",
    "    except Exception as e:\n",
    "        print(f\"Error deleting folder {path}: {e}\")\n",
    "\n",
    "# Get a list of all files and folders in the current directory\n",
    "all_items = os.listdir('.')\n",
    "\n",
    "# Loop through the items\n",
    "for item in all_items:\n",
    "    # Check if it's a file and does not end with .ipynb\n",
    "    if os.path.isfile(item) and not item.endswith('.ipynb'):\n",
    "        os.remove(item)\n",
    "        print(f\"Deleted file: {item}\")\n",
    "    # Check if it's a folder\n",
    "    elif os.path.isdir(item):\n",
    "        remove_folder(item)"
   ]
  }
 ],
 "metadata": {
  "kernelspec": {
   "display_name": "research",
   "language": "python",
   "name": "python3"
  },
  "language_info": {
   "codemirror_mode": {
    "name": "ipython",
    "version": 3
   },
   "file_extension": ".py",
   "mimetype": "text/x-python",
   "name": "python",
   "nbconvert_exporter": "python",
   "pygments_lexer": "ipython3",
   "version": "3.9.7"
  }
 },
 "nbformat": 4,
 "nbformat_minor": 5
}
